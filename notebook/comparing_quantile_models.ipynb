{
 "cells": [
  {
   "cell_type": "code",
   "execution_count": 4,
   "metadata": {},
   "outputs": [
    {
     "name": "stdout",
     "output_type": "stream",
     "text": [
      "Defaulting to user installation because normal site-packages is not writeable\n",
      "Requirement already satisfied: scikit-learn in /home/ext_navish_iitkgp_gmail_com/.local/lib/python3.8/site-packages (1.2.0)\n",
      "Requirement already satisfied: joblib>=1.1.1 in /home/ext_navish_iitkgp_gmail_com/.local/lib/python3.8/site-packages (from scikit-learn) (1.2.0)\n",
      "Requirement already satisfied: numpy>=1.17.3 in /home/ext_navish_iitkgp_gmail_com/.local/lib/python3.8/site-packages (from scikit-learn) (1.23.4)\n",
      "Requirement already satisfied: threadpoolctl>=2.0.0 in /opt/conda/miniconda3/lib/python3.8/site-packages (from scikit-learn) (3.1.0)\n",
      "Requirement already satisfied: scipy>=1.3.2 in /home/ext_navish_iitkgp_gmail_com/.local/lib/python3.8/site-packages (from scikit-learn) (1.9.3)\n"
     ]
    }
   ],
   "source": [
    "!pip install -U scikit-learn"
   ]
  },
  {
   "cell_type": "code",
   "execution_count": 96,
   "metadata": {},
   "outputs": [
    {
     "name": "stdout",
     "output_type": "stream",
     "text": [
      "The autoreload extension is already loaded. To reload it, use:\n",
      "  %reload_ext autoreload\n",
      "read_cities(*(PosixPath('/gcsmount-research-data-staging/osmnx-cities/hexed-complete'),), **{'cities': ['Boston, USA', 'Austin, USA', 'Seattle, USA', 'Los Angeles, USA'], 'add_city_col': True})\n",
      "create_super_tags(*(), **{})\n",
      "Merge building_residential + building_house -> building_yes(*(), **{})\n",
      "drop_zero_buildings(*(), **{})\n",
      "drop_zero_building_area(*(), **{})\n",
      "add_new_special_tag(*('building.area.average',), **{})\n",
      "add_new_special_tag(*('parking.area.average',), **{})\n",
      "append_route_df(*(), **{'grouped': False, 'tukey_fences': False})\n",
      "open_route_df(*(), **{'grouped': False, 'tukey_fences': False})\n",
      "drop_zero_tags(*(), **{})\n"
     ]
    }
   ],
   "source": [
    "%load_ext autoreload\n",
    "%autoreload 2\n",
    "\n",
    "# --------------------------------------------------------------------------------\n",
    "\n",
    "import os\n",
    "import sys\n",
    "from pathlib import Path\n",
    "import numpy as np\n",
    "np.warnings.filterwarnings('ignore')\n",
    "\n",
    "# hex2cec\n",
    "HOME = os.environ[\"HOME\"]\n",
    "\n",
    "sys.path.insert(0, f\"{os.environ['HOME']}/hex2vec\")\n",
    "sys.path.insert(0, f\"{os.environ['HOME']}/amazon-routing-challenge\")\n",
    "\n",
    "# add codebase\n",
    "sys.path.insert(0, f\"/gcsmount-notebook/codebase\")\n",
    "\n",
    "from src.data.make_dataset import h3_to_polygon\n",
    "import urban_tools.constants as uc\n",
    "import urban_tools.hex_pipeline as hp\n",
    "from urban_tools.hex_pipeline import RouteHexHandler, TestTrainManager\n",
    "from urban_tools.pipelines import route_hex_pipeline\n",
    "import numpy as np\n",
    "import plotly.graph_objects as go\n",
    "import pandas as pd\n",
    "import geopandas as gpd\n",
    "import h3\n",
    "import gcsfs\n",
    "\n",
    "%matplotlib inline\n",
    "import matplotlib.pyplot as plt\n",
    "## Read in the DataFrame\n",
    "\n",
    "p = Path(\"/gcsmount-research-data-staging/osmnx-cities/hexed-routes/12.12.22-Revised-Embeddings/hh.pkl\")\n",
    "hh = RouteHexHandler.from_pickle(p)\n",
    "hh.print_history()\n",
    "hh = hh.drop_zero_tags()\n",
    "### Drop Tags that occur in <X% of a City\n",
    "# percentage = 0.01\n",
    "# import pandas as pd\n",
    "\n",
    "# drop_cols = pd.Index([])\n",
    "# for _hh in [hh]:\n",
    "#     assert _hh.df[\"city\"].unique().shape[0] == 1\n",
    "#     h3_df = _hh.df.groupby('h3')[_hh.all_tags].first()\n",
    "#     percent_occurance = (h3_df > 0).sum() / h3_df.shape[0]\n",
    "#     drop_cols = drop_cols.union(percent_occurance[percent_occurance < percentage].index)\n",
    "# hh.drop_cols(drop_cols)\n",
    "# len(hh.all_tags)\n",
    "### Append the embedding to the dataframe\n",
    "# embedding_df = pd.read_parquet(\n",
    "#     hh.my_folder / \"embeddings.prq\"\n",
    "# )\n",
    "embedding_df = pd.read_feather(\n",
    "    \"/gcsmount-research-data-staging/hex2vec-models/paper-final/embedding_dfs/subtags+cities+littlemodel.feather\"\n",
    ")\n",
    "embedding_df = embedding_df.set_index(\"h3\")\n",
    "# embedding_df.columns = [f\"e_{e}\" for e in embedding_df.columns]\n",
    "# embedding_df = embedding_df[embedding_df.columns.str.]\n",
    "# embedding_columns = embedding_df.columns.copy()\n",
    "# embedding_df = embedding_df.reset_index()\n",
    "\n",
    "hh.df = hh.df.merge(embedding_df, on=\"h3\", how=\"left\")\n",
    "hh.update_tags()\n",
    "hh.df = hh.df.dropna(subset=hh.embeddings)\n",
    "### Filter for only H3 with > X Data Points\n",
    "\n",
    "# tagged_df = tagged_df.loc[tagged_df[\"h3_9\"] > 20].copy()\n",
    "hh = hh.filter_hex_occurance(20)\n",
    "hh.df = hh.df[hh.df.city.str.contains('Boston')]\n",
    "# hh.df.drop(\"h3_9\", axis=1, inplace=True)\n",
    "# print(tagged_df.shape)\n",
    "hh.df = hh.df.reset_index(drop=True)"
   ]
  },
  {
   "attachments": {},
   "cell_type": "markdown",
   "metadata": {},
   "source": [
    "### Create the TT Manager"
   ]
  },
  {
   "cell_type": "code",
   "execution_count": 97,
   "metadata": {},
   "outputs": [],
   "source": [
    "from sklearn.model_selection import train_test_split, KFold, cross_val_score\n",
    "from sklearn.preprocessing import StandardScaler, MinMaxScaler, RobustScaler\n",
    "from sklearn import metrics\n",
    "from scipy.stats import pearsonr"
   ]
  },
  {
   "cell_type": "code",
   "execution_count": 98,
   "metadata": {},
   "outputs": [],
   "source": [
    "tt = TestTrainManager(\n",
    "    hh.df,\n",
    "    x_col=hh.embeddings.union(hh.special_tags).union(hh.super_tags),\n",
    "    y_col=[\"planned_service_time_log\"],\n",
    "    scaler=RobustScaler,\n",
    "    grouped=False,\n",
    "    desired_quantiles=[0.1, 0.5, 0.90]\n",
    ")\n",
    "\n",
    "tt.split_test_train(train_size=0.8, random_seed=42)\n",
    "tt.scale_test_train()\n",
    "# split the tt.X_test into several chunks. Have to do this because of memory issues\n",
    "tt.build_test_df(agg=False)"
   ]
  },
  {
   "cell_type": "code",
   "execution_count": 99,
   "metadata": {},
   "outputs": [],
   "source": [
    "X_train, y_train, X_test, y_test = tt.X_train.values, tt.Y_train.planned_service_time_log.values.ravel(), tt.X_test.values, tt.Y_test.loc.values\n",
    "X_train, X_cal, y_train, y_cal = train_test_split(X_train, y_train, test_size=0.2, random_state=42)"
   ]
  },
  {
   "cell_type": "code",
   "execution_count": 100,
   "metadata": {},
   "outputs": [
    {
     "data": {
      "text/plain": [
       "((14135, 74), (3347, 74))"
      ]
     },
     "execution_count": 100,
     "metadata": {},
     "output_type": "execute_result"
    }
   ],
   "source": [
    "tt.X_train.shape, tt.X_test.shape"
   ]
  },
  {
   "cell_type": "code",
   "execution_count": 101,
   "metadata": {},
   "outputs": [
    {
     "data": {
      "text/plain": [
       "((11308, 74), (2827, 74), (3347, 74))"
      ]
     },
     "execution_count": 101,
     "metadata": {},
     "output_type": "execute_result"
    }
   ],
   "source": [
    "X_train.shape, X_cal.shape, X_test.shape"
   ]
  },
  {
   "attachments": {},
   "cell_type": "markdown",
   "metadata": {},
   "source": [
    "## PCA"
   ]
  },
  {
   "cell_type": "code",
   "execution_count": 102,
   "metadata": {},
   "outputs": [],
   "source": [
    "import numpy as np\n",
    "import pandas as pd\n",
    "import plotly.express as px\n",
    "import matplotlib.pyplot as plt\n",
    "from sklearn.decomposition import PCA, KernelPCA\n",
    "import statistics as stat\n",
    "from sklearn.linear_model import LinearRegression\n",
    "import math\n",
    "from sklearn import metrics\n",
    "%matplotlib inline"
   ]
  },
  {
   "cell_type": "code",
   "execution_count": 103,
   "metadata": {},
   "outputs": [
    {
     "data": {
      "image/png": "[encoded data removed]",
      "text/plain": [
       "<Figure size 1080x360 with 2 Axes>"
      ]
     },
     "metadata": {
      "needs_background": "light"
     },
     "output_type": "display_data"
    }
   ],
   "source": [
    "# n_components = X_train.shape[1]\n",
    "n_components = 5\n",
    "pca = PCA(n_components=n_components)\n",
    "# pca = KernelPCA(n_components=n_components, kernel='rbf', gamma=0.1)\n",
    "X_pca = pca.fit_transform(X_train)\n",
    "explained_variance=pca.explained_variance_ratio_\n",
    "\n",
    "# explained_variance = np.var(X_pca, axis=0) / np.sum(np.var(X_pca, axis=0))\n",
    "\n",
    "# create subplots for cumulative explained variance and individual explained variance\n",
    "fig, (ax1, ax2) = plt.subplots(1, 2, figsize=(15, 5))\n",
    "\n",
    "# plot individual explained variance\n",
    "ax1.bar(range(n_components), explained_variance, label='individual explained variance')\n",
    "ax1.set_xlabel(f'Principal components = {n_components}')\n",
    "ax1.set_ylabel('Explained variance')\n",
    "ax1.legend()\n",
    "\n",
    "# plot cumulative explained variance\n",
    "ax2.plot(np.cumsum(explained_variance))\n",
    "ax2.set_xlabel('Number of components')\n",
    "ax2.set_ylabel('Cumulative explained variance')\n",
    "\n",
    "plt.show()\n"
   ]
  },
  {
   "attachments": {},
   "cell_type": "markdown",
   "metadata": {},
   "source": [
    "## Comparing Quantile/Conformal Predictions using 5-PCA components"
   ]
  },
  {
   "attachments": {},
   "cell_type": "markdown",
   "metadata": {},
   "source": [
    "### 1.  [Conformal Quantile Regression](https://arxiv.org/pdf/1905.03222.pdf)"
   ]
  },
  {
   "cell_type": "code",
   "execution_count": 104,
   "metadata": {},
   "outputs": [],
   "source": [
    "import numpy as np\n",
    "from quantile_forest import RandomForestQuantileRegressor\n",
    "\n",
    "alpha = .5\n",
    "\n",
    "# 1. Fit quantile regression model on training data\n",
    "model = RandomForestQuantileRegressor(n_jobs=-1).fit(X_pca, y_train)\n",
    "\n",
    "# 2. Make prediction on calibration data\n",
    "y_cal_interval_pred = np.column_stack([\n",
    "    model.predict(pca.fit_transform(X_cal), quantiles=[(alpha/2)]), \n",
    "    model.predict(pca.fit_transform(X_cal), quantiles=[(1-alpha/2)])])\n",
    "\n",
    "# 3. Compute conformity scores on calibration data\n",
    "y_cal_conformity_scores = np.maximum(\n",
    "    y_cal_interval_pred[:,0] - y_cal, \n",
    "    y_cal - y_cal_interval_pred[:,1])\n",
    "\n",
    "# 4. Get 1-alpha quantile from the distribution of conformity scores\n",
    "\n",
    "#    Note: this is a single number\n",
    "quantile_conformity_scores = np.quantile(\n",
    "    y_cal_conformity_scores, 1-alpha)\n",
    "    \n",
    "# 5. Make prediction on test data\n",
    "y_test_interval_pred = np.column_stack([\n",
    "    model.predict(pca.fit_transform(X_test), quantiles=[(alpha/2)]), \n",
    "    model.predict(pca.fit_transform(X_test), quantiles=[(1-alpha/2)])])\n",
    "\n",
    "# 6. Compute left (right) end of the interval by\n",
    "#    subtracting (adding) the quantile to the predictions\n",
    "\n",
    "y_test_interval_pred_cqr = np.column_stack([\n",
    "    y_test_interval_pred[:,0] - quantile_conformity_scores,\n",
    "    y_test_interval_pred[:,1] + quantile_conformity_scores])"
   ]
  },
  {
   "cell_type": "code",
   "execution_count": 124,
   "metadata": {},
   "outputs": [],
   "source": [
    "from sklearn.ensemble import RandomForestRegressor\n",
    "from mapie.regression import MapieRegressor\n",
    "from mapie.metrics import regression_coverage_score\n",
    "\n",
    "alpha = 0.1\n",
    "estimator = RandomForestRegressor(n_jobs=-1).fit(X_train, y_train)\n",
    "mapie = MapieRegressor(estimator=estimator, cv=\"prefit\").fit(X_cal, y_cal)\n",
    "\n",
    "y_test_pred, y_test_pis = mapie.predict(X_test, alpha=alpha)\n",
    "y_test_interval_pred_mapie = y_test_pis.reshape(-1,2)"
   ]
  },
  {
   "cell_type": "code",
   "execution_count": 106,
   "metadata": {},
   "outputs": [
    {
     "data": {
      "text/html": [
       "<div>\n",
       "<style scoped>\n",
       "    .dataframe tbody tr th:only-of-type {\n",
       "        vertical-align: middle;\n",
       "    }\n",
       "\n",
       "    .dataframe tbody tr th {\n",
       "        vertical-align: top;\n",
       "    }\n",
       "\n",
       "    .dataframe thead th {\n",
       "        text-align: right;\n",
       "    }\n",
       "</style>\n",
       "<table border=\"1\" class=\"dataframe\">\n",
       "  <thead>\n",
       "    <tr style=\"text-align: right;\">\n",
       "      <th></th>\n",
       "      <th>% out of interval</th>\n",
       "      <th>average interval width</th>\n",
       "    </tr>\n",
       "  </thead>\n",
       "  <tbody>\n",
       "    <tr>\n",
       "      <th>Mapie</th>\n",
       "      <td>0.100388</td>\n",
       "      <td>2.063218</td>\n",
       "    </tr>\n",
       "    <tr>\n",
       "      <th>RandomForestQuantileRegressor</th>\n",
       "      <td>0.498058</td>\n",
       "      <td>0.905908</td>\n",
       "    </tr>\n",
       "    <tr>\n",
       "      <th>CQR</th>\n",
       "      <td>0.498058</td>\n",
       "      <td>0.905908</td>\n",
       "    </tr>\n",
       "  </tbody>\n",
       "</table>\n",
       "</div>"
      ],
      "text/plain": [
       "                               % out of interval  average interval width\n",
       "Mapie                                   0.100388                2.063218\n",
       "RandomForestQuantileRegressor           0.498058                0.905908\n",
       "CQR                                     0.498058                0.905908"
      ]
     },
     "execution_count": 106,
     "metadata": {},
     "output_type": "execute_result"
    }
   ],
   "source": [
    "strategies = {'Mapie':{}, 'RandomForestQuantileRegressor':{}, 'CQR':{}}\n",
    "intervals = [y_test_interval_pred_mapie, y_test_interval_pred, y_test_interval_pred_cqr]\n",
    "\n",
    "for id, strategy in enumerate(strategies.keys()):\n",
    "    if '% out of interval' not in strategies[strategy].keys():\n",
    "        strategies[strategy]['% out of interval'] = 1-regression_coverage_score(y_test, intervals[id][:, 0], intervals[id][:, 1])\n",
    "    if 'average interval width' not in strategies[strategy].keys():\n",
    "        strategies[strategy]['average interval width'] = np.mean(intervals[id][:, 1] - intervals[id][:, 0])\n",
    "\n",
    "pd.DataFrame(strategies).T"
   ]
  },
  {
   "attachments": {},
   "cell_type": "markdown",
   "metadata": {},
   "source": [
    "#### Choosing quantiles is best for predictions"
   ]
  },
  {
   "attachments": {},
   "cell_type": "markdown",
   "metadata": {},
   "source": [
    "* get empirical points for every hexagon!"
   ]
  },
  {
   "cell_type": "code",
   "execution_count": 125,
   "metadata": {},
   "outputs": [],
   "source": [
    "h3_index = hh.df.loc[tt._test_slice, 'h3']\n",
    "test_df = tt.Y_test.loc.groupby(h3_index).agg({'mean', 'std'})\n",
    "y_test_std = test_df['std']"
   ]
  },
  {
   "cell_type": "code",
   "execution_count": 126,
   "metadata": {},
   "outputs": [],
   "source": [
    "empirical_pts_df = hh.df.loc[hh.df['h3'].isin(test_df.index)].groupby('h3').apply(lambda x: x['planned_service_time'].values)\n",
    "empirical_pts_df = empirical_pts_df[test_df.index]\n",
    "# y_test_std = np.array([tt.scaler.Y.transform(x.reshape(-1, 1)).std() for x in empirical_pts_df.values])"
   ]
  },
  {
   "attachments": {},
   "cell_type": "markdown",
   "metadata": {},
   "source": [
    "##### calculate standard deviation (`std`) using empirical points inside every hexagon!"
   ]
  },
  {
   "cell_type": "code",
   "execution_count": 109,
   "metadata": {},
   "outputs": [
    {
     "name": "stdout",
     "output_type": "stream",
     "text": [
      "CI: 50%\n",
      "% out of interval: 1.00, average interval width: 0.0\n",
      "Test Mean: MAPE= 1.181, Test RMSE= 0.200, Test R2= 0.525\n",
      "Test lower Quantile: MAPE= 6.503, Test RMSE: 0.218, Test R2: 0.543\n",
      "Test Upper Quantile: MAPE= 20.286, Test RMSE: 0.219, Test R2: 0.542\n",
      "----------------------------------------------------------------------\n",
      "CI: 75%\n",
      "% out of interval: 0.51, average interval width: 0.84\n",
      "Test Mean: MAPE= 1.238, Test RMSE= 0.198, Test R2= 0.531\n",
      "Test lower Quantile: MAPE= 14244095194132.010, Test RMSE: 0.200, Test R2: 0.495\n",
      "Test Upper Quantile: MAPE= 2.664, Test RMSE: 0.249, Test R2: 0.437\n",
      "----------------------------------------------------------------------\n",
      "CI: 87%\n",
      "% out of interval: 0.26, average interval width: 1.42\n",
      "Test Mean: MAPE= 1.191, Test RMSE= 0.204, Test R2= 0.504\n",
      "Test lower Quantile: MAPE= 0.528, Test RMSE: 0.227, Test R2: 0.271\n",
      "Test Upper Quantile: MAPE= 0.738, Test RMSE: 0.281, Test R2: 0.358\n",
      "----------------------------------------------------------------------\n",
      "CI: 92%\n",
      "% out of interval: 0.16, average interval width: 1.79\n",
      "Test Mean: MAPE= 1.218, Test RMSE= 0.199, Test R2= 0.529\n",
      "Test lower Quantile: MAPE= 0.418, Test RMSE: 0.258, Test R2: 0.036\n",
      "Test Upper Quantile: MAPE= 0.469, Test RMSE: 0.287, Test R2: 0.382\n",
      "----------------------------------------------------------------------\n",
      "CI: 95%\n",
      "% out of interval: 0.10, average interval width: 2.07\n",
      "Test Mean: MAPE= 1.214, Test RMSE= 0.200, Test R2= 0.522\n",
      "Test lower Quantile: MAPE= 0.391, Test RMSE: 0.311, Test R2: -0.236\n",
      "Test Upper Quantile: MAPE= 0.418, Test RMSE: 0.315, Test R2: 0.355\n",
      "----------------------------------------------------------------------\n",
      "CI: 97%\n",
      "% out of interval: 0.06, average interval width: 2.45\n",
      "Test Mean: MAPE= 1.187, Test RMSE= 0.199, Test R2= 0.528\n",
      "Test lower Quantile: MAPE= 0.370, Test RMSE: 0.357, Test R2: -0.741\n",
      "Test Upper Quantile: MAPE= 0.329, Test RMSE: 0.341, Test R2: 0.322\n",
      "----------------------------------------------------------------------\n",
      "CI: 99%\n",
      "% out of interval: 0.01, average interval width: 3.47\n",
      "Test Mean: MAPE= 1.166, Test RMSE= 0.201, Test R2= 0.519\n",
      "Test lower Quantile: MAPE= 0.634, Test RMSE: 0.684, Test R2: -4.757\n",
      "Test Upper Quantile: MAPE= 0.515, Test RMSE: 0.567, Test R2: -0.342\n",
      "----------------------------------------------------------------------\n"
     ]
    }
   ],
   "source": [
    "from sklearn.metrics import mean_squared_error, mean_absolute_percentage_error, r2_score\n",
    "\n",
    "def get_test_predicted_intervals(X_train, y_train, X_cal, y_cal, X_test, alpha):\n",
    "    \n",
    "    estimator = RandomForestRegressor(n_jobs=-1).fit(X_train, y_train)\n",
    "    mapie = MapieRegressor(estimator=estimator, cv=\"prefit\").fit(X_cal, y_cal)\n",
    "\n",
    "    y_train_mean_pred, _ = mapie.predict(X_train, alpha=alpha)\n",
    "    y_test_mean_pred, y_test_pis = mapie.predict(X_test, alpha=alpha)\n",
    "\n",
    "    h3_index = hh.df.loc[tt._test_slice, 'h3']\n",
    "    y_data = pd.DataFrame({'y_test':y_test, 'y_test_mean_pred':y_test_mean_pred, 'y_pred_lb':y_test_pis[:,0].ravel(), 'y_pred_ub':y_test_pis[:,1].ravel()}, index = h3_index)\n",
    "\n",
    "    #  print coverage score and average interval width\n",
    "    print(f'% out of interval: {(1-regression_coverage_score(y_test, y_test_pis[:, 0], y_test_pis[:, 1])):.2f}, average interval width: {round(np.mean(y_test_pis[:, 1] - y_test_pis[:, 0]), 2)}')\n",
    "\n",
    "\n",
    "    # get the y_pred_df\n",
    "    y_pred_df = y_data.groupby('h3')[['y_test_mean_pred', 'y_pred_lb', 'y_pred_ub']].first()\n",
    "    y_pred_df['y_test'] = y_data.groupby('h3')[['y_test']].mean()\n",
    "\n",
    "    # Only true for alpha = 0.1, for other values, the constant is different than 3.92!\n",
    "    N = np.array([len(x) for x in empirical_pts_df.values])\n",
    "    # if alpha == 0.1:\n",
    "    #     y_test_std_pred =  ((y_pred_df['y_pred_ub'] - y_pred_df['y_pred_lb'])/5.15).ravel()\n",
    "    # elif alpha == 0.05:\n",
    "    #     y_test_std_pred = ((y_pred_df['y_pred_ub'] - y_pred_df['y_pred_lb'])/3.92).ravel()\n",
    "    # elif alpha == 0.01:\n",
    "    #     y_test_std_pred = ((y_pred_df['y_pred_ub'] - y_pred_df['y_pred_lb'])/3.29).ravel()\n",
    "    # else:\n",
    "    #     raise ValueError('Alpha not implemented')\n",
    "\n",
    "    # y_pred_df['y_test_std'] = y_test_std_pred\n",
    "    # print(y_test_std_pred[:5])\n",
    "\n",
    "    # True upper and lower quantiles  \n",
    "    scaled_true_lb = tt.Y_test.loc.groupby(h3_index).apply(lambda x: np.quantile(x, alpha/2))\n",
    "    scaled_true_ub = tt.Y_test.loc.groupby(h3_index).apply(lambda x: np.quantile(x, 1-alpha/2))\n",
    "\n",
    "    # print(f'Train MAPE: {mean_absolute_percentage_error(y_train, y_train_mean_pred):.3f}, Train RMSE: {mean_squared_error(y_train, y_train_mean_pred, squared=False):.3f}, Train R2: {r2_score(y_train, y_train_mean_pred):.3f}')\n",
    "    print(f\"Test Mean: MAPE= {mean_absolute_percentage_error(y_pred_df['y_test'], y_pred_df['y_test_mean_pred']):.3f}, Test RMSE= {mean_squared_error(y_pred_df['y_test'], y_pred_df['y_test_mean_pred'], squared=False):.3f}, Test R2= {r2_score(y_pred_df['y_test'], y_pred_df['y_test_mean_pred']):.3f}\")\n",
    "    # print('-'*50)\n",
    "    # print('Std [\\sqrt{N}(lower-upper)/3.92]-predicitions')\n",
    "    # print(f'Train MAPE: {mean_absolute_percentage_error(tt.Y_train.planned_service_time_log_std, training_preds.variance**0.5):.3f}, Train RMSE: {mean_squared_error(tt.Y_train.planned_service_time_log_std, training_preds.variance**0.5, squared=False):.3f}, Train R2: {r2_score(tt.Y_train.planned_service_time_log_std, training_preds.variance**0.5):.3f}')\n",
    "    # print(f'Test std: MAPE= {mean_absolute_percentage_error(y_test_std, y_test_std_pred):.3f}, Test RMSE: {mean_squared_error(y_test_std, y_test_std_pred, squared=False):.3f}, Test R2: {r2_score(y_test_std, y_test_std_pred):.3f}')\n",
    "    print(f\"Test lower Quantile: MAPE= {mean_absolute_percentage_error(scaled_true_lb, y_pred_df['y_pred_lb']):.3f}, Test RMSE: {mean_squared_error(scaled_true_lb, y_pred_df['y_pred_lb'], squared=False):.3f}, Test R2: {r2_score(scaled_true_lb, y_pred_df['y_pred_lb']):.3f}\")\n",
    "    # print(scaled_true_ub[:5])\n",
    "    # print(y_pred_df['y_pred_ub'][:5])\n",
    "    print(f\"Test Upper Quantile: MAPE= {mean_absolute_percentage_error(scaled_true_ub, y_pred_df['y_pred_ub']):.3f}, Test RMSE: {mean_squared_error(scaled_true_ub, y_pred_df['y_pred_ub'], squared=False):.3f}, Test R2: {r2_score(scaled_true_ub, y_pred_df['y_pred_ub']):.3f}\")\n",
    "    print('-'*70)   \n",
    "\n",
    "for alpha in [0.999, 0.5, 0.25, 0.15, 0.1, 0.05, 0.01]:\n",
    "    print(f'CI: {int((1-alpha/2)*100)}%')\n",
    "    get_test_predicted_intervals(X_train, y_train, X_cal, y_cal, X_test, alpha)"
   ]
  },
  {
   "attachments": {},
   "cell_type": "markdown",
   "metadata": {},
   "source": [
    "## Plot for real service times vs hex-IDs"
   ]
  },
  {
   "cell_type": "code",
   "execution_count": 127,
   "metadata": {},
   "outputs": [],
   "source": [
    "import plotly.express as px\n",
    "import plotly.graph_objects as go\n",
    "\n",
    "h3_index = hh.df.loc[tt._test_slice, 'h3']\n",
    "\n",
    "# get the inverse transform of the y_pred\n",
    "y_data = pd.DataFrame(data=np.exp(tt.scaler.Y.inverse_transform(tt.Y_test.loc.values.reshape(-1, 1)).reshape(-1)), index=h3_index, columns=['y_test'])\n",
    "y_data.reset_index(inplace=True)\n",
    "y_data['y_pred'] = np.exp(tt.scaler.Y.inverse_transform(y_test_pred.reshape(-1, 1)).reshape(-1))\n",
    "y_data['y_pred_lb'] = np.exp(tt.scaler.Y.inverse_transform(y_test_pis[:, 0].reshape(-1, 1)).reshape(-1))\n",
    "y_data['y_pred_ub'] = np.exp(tt.scaler.Y.inverse_transform(y_test_pis[:, 1].reshape(-1, 1)).reshape(-1))\n",
    "\n",
    "# get the y_pred_df\n",
    "y_pred_df = y_data.groupby('h3')[['y_pred', 'y_pred_lb', 'y_pred_ub']].first()\n",
    "y_pred_df['y_true_lb'] = [np.quantile(x, alpha/2) for x in empirical_pts_df.values]\n",
    "y_pred_df['y_true_ub'] = [np.quantile(x, 1-alpha/2) for x in empirical_pts_df.values]\n",
    "\n",
    "y_pred_df['upper_error'] = np.abs(y_pred_df['y_pred_ub'] - y_pred_df['y_true_ub'])\n",
    "y_pred_df['lower_error'] = np.abs(y_pred_df['y_pred_lb'] - y_pred_df['y_true_lb'])"
   ]
  },
  {
   "cell_type": "code",
   "execution_count": 128,
   "metadata": {},
   "outputs": [
    {
     "name": "stdout",
     "output_type": "stream",
     "text": [
      "0.9035624329910997\n"
     ]
    }
   ],
   "source": [
    "# get the coverage dataframe\n",
    "def calculate_coverage(x):\n",
    "    return sum((x['y_test'] >= x['y_pred_lb'].values[0]) & (x['y_test'] <= x['y_pred_ub'].values[0])) / len(x['y_test'])\n",
    "\n",
    "\n",
    "coverage_df = y_data.groupby('h3')[['y_test', 'y_pred_lb', 'y_pred_ub']].apply(calculate_coverage,)\n",
    "print(coverage_df.mean())"
   ]
  },
  {
   "cell_type": "code",
   "execution_count": 129,
   "metadata": {},
   "outputs": [
    {
     "data": {
      "application/vnd.plotly.v1+json": {
       "config": {
        "plotlyServerURL": "https://plot.ly"
       },
       "data": [
        {
         "dimensions": [
          {
           "axis": {
            "matches": true
           },
           "label": "y_pred",
           "values": [
            133.1712331369,
            109.26914159355181,
            118.76254230961,
            103.98058011962361,
            99.32018156898275,
            72.71551309798188,
            110.42619378737687,
            120.30007840657554,
            171.8255346866372,
            121.28511214883318,
            148.680750214837,
            108.15701217301297,
            142.66464562730891,
            152.80554831705075,
            194.424061592509,
            118.84639175246805,
            132.9012780647053,
            98.19609842382235,
            164.57314631293934,
            71.59317890863805,
            101.26628296565625,
            73.8571149671406,
            106.66612997015659,
            87.57449840636737,
            96.64104824085524,
            85.48188261459292,
            83.93562252025865,
            72.56114524359893,
            73.98704193794306,
            114.43962010633281,
            84.0182463505529,
            93.18082028408672,
            83.9131117149537,
            98.34581710357577,
            150.33559788486562,
            96.11546018319392,
            97.50064684451971,
            89.81872174916442,
            73.90455473128112,
            86.29436713859805,
            91.91223508153847,
            88.36139172433609,
            111.80479881440174,
            89.89356217929371,
            86.67693606219274,
            98.58154711108438,
            152.36594456914148,
            78.42586753420265,
            92.63539271706131,
            96.2489117263265,
            78.0638528023875,
            75.99471480515193,
            233.83302338401973,
            183.7929636094727,
            125.86713750949818,
            143.1082583735472,
            146.78652428475323,
            124.18109613797544,
            125.22343594876092,
            97.70583973213465,
            93.00505173358131,
            109.65937862126259,
            124.91734094502475,
            75.48789540979358,
            98.44478404622414,
            134.80704653172867,
            150.75347382420176,
            136.42107817455417,
            159.14032281183927,
            143.55496050676683,
            202.7774958089249,
            134.27692235522414,
            144.68390918885657,
            104.41367194825104,
            65.96388290492533,
            103.51033632893034,
            114.94702793196818,
            109.87239617912468,
            95.78365665296367
           ]
          },
          {
           "axis": {
            "matches": true
           },
           "label": "y_pred_lb",
           "values": [
            39.39001455243158,
            32.32014134071345,
            35.1281441169075,
            30.755865719676645,
            29.37739108663666,
            21.50813694255254,
            32.66237968813375,
            35.58292378521696,
            50.823365920388035,
            35.87428170485324,
            43.97749256108755,
            31.991190462754854,
            42.198020811298505,
            45.19754477089939,
            57.50766464405257,
            35.152945500033496,
            39.310165969732616,
            29.04490447970934,
            48.678220329626896,
            21.176167650013962,
            29.953018123570914,
            21.845805320174428,
            31.5502103029774,
            25.903197600510005,
            28.58494441255382,
            25.28423384573341,
            24.826873752393617,
            21.46247729153526,
            21.884235731533625,
            33.849489827350276,
            24.851312618063044,
            27.561461890380798,
            24.820215400378213,
            29.08918897595786,
            44.46697119899633,
            28.429483501423075,
            28.839200536117573,
            26.56700455077535,
            21.85983727704561,
            25.52455434491577,
            27.18623378433776,
            26.135948612240398,
            33.07014997603622,
            26.58914120568547,
            25.63771238297502,
            29.15891430782937,
            45.06751670387948,
            23.197172472553586,
            27.400132755729476,
            28.468956427386242,
            23.09009405014584,
            22.478074668014635,
            69.16423297264974,
            54.36314841185963,
            37.229574746637006,
            42.32923467872594,
            43.41720949398634,
            36.73086948878292,
            37.03917766727079,
            28.899893454841976,
            27.509472240670558,
            32.4355674867237,
            36.948639445407196,
            22.32816524021729,
            29.118461884372863,
            39.87386314277336,
            44.59057251246199,
            40.35126902391902,
            47.07127420674214,
            42.461362339585214,
            59.978482759922535,
            39.71706051704677,
            42.79528809794135,
            30.88396766054131,
            19.511107964952398,
            30.616774796492383,
            33.9995733038264,
            32.498574823266765,
            28.331341090510037
           ]
          },
          {
           "axis": {
            "matches": true
           },
           "label": "y_pred_ub",
           "values": [
            450.23028137235855,
            369.42119710198335,
            401.5168409951174,
            351.5414308463539,
            335.78538127515765,
            245.8393239370578,
            373.33300239594564,
            406.7150004868548,
            580.9141884974022,
            410.04523937171984,
            502.6654362737977,
            365.66126839863534,
            482.3259650726571,
            516.6107078344716,
            657.316132729398,
            401.80032232484336,
            449.31760717651946,
            331.98503897291835,
            556.3950428741507,
            242.04489456999897,
            342.3648335995401,
            249.6988941960353,
            360.6208381354794,
            296.0751367227279,
            326.72766720475545,
            289.0003430563938,
            283.7726891483514,
            245.31743132649518,
            250.13815615407484,
            386.9017440700064,
            284.0520268813223,
            315.0291992256621,
            283.69658377658556,
            332.4912134801622,
            508.26020711548136,
            324.95073945907944,
            329.63383028576624,
            303.6624908628764,
            249.8592803233851,
            291.74722109631927,
            310.7403189680092,
            298.7354950569853,
            377.9938417874427,
            303.91551418571765,
            293.04062440916,
            333.28817829837783,
            515.1244790562934,
            265.1451036012936,
            313.18519732535947,
            325.40191742295985,
            263.9211906680964,
            256.9257716068648,
            790.551423400203,
            621.3741194022468,
            425.53632193357276,
            483.8257476221959,
            496.2613664653601,
            419.83609026022214,
            423.3600716429967,
            330.327554067925,
            314.43495434194057,
            370.74052502776385,
            422.3252142161138,
            255.2122976560561,
            332.8258046180946,
            455.7607004251679,
            509.6729777065041,
            461.2174789168571,
            538.0275501662313,
            485.33597488668596,
            685.5577352819257,
            453.9684367993996,
            489.15276677799255,
            353.0056438844849,
            223.01316028340267,
            349.95161306656513,
            388.6172074078847,
            371.4607027474889,
            323.82896568514184
           ]
          },
          {
           "axis": {
            "matches": true
           },
           "label": "y_true_lb",
           "values": [
            20,
            40,
            53.595000000000006,
            50,
            78.4,
            17.500000000000004,
            56.15,
            45,
            40,
            39.7,
            55.3,
            60.55,
            49,
            50.2,
            30,
            56.2,
            46.25,
            41.45,
            56.504999999999995,
            35,
            55.5,
            35.8,
            40.8,
            38,
            23.25,
            29.75,
            29.65,
            35.05,
            27.45,
            27,
            36,
            41.8,
            31,
            50,
            35,
            26.3,
            40,
            26.6,
            31,
            27,
            39,
            37.4,
            54,
            33.8,
            39.35,
            42.35,
            35.9,
            39.8,
            43,
            33,
            37.9,
            34.65,
            94.7,
            65.55,
            53.5,
            42,
            51.3,
            55.9,
            33.2,
            26.2,
            46,
            43.6,
            35,
            41.1,
            29.900000000000002,
            42.65,
            51,
            65.2,
            52,
            78.3,
            84.15,
            37.69500000000001,
            82,
            45.1,
            23.400000000000002,
            42.8,
            31,
            34,
            26
           ]
          },
          {
           "axis": {
            "matches": true
           },
           "label": "y_true_ub",
           "values": [
            418.71000000000015,
            535,
            474.5999999999992,
            490.4399999999998,
            527.2799999999999,
            388.49999999999983,
            408.49999999999994,
            358.20000000000005,
            467.2799999999993,
            414.03,
            386.30999999999995,
            354.47999999999996,
            550,
            262.54999999999995,
            587.9999999999995,
            366.8000000000001,
            412.72499999999997,
            646.0399999999998,
            339.89999999999986,
            319.75,
            293.775,
            194.1499999999998,
            157.39999999999998,
            206.3999999999999,
            205.5,
            186.10000000000008,
            196.10499999999996,
            199.99499999999998,
            290.35499999999973,
            287.2,
            299.09999999999997,
            248.26,
            249.34999999999965,
            196,
            230,
            352.2,
            298.57500000000005,
            475.4849999999997,
            190.63500000000005,
            203.6,
            301.08,
            129.2,
            439.2899999999997,
            369.7999999999999,
            441.26999999999987,
            371.3,
            373.7499999999999,
            396.6599999999998,
            245,
            176.5,
            238.19999999999996,
            175.75500000000017,
            1381.0799999999995,
            477.43499999999983,
            462.25,
            340.84999999999997,
            1333.9500000000012,
            527.3599999999999,
            303.59999999999945,
            262.79999999999995,
            253.79999999999998,
            216.3,
            527.2799999999999,
            232.89999999999998,
            312.69999999999993,
            226.09999999999994,
            534,
            543.72,
            544.2,
            417.1000000000001,
            713.6500000000001,
            910.7,
            944.24,
            358.0199999999999,
            181.26,
            318.96,
            286.50499999999954,
            236.10000000000002,
            343.84
           ]
          },
          {
           "axis": {
            "matches": true
           },
           "label": "upper_error",
           "values": [
            31.520281372358397,
            165.57880289801665,
            73.08315900488185,
            138.89856915364595,
            191.4946187248422,
            142.66067606294203,
            35.1669976040543,
            48.515000486854774,
            113.63418849740287,
            3.984760628280128,
            116.35543627379775,
            11.181268398635382,
            67.67403492734292,
            254.0607078344716,
            69.31613272939842,
            35.00032232484324,
            36.59260717651949,
            314.0549610270815,
            216.49504287415084,
            77.70510543000103,
            48.5898335995401,
            55.54889419603549,
            203.22083813547943,
            89.67513672272801,
            121.22766720475545,
            102.9003430563937,
            87.66768914835143,
            45.322431326495206,
            40.2168438459249,
            99.70174407000638,
            15.047973118677646,
            66.76919922566213,
            34.3465837765859,
            136.49121348016217,
            278.26020711548136,
            27.249260540920545,
            31.05883028576619,
            171.8225091371233,
            59.224280323385045,
            88.14722109631927,
            9.660318968009221,
            169.53549505698533,
            61.296158212556975,
            65.88448581428224,
            148.22937559083988,
            38.01182170162218,
            141.37447905629347,
            131.51489639870618,
            68.18519732535947,
            148.90191742295985,
            25.721190668096455,
            81.17077160686466,
            590.5285765997965,
            143.939119402247,
            36.713678066427235,
            142.9757476221959,
            837.6886335346411,
            107.52390973977776,
            119.76007164299722,
            67.52755406792505,
            60.634954341940585,
            154.44052502776384,
            104.95478578388605,
            22.31229765605613,
            20.125804618094662,
            229.66070042516796,
            24.327022293495872,
            82.50252108314294,
            6.172449833768724,
            68.23597488668588,
            28.092264718074375,
            456.7315632006004,
            455.08723322200746,
            5.014356115515,
            41.75316028340268,
            30.99161306656515,
            102.11220740788514,
            135.36070274748886,
            20.011034314858136
           ]
          },
          {
           "axis": {
            "matches": true
           },
           "label": "lower_error",
           "values": [
            19.39001455243158,
            7.679858659286552,
            18.466855883092506,
            19.244134280323355,
            49.02260891336334,
            4.008136942552536,
            23.48762031186625,
            9.417076214783037,
            10.823365920388035,
            3.825718295146764,
            11.322507438912446,
            28.558809537245143,
            6.801979188701495,
            5.002455229100612,
            27.507664644052568,
            21.047054499966507,
            6.939834030267384,
            12.405095520290661,
            7.826779670373099,
            13.823832349986038,
            25.546981876429086,
            13.95419467982557,
            9.249789697022596,
            12.096802399489995,
            5.334944412553821,
            4.465766154266589,
            4.823126247606382,
            13.587522708464736,
            5.565764268466374,
            6.849489827350276,
            11.148687381936956,
            14.2385381096192,
            6.179784599621787,
            20.91081102404214,
            9.466971198996333,
            2.129483501423074,
            11.160799463882427,
            0.03299544922465003,
            9.14016272295439,
            1.4754456550842292,
            11.813766215662241,
            11.2640513877596,
            20.92985002396378,
            7.210858794314529,
            13.71228761702498,
            13.191085692170631,
            9.167516703879478,
            16.60282752744641,
            15.599867244270524,
            4.531043572613758,
            14.809905949854159,
            12.171925331985364,
            25.53576702735026,
            11.186851588140364,
            16.270425253362994,
            0.32923467872593903,
            7.882790506013656,
            19.169130511217077,
            3.839177667270789,
            2.699893454841977,
            18.490527759329442,
            11.164432513276303,
            1.9486394454071956,
            18.77183475978271,
            0.7815381156271393,
            2.776136857226639,
            6.409427487538011,
            24.84873097608098,
            4.928725793257861,
            35.83863766041478,
            24.17151724007747,
            2.0220605170467607,
            39.20471190205865,
            14.216032339458692,
            3.888892035047604,
            12.183225203507615,
            2.999573303826402,
            1.5014251767332354,
            2.331341090510037
           ]
          },
          {
           "axis": {
            "matches": true
           },
           "label": "actual_std",
           "values": [
            154.37403065964583,
            152.89400249846295,
            176.328729011929,
            168.24522192423981,
            149.1195000763827,
            123.75463164566787,
            135.83054803046284,
            98.91528952963866,
            147.73325415886137,
            125.35464335753854,
            130.24437975781535,
            103.64453727373014,
            166.6504473183251,
            117.7771155165295,
            219.5156662456526,
            161.609903860008,
            132.96879204160965,
            231.5940824246688,
            141.54331421865183,
            109.80630609005506,
            102.5545972415894,
            72.82411389164007,
            163.99398789793077,
            60.23068217908192,
            130.5057853123761,
            71.4176743567467,
            55.41719192895217,
            58.35165469856536,
            120.10285630222965,
            87.52075699376637,
            136.12990726663136,
            65.07308842464151,
            70.5981848718348,
            53.6553818363079,
            60.31026920374814,
            113.7483468462571,
            86.92230612211864,
            200.45203368379933,
            86.88060563386142,
            62.619752618705135,
            102.31013314627019,
            32.59265609807052,
            120.77512570271143,
            108.04996915008046,
            199.00499884479638,
            119.05321672554005,
            144.5442762309848,
            228.1913970790768,
            79.21772288476626,
            55.29894319315306,
            67.54905361198367,
            88.10818394988839,
            653.1452736037953,
            139.68455448582986,
            266.68643750808246,
            135.17006536890847,
            477.23984393766733,
            165.41176017846425,
            102.4731552776265,
            82.59413432950929,
            69.51366500157518,
            60.093632856165,
            165.78060854772653,
            355.25347931099736,
            107.68888296825334,
            67.05647198281913,
            209.4233479603392,
            169.41127195870607,
            157.68719826572612,
            121.77067471264587,
            206.22942640610114,
            257.79101426238424,
            433.87923261840604,
            100.59923634539356,
            52.4994635541106,
            116.34238044315359,
            74.13485095821653,
            68.67579111822656,
            93.11038634261912
           ]
          },
          {
           "axis": {
            "matches": true
           },
           "label": "true_mean",
           "values": [
            197.635,
            169.2,
            170.0173076923077,
            190.62181818181818,
            209.73030303030305,
            135.33913043478262,
            194.93690476190477,
            160.48196721311476,
            182.80240963855422,
            164.83488372093024,
            177.31304347826085,
            186.75526315789475,
            245.96774193548387,
            145.13181818181818,
            226.4909090909091,
            168.92820512820512,
            197.3891304347826,
            250.72166666666666,
            170.514,
            136.48333333333332,
            149.16923076923078,
            94.115,
            115.884,
            92.48484848484848,
            117,
            89.8,
            89.25,
            87.76818181818182,
            106.56666666666666,
            99.72380952380952,
            120.33703703703704,
            98.46060606060605,
            97.86851851851851,
            115,
            108.85714285714286,
            131.14444444444445,
            112.01111111111112,
            162.30416666666667,
            89.78863636363636,
            91.15172413793104,
            135.6627906976744,
            80.28620689655173,
            151.22666666666666,
            163.98,
            177.5,
            139.07857142857142,
            143.4575,
            169.58533333333332,
            103.51904761904763,
            82.63870967741936,
            106.48148148148148,
            90.14500000000001,
            532.0836363636363,
            174.20714285714286,
            211.89302325581394,
            154.82105263157894,
            328.5204545454545,
            192.95272727272726,
            133.64594594594593,
            92.05555555555556,
            118.87073170731706,
            113.09487179487179,
            150.4727272727273,
            152.1139534883721,
            123.21395348837208,
            110.89999999999999,
            217.51809954751133,
            221.864,
            208.5776397515528,
            210.37435897435898,
            265.95,
            257.90277777777777,
            417.17241379310343,
            146.35925925925926,
            76.13877551020408,
            136.85555555555555,
            111.1595238095238,
            125.81428571428572,
            104.6825
           ]
          },
          {
           "axis": {
            "matches": true
           },
           "label": "true_median",
           "values": [
            153.5,
            108,
            106,
            145,
            163,
            96,
            170,
            140,
            134,
            123,
            164,
            171.95,
            205,
            114,
            171.2,
            116,
            180.5,
            157.35,
            127.44999999999999,
            91.5,
            123.5,
            70.5,
            77,
            72,
            86.5,
            59,
            72.5,
            68,
            77.5,
            67,
            70,
            75,
            74.5,
            117,
            113,
            78,
            81,
            71.5,
            63.5,
            78,
            106,
            79,
            121,
            151,
            114.94999999999999,
            98,
            97.5,
            111,
            73,
            65,
            76,
            55.5,
            331,
            130,
            140.5,
            122,
            170.5,
            140.5,
            101,
            55,
            93,
            105,
            97,
            86,
            82,
            90,
            156,
            186,
            167,
            167.2,
            213,
            165.5,
            283,
            108,
            57.900000000000006,
            109,
            95.05,
            118,
            80.5
           ]
          },
          {
           "axis": {
            "matches": true
           },
           "label": "coverage",
           "values": [
            0.85,
            0.8536585365853658,
            0.9230769230769231,
            0.8909090909090909,
            0.8484848484848485,
            0.7391304347826086,
            0.9047619047619048,
            0.9672131147540983,
            0.8554216867469879,
            0.8837209302325582,
            0.9565217391304348,
            0.9736842105263158,
            0.8064516129032258,
            0.9090909090909091,
            0.8181818181818182,
            0.9230769230769231,
            0.9130434782608695,
            0.7166666666666667,
            0.98,
            0.8611111111111112,
            0.9615384615384616,
            0.95,
            0.96,
            1,
            0.8846153846153846,
            0.9,
            1,
            1,
            0.9333333333333333,
            0.9047619047619048,
            0.9259259259259259,
            1,
            0.9259259259259259,
            1,
            0.8095238095238095,
            0.7777777777777778,
            0.9722222222222222,
            0.7916666666666666,
            0.9090909090909091,
            0.9482758620689655,
            0.9534883720930233,
            1,
            0.9,
            0.8,
            0.8333333333333334,
            0.8214285714285714,
            0.7875,
            0.8133333333333334,
            0.9523809523809523,
            0.967741935483871,
            1,
            0.95,
            0.7636363636363637,
            0.9642857142857143,
            0.8837209302325582,
            0.8947368421052632,
            0.8863636363636364,
            0.9272727272727272,
            0.8918918918918919,
            0.8888888888888888,
            1,
            1,
            0.8484848484848485,
            0.9534883720930233,
            0.8837209302325582,
            0.9583333333333334,
            0.9049773755656109,
            0.84,
            0.9006211180124224,
            0.9743589743589743,
            0.9,
            0.8194444444444444,
            0.7931034482758621,
            0.9259259259259259,
            1,
            0.9629629629629629,
            0.9047619047619048,
            0.9523809523809523,
            0.85
           ]
          }
         ],
         "hovertemplate": "%{xaxis.title.text}=%{x}<br>%{yaxis.title.text}=%{y}<extra></extra>",
         "legendgroup": "",
         "marker": {
          "color": "#636efa",
          "symbol": "circle"
         },
         "name": "",
         "showlegend": false,
         "type": "splom"
        }
       ],
       "layout": {
        "dragmode": "select",
        "height": 800,
        "legend": {
         "tracegroupgap": 0
        },
        "margin": {
         "t": 60
        },
        "template": {
         "data": {
          "bar": [
           {
            "error_x": {
             "color": "#2a3f5f"
            },
            "error_y": {
             "color": "#2a3f5f"
            },
            "marker": {
             "line": {
              "color": "#E5ECF6",
              "width": 0.5
             },
             "pattern": {
              "fillmode": "overlay",
              "size": 10,
              "solidity": 0.2
             }
            },
            "type": "bar"
           }
          ],
          "barpolar": [
           {
            "marker": {
             "line": {
              "color": "#E5ECF6",
              "width": 0.5
             },
             "pattern": {
              "fillmode": "overlay",
              "size": 10,
              "solidity": 0.2
             }
            },
            "type": "barpolar"
           }
          ],
          "carpet": [
           {
            "aaxis": {
             "endlinecolor": "#2a3f5f",
             "gridcolor": "white",
             "linecolor": "white",
             "minorgridcolor": "white",
             "startlinecolor": "#2a3f5f"
            },
            "baxis": {
             "endlinecolor": "#2a3f5f",
             "gridcolor": "white",
             "linecolor": "white",
             "minorgridcolor": "white",
             "startlinecolor": "#2a3f5f"
            },
            "type": "carpet"
           }
          ],
          "choropleth": [
           {
            "colorbar": {
             "outlinewidth": 0,
             "ticks": ""
            },
            "type": "choropleth"
           }
          ],
          "contour": [
           {
            "colorbar": {
             "outlinewidth": 0,
             "ticks": ""
            },
            "colorscale": [
             [
              0,
              "#0d0887"
             ],
             [
              0.1111111111111111,
              "#46039f"
             ],
             [
              0.2222222222222222,
              "#7201a8"
             ],
             [
              0.3333333333333333,
              "#9c179e"
             ],
             [
              0.4444444444444444,
              "#bd3786"
             ],
             [
              0.5555555555555556,
              "#d8576b"
             ],
             [
              0.6666666666666666,
              "#ed7953"
             ],
             [
              0.7777777777777778,
              "#fb9f3a"
             ],
             [
              0.8888888888888888,
              "#fdca26"
             ],
             [
              1,
              "#f0f921"
             ]
            ],
            "type": "contour"
           }
          ],
          "contourcarpet": [
           {
            "colorbar": {
             "outlinewidth": 0,
             "ticks": ""
            },
            "type": "contourcarpet"
           }
          ],
          "heatmap": [
           {
            "colorbar": {
             "outlinewidth": 0,
             "ticks": ""
            },
            "colorscale": [
             [
              0,
              "#0d0887"
             ],
             [
              0.1111111111111111,
              "#46039f"
             ],
             [
              0.2222222222222222,
              "#7201a8"
             ],
             [
              0.3333333333333333,
              "#9c179e"
             ],
             [
              0.4444444444444444,
              "#bd3786"
             ],
             [
              0.5555555555555556,
              "#d8576b"
             ],
             [
              0.6666666666666666,
              "#ed7953"
             ],
             [
              0.7777777777777778,
              "#fb9f3a"
             ],
             [
              0.8888888888888888,
              "#fdca26"
             ],
             [
              1,
              "#f0f921"
             ]
            ],
            "type": "heatmap"
           }
          ],
          "heatmapgl": [
           {
            "colorbar": {
             "outlinewidth": 0,
             "ticks": ""
            },
            "colorscale": [
             [
              0,
              "#0d0887"
             ],
             [
              0.1111111111111111,
              "#46039f"
             ],
             [
              0.2222222222222222,
              "#7201a8"
             ],
             [
              0.3333333333333333,
              "#9c179e"
             ],
             [
              0.4444444444444444,
              "#bd3786"
             ],
             [
              0.5555555555555556,
              "#d8576b"
             ],
             [
              0.6666666666666666,
              "#ed7953"
             ],
             [
              0.7777777777777778,
              "#fb9f3a"
             ],
             [
              0.8888888888888888,
              "#fdca26"
             ],
             [
              1,
              "#f0f921"
             ]
            ],
            "type": "heatmapgl"
           }
          ],
          "histogram": [
           {
            "marker": {
             "pattern": {
              "fillmode": "overlay",
              "size": 10,
              "solidity": 0.2
             }
            },
            "type": "histogram"
           }
          ],
          "histogram2d": [
           {
            "colorbar": {
             "outlinewidth": 0,
             "ticks": ""
            },
            "colorscale": [
             [
              0,
              "#0d0887"
             ],
             [
              0.1111111111111111,
              "#46039f"
             ],
             [
              0.2222222222222222,
              "#7201a8"
             ],
             [
              0.3333333333333333,
              "#9c179e"
             ],
             [
              0.4444444444444444,
              "#bd3786"
             ],
             [
              0.5555555555555556,
              "#d8576b"
             ],
             [
              0.6666666666666666,
              "#ed7953"
             ],
             [
              0.7777777777777778,
              "#fb9f3a"
             ],
             [
              0.8888888888888888,
              "#fdca26"
             ],
             [
              1,
              "#f0f921"
             ]
            ],
            "type": "histogram2d"
           }
          ],
          "histogram2dcontour": [
           {
            "colorbar": {
             "outlinewidth": 0,
             "ticks": ""
            },
            "colorscale": [
             [
              0,
              "#0d0887"
             ],
             [
              0.1111111111111111,
              "#46039f"
             ],
             [
              0.2222222222222222,
              "#7201a8"
             ],
             [
              0.3333333333333333,
              "#9c179e"
             ],
             [
              0.4444444444444444,
              "#bd3786"
             ],
             [
              0.5555555555555556,
              "#d8576b"
             ],
             [
              0.6666666666666666,
              "#ed7953"
             ],
             [
              0.7777777777777778,
              "#fb9f3a"
             ],
             [
              0.8888888888888888,
              "#fdca26"
             ],
             [
              1,
              "#f0f921"
             ]
            ],
            "type": "histogram2dcontour"
           }
          ],
          "mesh3d": [
           {
            "colorbar": {
             "outlinewidth": 0,
             "ticks": ""
            },
            "type": "mesh3d"
           }
          ],
          "parcoords": [
           {
            "line": {
             "colorbar": {
              "outlinewidth": 0,
              "ticks": ""
             }
            },
            "type": "parcoords"
           }
          ],
          "pie": [
           {
            "automargin": true,
            "type": "pie"
           }
          ],
          "scatter": [
           {
            "fillpattern": {
             "fillmode": "overlay",
             "size": 10,
             "solidity": 0.2
            },
            "type": "scatter"
           }
          ],
          "scatter3d": [
           {
            "line": {
             "colorbar": {
              "outlinewidth": 0,
              "ticks": ""
             }
            },
            "marker": {
             "colorbar": {
              "outlinewidth": 0,
              "ticks": ""
             }
            },
            "type": "scatter3d"
           }
          ],
          "scattercarpet": [
           {
            "marker": {
             "colorbar": {
              "outlinewidth": 0,
              "ticks": ""
             }
            },
            "type": "scattercarpet"
           }
          ],
          "scattergeo": [
           {
            "marker": {
             "colorbar": {
              "outlinewidth": 0,
              "ticks": ""
             }
            },
            "type": "scattergeo"
           }
          ],
          "scattergl": [
           {
            "marker": {
             "colorbar": {
              "outlinewidth": 0,
              "ticks": ""
             }
            },
            "type": "scattergl"
           }
          ],
          "scattermapbox": [
           {
            "marker": {
             "colorbar": {
              "outlinewidth": 0,
              "ticks": ""
             }
            },
            "type": "scattermapbox"
           }
          ],
          "scatterpolar": [
           {
            "marker": {
             "colorbar": {
              "outlinewidth": 0,
              "ticks": ""
             }
            },
            "type": "scatterpolar"
           }
          ],
          "scatterpolargl": [
           {
            "marker": {
             "colorbar": {
              "outlinewidth": 0,
              "ticks": ""
             }
            },
            "type": "scatterpolargl"
           }
          ],
          "scatterternary": [
           {
            "marker": {
             "colorbar": {
              "outlinewidth": 0,
              "ticks": ""
             }
            },
            "type": "scatterternary"
           }
          ],
          "surface": [
           {
            "colorbar": {
             "outlinewidth": 0,
             "ticks": ""
            },
            "colorscale": [
             [
              0,
              "#0d0887"
             ],
             [
              0.1111111111111111,
              "#46039f"
             ],
             [
              0.2222222222222222,
              "#7201a8"
             ],
             [
              0.3333333333333333,
              "#9c179e"
             ],
             [
              0.4444444444444444,
              "#bd3786"
             ],
             [
              0.5555555555555556,
              "#d8576b"
             ],
             [
              0.6666666666666666,
              "#ed7953"
             ],
             [
              0.7777777777777778,
              "#fb9f3a"
             ],
             [
              0.8888888888888888,
              "#fdca26"
             ],
             [
              1,
              "#f0f921"
             ]
            ],
            "type": "surface"
           }
          ],
          "table": [
           {
            "cells": {
             "fill": {
              "color": "#EBF0F8"
             },
             "line": {
              "color": "white"
             }
            },
            "header": {
             "fill": {
              "color": "#C8D4E3"
             },
             "line": {
              "color": "white"
             }
            },
            "type": "table"
           }
          ]
         },
         "layout": {
          "annotationdefaults": {
           "arrowcolor": "#2a3f5f",
           "arrowhead": 0,
           "arrowwidth": 1
          },
          "autotypenumbers": "strict",
          "coloraxis": {
           "colorbar": {
            "outlinewidth": 0,
            "ticks": ""
           }
          },
          "colorscale": {
           "diverging": [
            [
             0,
             "#8e0152"
            ],
            [
             0.1,
             "#c51b7d"
            ],
            [
             0.2,
             "#de77ae"
            ],
            [
             0.3,
             "#f1b6da"
            ],
            [
             0.4,
             "#fde0ef"
            ],
            [
             0.5,
             "#f7f7f7"
            ],
            [
             0.6,
             "#e6f5d0"
            ],
            [
             0.7,
             "#b8e186"
            ],
            [
             0.8,
             "#7fbc41"
            ],
            [
             0.9,
             "#4d9221"
            ],
            [
             1,
             "#276419"
            ]
           ],
           "sequential": [
            [
             0,
             "#0d0887"
            ],
            [
             0.1111111111111111,
             "#46039f"
            ],
            [
             0.2222222222222222,
             "#7201a8"
            ],
            [
             0.3333333333333333,
             "#9c179e"
            ],
            [
             0.4444444444444444,
             "#bd3786"
            ],
            [
             0.5555555555555556,
             "#d8576b"
            ],
            [
             0.6666666666666666,
             "#ed7953"
            ],
            [
             0.7777777777777778,
             "#fb9f3a"
            ],
            [
             0.8888888888888888,
             "#fdca26"
            ],
            [
             1,
             "#f0f921"
            ]
           ],
           "sequentialminus": [
            [
             0,
             "#0d0887"
            ],
            [
             0.1111111111111111,
             "#46039f"
            ],
            [
             0.2222222222222222,
             "#7201a8"
            ],
            [
             0.3333333333333333,
             "#9c179e"
            ],
            [
             0.4444444444444444,
             "#bd3786"
            ],
            [
             0.5555555555555556,
             "#d8576b"
            ],
            [
             0.6666666666666666,
             "#ed7953"
            ],
            [
             0.7777777777777778,
             "#fb9f3a"
            ],
            [
             0.8888888888888888,
             "#fdca26"
            ],
            [
             1,
             "#f0f921"
            ]
           ]
          },
          "colorway": [
           "#636efa",
           "#EF553B",
           "#00cc96",
           "#ab63fa",
           "#FFA15A",
           "#19d3f3",
           "#FF6692",
           "#B6E880",
           "#FF97FF",
           "#FECB52"
          ],
          "font": {
           "color": "#2a3f5f"
          },
          "geo": {
           "bgcolor": "white",
           "lakecolor": "white",
           "landcolor": "#E5ECF6",
           "showlakes": true,
           "showland": true,
           "subunitcolor": "white"
          },
          "hoverlabel": {
           "align": "left"
          },
          "hovermode": "closest",
          "mapbox": {
           "style": "light"
          },
          "paper_bgcolor": "white",
          "plot_bgcolor": "#E5ECF6",
          "polar": {
           "angularaxis": {
            "gridcolor": "white",
            "linecolor": "white",
            "ticks": ""
           },
           "bgcolor": "#E5ECF6",
           "radialaxis": {
            "gridcolor": "white",
            "linecolor": "white",
            "ticks": ""
           }
          },
          "scene": {
           "xaxis": {
            "backgroundcolor": "#E5ECF6",
            "gridcolor": "white",
            "gridwidth": 2,
            "linecolor": "white",
            "showbackground": true,
            "ticks": "",
            "zerolinecolor": "white"
           },
           "yaxis": {
            "backgroundcolor": "#E5ECF6",
            "gridcolor": "white",
            "gridwidth": 2,
            "linecolor": "white",
            "showbackground": true,
            "ticks": "",
            "zerolinecolor": "white"
           },
           "zaxis": {
            "backgroundcolor": "#E5ECF6",
            "gridcolor": "white",
            "gridwidth": 2,
            "linecolor": "white",
            "showbackground": true,
            "ticks": "",
            "zerolinecolor": "white"
           }
          },
          "shapedefaults": {
           "line": {
            "color": "#2a3f5f"
           }
          },
          "ternary": {
           "aaxis": {
            "gridcolor": "white",
            "linecolor": "white",
            "ticks": ""
           },
           "baxis": {
            "gridcolor": "white",
            "linecolor": "white",
            "ticks": ""
           },
           "bgcolor": "#E5ECF6",
           "caxis": {
            "gridcolor": "white",
            "linecolor": "white",
            "ticks": ""
           }
          },
          "title": {
           "x": 0.05
          },
          "xaxis": {
           "automargin": true,
           "gridcolor": "white",
           "linecolor": "white",
           "ticks": "",
           "title": {
            "standoff": 15
           },
           "zerolinecolor": "white",
           "zerolinewidth": 2
          },
          "yaxis": {
           "automargin": true,
           "gridcolor": "white",
           "linecolor": "white",
           "ticks": "",
           "title": {
            "standoff": 15
           },
           "zerolinecolor": "white",
           "zerolinewidth": 2
          }
         }
        },
        "width": 1200
       }
      },
      "text/html": [
       "<div>                            <div id=\"3695c2e3-e624-4cb9-8736-724018aa7c22\" class=\"plotly-graph-div\" style=\"height:800px; width:1200px;\"></div>            <script type=\"text/javascript\">                require([\"plotly\"], function(Plotly) {                    window.PLOTLYENV=window.PLOTLYENV || {};                                    if (document.getElementById(\"3695c2e3-e624-4cb9-8736-724018aa7c22\")) {                    Plotly.newPlot(                        \"3695c2e3-e624-4cb9-8736-724018aa7c22\",                        [{\"dimensions\":[{\"axis\":{\"matches\":true},\"label\":\"y_pred\",\"values\":[133.1712331369,109.26914159355181,118.76254230961,103.98058011962361,99.32018156898275,72.71551309798188,110.42619378737687,120.30007840657554,171.8255346866372,121.28511214883318,148.680750214837,108.15701217301297,142.66464562730891,152.80554831705075,194.424061592509,118.84639175246805,132.9012780647053,98.19609842382235,164.57314631293934,71.59317890863805,101.26628296565625,73.8571149671406,106.66612997015659,87.57449840636737,96.64104824085524,85.48188261459292,83.93562252025865,72.56114524359893,73.98704193794306,114.43962010633281,84.0182463505529,93.18082028408672,83.9131117149537,98.34581710357577,150.33559788486562,96.11546018319392,97.50064684451971,89.81872174916442,73.90455473128112,86.29436713859805,91.91223508153847,88.36139172433609,111.80479881440174,89.89356217929371,86.67693606219274,98.58154711108438,152.36594456914148,78.42586753420265,92.63539271706131,96.2489117263265,78.0638528023875,75.99471480515193,233.83302338401973,183.7929636094727,125.86713750949818,143.1082583735472,146.78652428475323,124.18109613797544,125.22343594876092,97.70583973213465,93.00505173358131,109.65937862126259,124.91734094502475,75.48789540979358,98.44478404622414,134.80704653172867,150.75347382420176,136.42107817455417,159.14032281183927,143.55496050676683,202.7774958089249,134.27692235522414,144.68390918885657,104.41367194825104,65.96388290492533,103.51033632893034,114.94702793196818,109.87239617912468,95.78365665296367]},{\"axis\":{\"matches\":true},\"label\":\"y_pred_lb\",\"values\":[39.39001455243158,32.32014134071345,35.1281441169075,30.755865719676645,29.37739108663666,21.50813694255254,32.66237968813375,35.58292378521696,50.823365920388035,35.87428170485324,43.97749256108755,31.991190462754854,42.198020811298505,45.19754477089939,57.50766464405257,35.152945500033496,39.310165969732616,29.04490447970934,48.678220329626896,21.176167650013962,29.953018123570914,21.845805320174428,31.5502103029774,25.903197600510005,28.58494441255382,25.28423384573341,24.826873752393617,21.46247729153526,21.884235731533625,33.849489827350276,24.851312618063044,27.561461890380798,24.820215400378213,29.08918897595786,44.46697119899633,28.429483501423075,28.839200536117573,26.56700455077535,21.85983727704561,25.52455434491577,27.18623378433776,26.135948612240398,33.07014997603622,26.58914120568547,25.63771238297502,29.15891430782937,45.06751670387948,23.197172472553586,27.400132755729476,28.468956427386242,23.09009405014584,22.478074668014635,69.16423297264974,54.36314841185963,37.229574746637006,42.32923467872594,43.41720949398634,36.73086948878292,37.03917766727079,28.899893454841976,27.509472240670558,32.4355674867237,36.948639445407196,22.32816524021729,29.118461884372863,39.87386314277336,44.59057251246199,40.35126902391902,47.07127420674214,42.461362339585214,59.978482759922535,39.71706051704677,42.79528809794135,30.88396766054131,19.511107964952398,30.616774796492383,33.9995733038264,32.498574823266765,28.331341090510037]},{\"axis\":{\"matches\":true},\"label\":\"y_pred_ub\",\"values\":[450.23028137235855,369.42119710198335,401.5168409951174,351.5414308463539,335.78538127515765,245.8393239370578,373.33300239594564,406.7150004868548,580.9141884974022,410.04523937171984,502.6654362737977,365.66126839863534,482.3259650726571,516.6107078344716,657.316132729398,401.80032232484336,449.31760717651946,331.98503897291835,556.3950428741507,242.04489456999897,342.3648335995401,249.6988941960353,360.6208381354794,296.0751367227279,326.72766720475545,289.0003430563938,283.7726891483514,245.31743132649518,250.13815615407484,386.9017440700064,284.0520268813223,315.0291992256621,283.69658377658556,332.4912134801622,508.26020711548136,324.95073945907944,329.63383028576624,303.6624908628764,249.8592803233851,291.74722109631927,310.7403189680092,298.7354950569853,377.9938417874427,303.91551418571765,293.04062440916,333.28817829837783,515.1244790562934,265.1451036012936,313.18519732535947,325.40191742295985,263.9211906680964,256.9257716068648,790.551423400203,621.3741194022468,425.53632193357276,483.8257476221959,496.2613664653601,419.83609026022214,423.3600716429967,330.327554067925,314.43495434194057,370.74052502776385,422.3252142161138,255.2122976560561,332.8258046180946,455.7607004251679,509.6729777065041,461.2174789168571,538.0275501662313,485.33597488668596,685.5577352819257,453.9684367993996,489.15276677799255,353.0056438844849,223.01316028340267,349.95161306656513,388.6172074078847,371.4607027474889,323.82896568514184]},{\"axis\":{\"matches\":true},\"label\":\"y_true_lb\",\"values\":[20.0,40.0,53.595000000000006,50.0,78.4,17.500000000000004,56.15,45.0,40.0,39.7,55.3,60.55,49.0,50.2,30.0,56.2,46.25,41.45,56.504999999999995,35.0,55.5,35.8,40.8,38.0,23.25,29.75,29.65,35.05,27.45,27.0,36.0,41.8,31.0,50.0,35.0,26.3,40.0,26.6,31.0,27.0,39.0,37.4,54.0,33.8,39.35,42.35,35.9,39.8,43.0,33.0,37.9,34.65,94.7,65.55,53.5,42.0,51.3,55.9,33.2,26.2,46.0,43.6,35.0,41.1,29.900000000000002,42.65,51.0,65.2,52.0,78.3,84.15,37.69500000000001,82.0,45.1,23.400000000000002,42.8,31.0,34.0,26.0]},{\"axis\":{\"matches\":true},\"label\":\"y_true_ub\",\"values\":[418.71000000000015,535.0,474.5999999999992,490.4399999999998,527.2799999999999,388.49999999999983,408.49999999999994,358.20000000000005,467.2799999999993,414.03,386.30999999999995,354.47999999999996,550.0,262.54999999999995,587.9999999999995,366.8000000000001,412.72499999999997,646.0399999999998,339.89999999999986,319.75,293.775,194.1499999999998,157.39999999999998,206.3999999999999,205.5,186.10000000000008,196.10499999999996,199.99499999999998,290.35499999999973,287.2,299.09999999999997,248.26,249.34999999999965,196.0,230.0,352.2,298.57500000000005,475.4849999999997,190.63500000000005,203.6,301.08,129.2,439.2899999999997,369.7999999999999,441.26999999999987,371.3,373.7499999999999,396.6599999999998,245.0,176.5,238.19999999999996,175.75500000000017,1381.0799999999995,477.43499999999983,462.25,340.84999999999997,1333.9500000000012,527.3599999999999,303.59999999999945,262.79999999999995,253.79999999999998,216.3,527.2799999999999,232.89999999999998,312.69999999999993,226.09999999999994,534.0,543.72,544.2,417.1000000000001,713.6500000000001,910.7,944.24,358.0199999999999,181.26,318.96,286.50499999999954,236.10000000000002,343.84]},{\"axis\":{\"matches\":true},\"label\":\"upper_error\",\"values\":[31.520281372358397,165.57880289801665,73.08315900488185,138.89856915364595,191.4946187248422,142.66067606294203,35.1669976040543,48.515000486854774,113.63418849740287,3.984760628280128,116.35543627379775,11.181268398635382,67.67403492734292,254.0607078344716,69.31613272939842,35.00032232484324,36.59260717651949,314.0549610270815,216.49504287415084,77.70510543000103,48.5898335995401,55.54889419603549,203.22083813547943,89.67513672272801,121.22766720475545,102.9003430563937,87.66768914835143,45.322431326495206,40.2168438459249,99.70174407000638,15.047973118677646,66.76919922566213,34.3465837765859,136.49121348016217,278.26020711548136,27.249260540920545,31.05883028576619,171.8225091371233,59.224280323385045,88.14722109631927,9.660318968009221,169.53549505698533,61.296158212556975,65.88448581428224,148.22937559083988,38.01182170162218,141.37447905629347,131.51489639870618,68.18519732535947,148.90191742295985,25.721190668096455,81.17077160686466,590.5285765997965,143.939119402247,36.713678066427235,142.9757476221959,837.6886335346411,107.52390973977776,119.76007164299722,67.52755406792505,60.634954341940585,154.44052502776384,104.95478578388605,22.31229765605613,20.125804618094662,229.66070042516796,24.327022293495872,82.50252108314294,6.172449833768724,68.23597488668588,28.092264718074375,456.7315632006004,455.08723322200746,5.014356115515,41.75316028340268,30.99161306656515,102.11220740788514,135.36070274748886,20.011034314858136]},{\"axis\":{\"matches\":true},\"label\":\"lower_error\",\"values\":[19.39001455243158,7.679858659286552,18.466855883092506,19.244134280323355,49.02260891336334,4.008136942552536,23.48762031186625,9.417076214783037,10.823365920388035,3.825718295146764,11.322507438912446,28.558809537245143,6.801979188701495,5.002455229100612,27.507664644052568,21.047054499966507,6.939834030267384,12.405095520290661,7.826779670373099,13.823832349986038,25.546981876429086,13.95419467982557,9.249789697022596,12.096802399489995,5.334944412553821,4.465766154266589,4.823126247606382,13.587522708464736,5.565764268466374,6.849489827350276,11.148687381936956,14.2385381096192,6.179784599621787,20.91081102404214,9.466971198996333,2.129483501423074,11.160799463882427,0.03299544922465003,9.14016272295439,1.4754456550842292,11.813766215662241,11.2640513877596,20.92985002396378,7.210858794314529,13.71228761702498,13.191085692170631,9.167516703879478,16.60282752744641,15.599867244270524,4.531043572613758,14.809905949854159,12.171925331985364,25.53576702735026,11.186851588140364,16.270425253362994,0.32923467872593903,7.882790506013656,19.169130511217077,3.839177667270789,2.699893454841977,18.490527759329442,11.164432513276303,1.9486394454071956,18.77183475978271,0.7815381156271393,2.776136857226639,6.409427487538011,24.84873097608098,4.928725793257861,35.83863766041478,24.17151724007747,2.0220605170467607,39.20471190205865,14.216032339458692,3.888892035047604,12.183225203507615,2.999573303826402,1.5014251767332354,2.331341090510037]},{\"axis\":{\"matches\":true},\"label\":\"actual_std\",\"values\":[154.37403065964583,152.89400249846295,176.328729011929,168.24522192423981,149.1195000763827,123.75463164566787,135.83054803046284,98.91528952963866,147.73325415886137,125.35464335753854,130.24437975781535,103.64453727373014,166.6504473183251,117.7771155165295,219.5156662456526,161.609903860008,132.96879204160965,231.5940824246688,141.54331421865183,109.80630609005506,102.5545972415894,72.82411389164007,163.99398789793077,60.23068217908192,130.5057853123761,71.4176743567467,55.41719192895217,58.35165469856536,120.10285630222965,87.52075699376637,136.12990726663136,65.07308842464151,70.5981848718348,53.6553818363079,60.31026920374814,113.7483468462571,86.92230612211864,200.45203368379933,86.88060563386142,62.619752618705135,102.31013314627019,32.59265609807052,120.77512570271143,108.04996915008046,199.00499884479638,119.05321672554005,144.5442762309848,228.1913970790768,79.21772288476626,55.29894319315306,67.54905361198367,88.10818394988839,653.1452736037953,139.68455448582986,266.68643750808246,135.17006536890847,477.23984393766733,165.41176017846425,102.4731552776265,82.59413432950929,69.51366500157518,60.093632856165,165.78060854772653,355.25347931099736,107.68888296825334,67.05647198281913,209.4233479603392,169.41127195870607,157.68719826572612,121.77067471264587,206.22942640610114,257.79101426238424,433.87923261840604,100.59923634539356,52.4994635541106,116.34238044315359,74.13485095821653,68.67579111822656,93.11038634261912]},{\"axis\":{\"matches\":true},\"label\":\"true_mean\",\"values\":[197.635,169.2,170.0173076923077,190.62181818181818,209.73030303030305,135.33913043478262,194.93690476190477,160.48196721311476,182.80240963855422,164.83488372093024,177.31304347826085,186.75526315789475,245.96774193548387,145.13181818181818,226.4909090909091,168.92820512820512,197.3891304347826,250.72166666666666,170.514,136.48333333333332,149.16923076923078,94.115,115.884,92.48484848484848,117.0,89.8,89.25,87.76818181818182,106.56666666666666,99.72380952380952,120.33703703703704,98.46060606060605,97.86851851851851,115.0,108.85714285714286,131.14444444444445,112.01111111111112,162.30416666666667,89.78863636363636,91.15172413793104,135.6627906976744,80.28620689655173,151.22666666666666,163.98,177.5,139.07857142857142,143.4575,169.58533333333332,103.51904761904763,82.63870967741936,106.48148148148148,90.14500000000001,532.0836363636363,174.20714285714286,211.89302325581394,154.82105263157894,328.5204545454545,192.95272727272726,133.64594594594593,92.05555555555556,118.87073170731706,113.09487179487179,150.4727272727273,152.1139534883721,123.21395348837208,110.89999999999999,217.51809954751133,221.864,208.5776397515528,210.37435897435898,265.95,257.90277777777777,417.17241379310343,146.35925925925926,76.13877551020408,136.85555555555555,111.1595238095238,125.81428571428572,104.6825]},{\"axis\":{\"matches\":true},\"label\":\"true_median\",\"values\":[153.5,108.0,106.0,145.0,163.0,96.0,170.0,140.0,134.0,123.0,164.0,171.95,205.0,114.0,171.2,116.0,180.5,157.35,127.44999999999999,91.5,123.5,70.5,77.0,72.0,86.5,59.0,72.5,68.0,77.5,67.0,70.0,75.0,74.5,117.0,113.0,78.0,81.0,71.5,63.5,78.0,106.0,79.0,121.0,151.0,114.94999999999999,98.0,97.5,111.0,73.0,65.0,76.0,55.5,331.0,130.0,140.5,122.0,170.5,140.5,101.0,55.0,93.0,105.0,97.0,86.0,82.0,90.0,156.0,186.0,167.0,167.2,213.0,165.5,283.0,108.0,57.900000000000006,109.0,95.05,118.0,80.5]},{\"axis\":{\"matches\":true},\"label\":\"coverage\",\"values\":[0.85,0.8536585365853658,0.9230769230769231,0.8909090909090909,0.8484848484848485,0.7391304347826086,0.9047619047619048,0.9672131147540983,0.8554216867469879,0.8837209302325582,0.9565217391304348,0.9736842105263158,0.8064516129032258,0.9090909090909091,0.8181818181818182,0.9230769230769231,0.9130434782608695,0.7166666666666667,0.98,0.8611111111111112,0.9615384615384616,0.95,0.96,1.0,0.8846153846153846,0.9,1.0,1.0,0.9333333333333333,0.9047619047619048,0.9259259259259259,1.0,0.9259259259259259,1.0,0.8095238095238095,0.7777777777777778,0.9722222222222222,0.7916666666666666,0.9090909090909091,0.9482758620689655,0.9534883720930233,1.0,0.9,0.8,0.8333333333333334,0.8214285714285714,0.7875,0.8133333333333334,0.9523809523809523,0.967741935483871,1.0,0.95,0.7636363636363637,0.9642857142857143,0.8837209302325582,0.8947368421052632,0.8863636363636364,0.9272727272727272,0.8918918918918919,0.8888888888888888,1.0,1.0,0.8484848484848485,0.9534883720930233,0.8837209302325582,0.9583333333333334,0.9049773755656109,0.84,0.9006211180124224,0.9743589743589743,0.9,0.8194444444444444,0.7931034482758621,0.9259259259259259,1.0,0.9629629629629629,0.9047619047619048,0.9523809523809523,0.85]}],\"hovertemplate\":\"%{xaxis.title.text}=%{x}<br>%{yaxis.title.text}=%{y}<extra></extra>\",\"legendgroup\":\"\",\"marker\":{\"color\":\"#636efa\",\"symbol\":\"circle\"},\"name\":\"\",\"showlegend\":false,\"type\":\"splom\"}],                        {\"template\":{\"data\":{\"histogram2dcontour\":[{\"type\":\"histogram2dcontour\",\"colorbar\":{\"outlinewidth\":0,\"ticks\":\"\"},\"colorscale\":[[0.0,\"#0d0887\"],[0.1111111111111111,\"#46039f\"],[0.2222222222222222,\"#7201a8\"],[0.3333333333333333,\"#9c179e\"],[0.4444444444444444,\"#bd3786\"],[0.5555555555555556,\"#d8576b\"],[0.6666666666666666,\"#ed7953\"],[0.7777777777777778,\"#fb9f3a\"],[0.8888888888888888,\"#fdca26\"],[1.0,\"#f0f921\"]]}],\"choropleth\":[{\"type\":\"choropleth\",\"colorbar\":{\"outlinewidth\":0,\"ticks\":\"\"}}],\"histogram2d\":[{\"type\":\"histogram2d\",\"colorbar\":{\"outlinewidth\":0,\"ticks\":\"\"},\"colorscale\":[[0.0,\"#0d0887\"],[0.1111111111111111,\"#46039f\"],[0.2222222222222222,\"#7201a8\"],[0.3333333333333333,\"#9c179e\"],[0.4444444444444444,\"#bd3786\"],[0.5555555555555556,\"#d8576b\"],[0.6666666666666666,\"#ed7953\"],[0.7777777777777778,\"#fb9f3a\"],[0.8888888888888888,\"#fdca26\"],[1.0,\"#f0f921\"]]}],\"heatmap\":[{\"type\":\"heatmap\",\"colorbar\":{\"outlinewidth\":0,\"ticks\":\"\"},\"colorscale\":[[0.0,\"#0d0887\"],[0.1111111111111111,\"#46039f\"],[0.2222222222222222,\"#7201a8\"],[0.3333333333333333,\"#9c179e\"],[0.4444444444444444,\"#bd3786\"],[0.5555555555555556,\"#d8576b\"],[0.6666666666666666,\"#ed7953\"],[0.7777777777777778,\"#fb9f3a\"],[0.8888888888888888,\"#fdca26\"],[1.0,\"#f0f921\"]]}],\"heatmapgl\":[{\"type\":\"heatmapgl\",\"colorbar\":{\"outlinewidth\":0,\"ticks\":\"\"},\"colorscale\":[[0.0,\"#0d0887\"],[0.1111111111111111,\"#46039f\"],[0.2222222222222222,\"#7201a8\"],[0.3333333333333333,\"#9c179e\"],[0.4444444444444444,\"#bd3786\"],[0.5555555555555556,\"#d8576b\"],[0.6666666666666666,\"#ed7953\"],[0.7777777777777778,\"#fb9f3a\"],[0.8888888888888888,\"#fdca26\"],[1.0,\"#f0f921\"]]}],\"contourcarpet\":[{\"type\":\"contourcarpet\",\"colorbar\":{\"outlinewidth\":0,\"ticks\":\"\"}}],\"contour\":[{\"type\":\"contour\",\"colorbar\":{\"outlinewidth\":0,\"ticks\":\"\"},\"colorscale\":[[0.0,\"#0d0887\"],[0.1111111111111111,\"#46039f\"],[0.2222222222222222,\"#7201a8\"],[0.3333333333333333,\"#9c179e\"],[0.4444444444444444,\"#bd3786\"],[0.5555555555555556,\"#d8576b\"],[0.6666666666666666,\"#ed7953\"],[0.7777777777777778,\"#fb9f3a\"],[0.8888888888888888,\"#fdca26\"],[1.0,\"#f0f921\"]]}],\"surface\":[{\"type\":\"surface\",\"colorbar\":{\"outlinewidth\":0,\"ticks\":\"\"},\"colorscale\":[[0.0,\"#0d0887\"],[0.1111111111111111,\"#46039f\"],[0.2222222222222222,\"#7201a8\"],[0.3333333333333333,\"#9c179e\"],[0.4444444444444444,\"#bd3786\"],[0.5555555555555556,\"#d8576b\"],[0.6666666666666666,\"#ed7953\"],[0.7777777777777778,\"#fb9f3a\"],[0.8888888888888888,\"#fdca26\"],[1.0,\"#f0f921\"]]}],\"mesh3d\":[{\"type\":\"mesh3d\",\"colorbar\":{\"outlinewidth\":0,\"ticks\":\"\"}}],\"scatter\":[{\"fillpattern\":{\"fillmode\":\"overlay\",\"size\":10,\"solidity\":0.2},\"type\":\"scatter\"}],\"parcoords\":[{\"type\":\"parcoords\",\"line\":{\"colorbar\":{\"outlinewidth\":0,\"ticks\":\"\"}}}],\"scatterpolargl\":[{\"type\":\"scatterpolargl\",\"marker\":{\"colorbar\":{\"outlinewidth\":0,\"ticks\":\"\"}}}],\"bar\":[{\"error_x\":{\"color\":\"#2a3f5f\"},\"error_y\":{\"color\":\"#2a3f5f\"},\"marker\":{\"line\":{\"color\":\"#E5ECF6\",\"width\":0.5},\"pattern\":{\"fillmode\":\"overlay\",\"size\":10,\"solidity\":0.2}},\"type\":\"bar\"}],\"scattergeo\":[{\"type\":\"scattergeo\",\"marker\":{\"colorbar\":{\"outlinewidth\":0,\"ticks\":\"\"}}}],\"scatterpolar\":[{\"type\":\"scatterpolar\",\"marker\":{\"colorbar\":{\"outlinewidth\":0,\"ticks\":\"\"}}}],\"histogram\":[{\"marker\":{\"pattern\":{\"fillmode\":\"overlay\",\"size\":10,\"solidity\":0.2}},\"type\":\"histogram\"}],\"scattergl\":[{\"type\":\"scattergl\",\"marker\":{\"colorbar\":{\"outlinewidth\":0,\"ticks\":\"\"}}}],\"scatter3d\":[{\"type\":\"scatter3d\",\"line\":{\"colorbar\":{\"outlinewidth\":0,\"ticks\":\"\"}},\"marker\":{\"colorbar\":{\"outlinewidth\":0,\"ticks\":\"\"}}}],\"scattermapbox\":[{\"type\":\"scattermapbox\",\"marker\":{\"colorbar\":{\"outlinewidth\":0,\"ticks\":\"\"}}}],\"scatterternary\":[{\"type\":\"scatterternary\",\"marker\":{\"colorbar\":{\"outlinewidth\":0,\"ticks\":\"\"}}}],\"scattercarpet\":[{\"type\":\"scattercarpet\",\"marker\":{\"colorbar\":{\"outlinewidth\":0,\"ticks\":\"\"}}}],\"carpet\":[{\"aaxis\":{\"endlinecolor\":\"#2a3f5f\",\"gridcolor\":\"white\",\"linecolor\":\"white\",\"minorgridcolor\":\"white\",\"startlinecolor\":\"#2a3f5f\"},\"baxis\":{\"endlinecolor\":\"#2a3f5f\",\"gridcolor\":\"white\",\"linecolor\":\"white\",\"minorgridcolor\":\"white\",\"startlinecolor\":\"#2a3f5f\"},\"type\":\"carpet\"}],\"table\":[{\"cells\":{\"fill\":{\"color\":\"#EBF0F8\"},\"line\":{\"color\":\"white\"}},\"header\":{\"fill\":{\"color\":\"#C8D4E3\"},\"line\":{\"color\":\"white\"}},\"type\":\"table\"}],\"barpolar\":[{\"marker\":{\"line\":{\"color\":\"#E5ECF6\",\"width\":0.5},\"pattern\":{\"fillmode\":\"overlay\",\"size\":10,\"solidity\":0.2}},\"type\":\"barpolar\"}],\"pie\":[{\"automargin\":true,\"type\":\"pie\"}]},\"layout\":{\"autotypenumbers\":\"strict\",\"colorway\":[\"#636efa\",\"#EF553B\",\"#00cc96\",\"#ab63fa\",\"#FFA15A\",\"#19d3f3\",\"#FF6692\",\"#B6E880\",\"#FF97FF\",\"#FECB52\"],\"font\":{\"color\":\"#2a3f5f\"},\"hovermode\":\"closest\",\"hoverlabel\":{\"align\":\"left\"},\"paper_bgcolor\":\"white\",\"plot_bgcolor\":\"#E5ECF6\",\"polar\":{\"bgcolor\":\"#E5ECF6\",\"angularaxis\":{\"gridcolor\":\"white\",\"linecolor\":\"white\",\"ticks\":\"\"},\"radialaxis\":{\"gridcolor\":\"white\",\"linecolor\":\"white\",\"ticks\":\"\"}},\"ternary\":{\"bgcolor\":\"#E5ECF6\",\"aaxis\":{\"gridcolor\":\"white\",\"linecolor\":\"white\",\"ticks\":\"\"},\"baxis\":{\"gridcolor\":\"white\",\"linecolor\":\"white\",\"ticks\":\"\"},\"caxis\":{\"gridcolor\":\"white\",\"linecolor\":\"white\",\"ticks\":\"\"}},\"coloraxis\":{\"colorbar\":{\"outlinewidth\":0,\"ticks\":\"\"}},\"colorscale\":{\"sequential\":[[0.0,\"#0d0887\"],[0.1111111111111111,\"#46039f\"],[0.2222222222222222,\"#7201a8\"],[0.3333333333333333,\"#9c179e\"],[0.4444444444444444,\"#bd3786\"],[0.5555555555555556,\"#d8576b\"],[0.6666666666666666,\"#ed7953\"],[0.7777777777777778,\"#fb9f3a\"],[0.8888888888888888,\"#fdca26\"],[1.0,\"#f0f921\"]],\"sequentialminus\":[[0.0,\"#0d0887\"],[0.1111111111111111,\"#46039f\"],[0.2222222222222222,\"#7201a8\"],[0.3333333333333333,\"#9c179e\"],[0.4444444444444444,\"#bd3786\"],[0.5555555555555556,\"#d8576b\"],[0.6666666666666666,\"#ed7953\"],[0.7777777777777778,\"#fb9f3a\"],[0.8888888888888888,\"#fdca26\"],[1.0,\"#f0f921\"]],\"diverging\":[[0,\"#8e0152\"],[0.1,\"#c51b7d\"],[0.2,\"#de77ae\"],[0.3,\"#f1b6da\"],[0.4,\"#fde0ef\"],[0.5,\"#f7f7f7\"],[0.6,\"#e6f5d0\"],[0.7,\"#b8e186\"],[0.8,\"#7fbc41\"],[0.9,\"#4d9221\"],[1,\"#276419\"]]},\"xaxis\":{\"gridcolor\":\"white\",\"linecolor\":\"white\",\"ticks\":\"\",\"title\":{\"standoff\":15},\"zerolinecolor\":\"white\",\"automargin\":true,\"zerolinewidth\":2},\"yaxis\":{\"gridcolor\":\"white\",\"linecolor\":\"white\",\"ticks\":\"\",\"title\":{\"standoff\":15},\"zerolinecolor\":\"white\",\"automargin\":true,\"zerolinewidth\":2},\"scene\":{\"xaxis\":{\"backgroundcolor\":\"#E5ECF6\",\"gridcolor\":\"white\",\"linecolor\":\"white\",\"showbackground\":true,\"ticks\":\"\",\"zerolinecolor\":\"white\",\"gridwidth\":2},\"yaxis\":{\"backgroundcolor\":\"#E5ECF6\",\"gridcolor\":\"white\",\"linecolor\":\"white\",\"showbackground\":true,\"ticks\":\"\",\"zerolinecolor\":\"white\",\"gridwidth\":2},\"zaxis\":{\"backgroundcolor\":\"#E5ECF6\",\"gridcolor\":\"white\",\"linecolor\":\"white\",\"showbackground\":true,\"ticks\":\"\",\"zerolinecolor\":\"white\",\"gridwidth\":2}},\"shapedefaults\":{\"line\":{\"color\":\"#2a3f5f\"}},\"annotationdefaults\":{\"arrowcolor\":\"#2a3f5f\",\"arrowhead\":0,\"arrowwidth\":1},\"geo\":{\"bgcolor\":\"white\",\"landcolor\":\"#E5ECF6\",\"subunitcolor\":\"white\",\"showland\":true,\"showlakes\":true,\"lakecolor\":\"white\"},\"title\":{\"x\":0.05},\"mapbox\":{\"style\":\"light\"}}},\"legend\":{\"tracegroupgap\":0},\"margin\":{\"t\":60},\"dragmode\":\"select\",\"height\":800,\"width\":1200},                        {\"responsive\": true}                    ).then(function(){\n",
       "                            \n",
       "var gd = document.getElementById('3695c2e3-e624-4cb9-8736-724018aa7c22');\n",
       "var x = new MutationObserver(function (mutations, observer) {{\n",
       "        var display = window.getComputedStyle(gd).display;\n",
       "        if (!display || display === 'none') {{\n",
       "            console.log([gd, 'removed!']);\n",
       "            Plotly.purge(gd);\n",
       "            observer.disconnect();\n",
       "        }}\n",
       "}});\n",
       "\n",
       "// Listen for the removal of the full notebook cells\n",
       "var notebookContainer = gd.closest('#notebook-container');\n",
       "if (notebookContainer) {{\n",
       "    x.observe(notebookContainer, {childList: true});\n",
       "}}\n",
       "\n",
       "// Listen for the clearing of the current output cell\n",
       "var outputEl = gd.closest('.output');\n",
       "if (outputEl) {{\n",
       "    x.observe(outputEl, {childList: true});\n",
       "}}\n",
       "\n",
       "                        })                };                });            </script>        </div>"
      ]
     },
     "metadata": {},
     "output_type": "display_data"
    }
   ],
   "source": [
    "### Add a Plot of Coverage vs. actual std\n",
    "\n",
    "# get the actual std\n",
    "actual_std = hh.df.loc[tt._test_slice, 'planned_service_time'].groupby(h3_index).std()\n",
    "y_pred_df['actual_std'] = actual_std\n",
    "# add the true mean\n",
    "y_pred_df['true_mean'] = hh.df.loc[tt._test_slice, 'planned_service_time'].groupby(h3_index).mean()\n",
    "# add the true mean\n",
    "y_pred_df['true_median'] = hh.df.loc[tt._test_slice, 'planned_service_time'].groupby(h3_index).median()\n",
    "# add coverage score\n",
    "y_pred_df['coverage'] = coverage_df\n",
    "\n",
    "fig = px.scatter_matrix(\n",
    "    y_pred_df\n",
    ")\n",
    "fig.update_layout(\n",
    "    height=800,\n",
    "    width=1200\n",
    ")\n",
    "\n",
    "fig.show(\n",
    "\n",
    ")"
   ]
  },
  {
   "cell_type": "code",
   "execution_count": 130,
   "metadata": {},
   "outputs": [
    {
     "data": {
      "application/vnd.plotly.v1+json": {
       "config": {
        "plotlyServerURL": "https://plot.ly"
       },
       "data": [
        {
         "hovertemplate": "x=%{x}<br>y=%{y}<extra></extra>",
         "legendgroup": "",
         "marker": {
          "color": "#636efa",
          "symbol": "circle"
         },
         "mode": "markers",
         "name": "",
         "orientation": "v",
         "showlegend": false,
         "type": "scatter",
         "x": [
          0.938806087291483,
          0.7721450576698426,
          0.715719738831396,
          0.718483249916771,
          0.6264295721372273,
          0.8951471309912256,
          0.6855655706884447,
          0.6439565049926707,
          0.7652820670169188,
          0.7090220505373943,
          0.6784125625098802,
          0.593896446684113,
          0.7916515883549526,
          0.6104410346011601,
          0.9218535781619177,
          0.7253938491701257,
          0.7300099082041689,
          0.9636715109660816,
          0.6443556354436147,
          0.7727410692170694,
          0.6287861905255391,
          0.5940933595805232,
          0.628556890764912,
          0.5616121438708521,
          0.8343942664477104,
          0.7031478913795807,
          0.632496757463685,
          0.5782914835055637,
          0.7373063334467524,
          0.6859929336940066,
          0.7567228568152378,
          0.5593626108224694,
          0.6616937480205786,
          0.5030688385368508,
          0.6428967547581882,
          0.8433617364342494,
          0.645059032967602,
          0.9844475031145374,
          0.6704784515864481,
          0.6416308267501798,
          0.7235723915816579,
          0.410277120186426,
          0.6328881302529485,
          0.7679626608779487,
          0.8285338913869221,
          0.7383586481658396,
          0.771641102856714,
          0.7980745781137406,
          0.6732708328913519,
          0.5552249158908976,
          0.621307939657862,
          0.6756458861101196,
          0.976965706537334,
          0.6064700252031663,
          0.7797115056715896,
          0.6711677447302494,
          0.9732600991530752,
          0.7173460704770351,
          0.7551993374843305,
          0.7489433598253776,
          0.5682407495015042,
          0.538214204931499,
          0.8254759478392569,
          0.7572869032508924,
          0.724316822785962,
          0.5763916156531393,
          0.7735798928464638,
          0.7584033660931995,
          0.769815903236573,
          0.5413131226986817,
          0.7024630644801511,
          0.9033607740145332,
          0.787409608830338,
          0.6515168323184911,
          0.6513054894197924,
          0.6746191515809878,
          0.6915566871496426,
          0.5719340459539449,
          0.7164587196626839
         ],
         "xaxis": "x",
         "y": [
          0.85,
          0.8536585365853658,
          0.9230769230769231,
          0.8909090909090909,
          0.8484848484848485,
          0.7391304347826086,
          0.9047619047619048,
          0.9672131147540983,
          0.8554216867469879,
          0.8837209302325582,
          0.9565217391304348,
          0.9736842105263158,
          0.8064516129032258,
          0.9090909090909091,
          0.8181818181818182,
          0.9230769230769231,
          0.9130434782608695,
          0.7166666666666667,
          0.98,
          0.8611111111111112,
          0.9615384615384616,
          0.95,
          0.96,
          1,
          0.8846153846153846,
          0.9,
          1,
          1,
          0.9333333333333333,
          0.9047619047619048,
          0.9259259259259259,
          1,
          0.9259259259259259,
          1,
          0.8095238095238095,
          0.7777777777777778,
          0.9722222222222222,
          0.7916666666666666,
          0.9090909090909091,
          0.9482758620689655,
          0.9534883720930233,
          1,
          0.9,
          0.8,
          0.8333333333333334,
          0.8214285714285714,
          0.7875,
          0.8133333333333334,
          0.9523809523809523,
          0.967741935483871,
          1,
          0.95,
          0.7636363636363637,
          0.9642857142857143,
          0.8837209302325582,
          0.8947368421052632,
          0.8863636363636364,
          0.9272727272727272,
          0.8918918918918919,
          0.8888888888888888,
          1,
          1,
          0.8484848484848485,
          0.9534883720930233,
          0.8837209302325582,
          0.9583333333333334,
          0.9049773755656109,
          0.84,
          0.9006211180124224,
          0.9743589743589743,
          0.9,
          0.8194444444444444,
          0.7931034482758621,
          0.9259259259259259,
          1,
          0.9629629629629629,
          0.9047619047619048,
          0.9523809523809523,
          0.85
         ],
         "yaxis": "y"
        }
       ],
       "layout": {
        "legend": {
         "tracegroupgap": 0
        },
        "margin": {
         "t": 60
        },
        "template": {
         "data": {
          "bar": [
           {
            "error_x": {
             "color": "#2a3f5f"
            },
            "error_y": {
             "color": "#2a3f5f"
            },
            "marker": {
             "line": {
              "color": "#E5ECF6",
              "width": 0.5
             },
             "pattern": {
              "fillmode": "overlay",
              "size": 10,
              "solidity": 0.2
             }
            },
            "type": "bar"
           }
          ],
          "barpolar": [
           {
            "marker": {
             "line": {
              "color": "#E5ECF6",
              "width": 0.5
             },
             "pattern": {
              "fillmode": "overlay",
              "size": 10,
              "solidity": 0.2
             }
            },
            "type": "barpolar"
           }
          ],
          "carpet": [
           {
            "aaxis": {
             "endlinecolor": "#2a3f5f",
             "gridcolor": "white",
             "linecolor": "white",
             "minorgridcolor": "white",
             "startlinecolor": "#2a3f5f"
            },
            "baxis": {
             "endlinecolor": "#2a3f5f",
             "gridcolor": "white",
             "linecolor": "white",
             "minorgridcolor": "white",
             "startlinecolor": "#2a3f5f"
            },
            "type": "carpet"
           }
          ],
          "choropleth": [
           {
            "colorbar": {
             "outlinewidth": 0,
             "ticks": ""
            },
            "type": "choropleth"
           }
          ],
          "contour": [
           {
            "colorbar": {
             "outlinewidth": 0,
             "ticks": ""
            },
            "colorscale": [
             [
              0,
              "#0d0887"
             ],
             [
              0.1111111111111111,
              "#46039f"
             ],
             [
              0.2222222222222222,
              "#7201a8"
             ],
             [
              0.3333333333333333,
              "#9c179e"
             ],
             [
              0.4444444444444444,
              "#bd3786"
             ],
             [
              0.5555555555555556,
              "#d8576b"
             ],
             [
              0.6666666666666666,
              "#ed7953"
             ],
             [
              0.7777777777777778,
              "#fb9f3a"
             ],
             [
              0.8888888888888888,
              "#fdca26"
             ],
             [
              1,
              "#f0f921"
             ]
            ],
            "type": "contour"
           }
          ],
          "contourcarpet": [
           {
            "colorbar": {
             "outlinewidth": 0,
             "ticks": ""
            },
            "type": "contourcarpet"
           }
          ],
          "heatmap": [
           {
            "colorbar": {
             "outlinewidth": 0,
             "ticks": ""
            },
            "colorscale": [
             [
              0,
              "#0d0887"
             ],
             [
              0.1111111111111111,
              "#46039f"
             ],
             [
              0.2222222222222222,
              "#7201a8"
             ],
             [
              0.3333333333333333,
              "#9c179e"
             ],
             [
              0.4444444444444444,
              "#bd3786"
             ],
             [
              0.5555555555555556,
              "#d8576b"
             ],
             [
              0.6666666666666666,
              "#ed7953"
             ],
             [
              0.7777777777777778,
              "#fb9f3a"
             ],
             [
              0.8888888888888888,
              "#fdca26"
             ],
             [
              1,
              "#f0f921"
             ]
            ],
            "type": "heatmap"
           }
          ],
          "heatmapgl": [
           {
            "colorbar": {
             "outlinewidth": 0,
             "ticks": ""
            },
            "colorscale": [
             [
              0,
              "#0d0887"
             ],
             [
              0.1111111111111111,
              "#46039f"
             ],
             [
              0.2222222222222222,
              "#7201a8"
             ],
             [
              0.3333333333333333,
              "#9c179e"
             ],
             [
              0.4444444444444444,
              "#bd3786"
             ],
             [
              0.5555555555555556,
              "#d8576b"
             ],
             [
              0.6666666666666666,
              "#ed7953"
             ],
             [
              0.7777777777777778,
              "#fb9f3a"
             ],
             [
              0.8888888888888888,
              "#fdca26"
             ],
             [
              1,
              "#f0f921"
             ]
            ],
            "type": "heatmapgl"
           }
          ],
          "histogram": [
           {
            "marker": {
             "pattern": {
              "fillmode": "overlay",
              "size": 10,
              "solidity": 0.2
             }
            },
            "type": "histogram"
           }
          ],
          "histogram2d": [
           {
            "colorbar": {
             "outlinewidth": 0,
             "ticks": ""
            },
            "colorscale": [
             [
              0,
              "#0d0887"
             ],
             [
              0.1111111111111111,
              "#46039f"
             ],
             [
              0.2222222222222222,
              "#7201a8"
             ],
             [
              0.3333333333333333,
              "#9c179e"
             ],
             [
              0.4444444444444444,
              "#bd3786"
             ],
             [
              0.5555555555555556,
              "#d8576b"
             ],
             [
              0.6666666666666666,
              "#ed7953"
             ],
             [
              0.7777777777777778,
              "#fb9f3a"
             ],
             [
              0.8888888888888888,
              "#fdca26"
             ],
             [
              1,
              "#f0f921"
             ]
            ],
            "type": "histogram2d"
           }
          ],
          "histogram2dcontour": [
           {
            "colorbar": {
             "outlinewidth": 0,
             "ticks": ""
            },
            "colorscale": [
             [
              0,
              "#0d0887"
             ],
             [
              0.1111111111111111,
              "#46039f"
             ],
             [
              0.2222222222222222,
              "#7201a8"
             ],
             [
              0.3333333333333333,
              "#9c179e"
             ],
             [
              0.4444444444444444,
              "#bd3786"
             ],
             [
              0.5555555555555556,
              "#d8576b"
             ],
             [
              0.6666666666666666,
              "#ed7953"
             ],
             [
              0.7777777777777778,
              "#fb9f3a"
             ],
             [
              0.8888888888888888,
              "#fdca26"
             ],
             [
              1,
              "#f0f921"
             ]
            ],
            "type": "histogram2dcontour"
           }
          ],
          "mesh3d": [
           {
            "colorbar": {
             "outlinewidth": 0,
             "ticks": ""
            },
            "type": "mesh3d"
           }
          ],
          "parcoords": [
           {
            "line": {
             "colorbar": {
              "outlinewidth": 0,
              "ticks": ""
             }
            },
            "type": "parcoords"
           }
          ],
          "pie": [
           {
            "automargin": true,
            "type": "pie"
           }
          ],
          "scatter": [
           {
            "fillpattern": {
             "fillmode": "overlay",
             "size": 10,
             "solidity": 0.2
            },
            "type": "scatter"
           }
          ],
          "scatter3d": [
           {
            "line": {
             "colorbar": {
              "outlinewidth": 0,
              "ticks": ""
             }
            },
            "marker": {
             "colorbar": {
              "outlinewidth": 0,
              "ticks": ""
             }
            },
            "type": "scatter3d"
           }
          ],
          "scattercarpet": [
           {
            "marker": {
             "colorbar": {
              "outlinewidth": 0,
              "ticks": ""
             }
            },
            "type": "scattercarpet"
           }
          ],
          "scattergeo": [
           {
            "marker": {
             "colorbar": {
              "outlinewidth": 0,
              "ticks": ""
             }
            },
            "type": "scattergeo"
           }
          ],
          "scattergl": [
           {
            "marker": {
             "colorbar": {
              "outlinewidth": 0,
              "ticks": ""
             }
            },
            "type": "scattergl"
           }
          ],
          "scattermapbox": [
           {
            "marker": {
             "colorbar": {
              "outlinewidth": 0,
              "ticks": ""
             }
            },
            "type": "scattermapbox"
           }
          ],
          "scatterpolar": [
           {
            "marker": {
             "colorbar": {
              "outlinewidth": 0,
              "ticks": ""
             }
            },
            "type": "scatterpolar"
           }
          ],
          "scatterpolargl": [
           {
            "marker": {
             "colorbar": {
              "outlinewidth": 0,
              "ticks": ""
             }
            },
            "type": "scatterpolargl"
           }
          ],
          "scatterternary": [
           {
            "marker": {
             "colorbar": {
              "outlinewidth": 0,
              "ticks": ""
             }
            },
            "type": "scatterternary"
           }
          ],
          "surface": [
           {
            "colorbar": {
             "outlinewidth": 0,
             "ticks": ""
            },
            "colorscale": [
             [
              0,
              "#0d0887"
             ],
             [
              0.1111111111111111,
              "#46039f"
             ],
             [
              0.2222222222222222,
              "#7201a8"
             ],
             [
              0.3333333333333333,
              "#9c179e"
             ],
             [
              0.4444444444444444,
              "#bd3786"
             ],
             [
              0.5555555555555556,
              "#d8576b"
             ],
             [
              0.6666666666666666,
              "#ed7953"
             ],
             [
              0.7777777777777778,
              "#fb9f3a"
             ],
             [
              0.8888888888888888,
              "#fdca26"
             ],
             [
              1,
              "#f0f921"
             ]
            ],
            "type": "surface"
           }
          ],
          "table": [
           {
            "cells": {
             "fill": {
              "color": "#EBF0F8"
             },
             "line": {
              "color": "white"
             }
            },
            "header": {
             "fill": {
              "color": "#C8D4E3"
             },
             "line": {
              "color": "white"
             }
            },
            "type": "table"
           }
          ]
         },
         "layout": {
          "annotationdefaults": {
           "arrowcolor": "#2a3f5f",
           "arrowhead": 0,
           "arrowwidth": 1
          },
          "autotypenumbers": "strict",
          "coloraxis": {
           "colorbar": {
            "outlinewidth": 0,
            "ticks": ""
           }
          },
          "colorscale": {
           "diverging": [
            [
             0,
             "#8e0152"
            ],
            [
             0.1,
             "#c51b7d"
            ],
            [
             0.2,
             "#de77ae"
            ],
            [
             0.3,
             "#f1b6da"
            ],
            [
             0.4,
             "#fde0ef"
            ],
            [
             0.5,
             "#f7f7f7"
            ],
            [
             0.6,
             "#e6f5d0"
            ],
            [
             0.7,
             "#b8e186"
            ],
            [
             0.8,
             "#7fbc41"
            ],
            [
             0.9,
             "#4d9221"
            ],
            [
             1,
             "#276419"
            ]
           ],
           "sequential": [
            [
             0,
             "#0d0887"
            ],
            [
             0.1111111111111111,
             "#46039f"
            ],
            [
             0.2222222222222222,
             "#7201a8"
            ],
            [
             0.3333333333333333,
             "#9c179e"
            ],
            [
             0.4444444444444444,
             "#bd3786"
            ],
            [
             0.5555555555555556,
             "#d8576b"
            ],
            [
             0.6666666666666666,
             "#ed7953"
            ],
            [
             0.7777777777777778,
             "#fb9f3a"
            ],
            [
             0.8888888888888888,
             "#fdca26"
            ],
            [
             1,
             "#f0f921"
            ]
           ],
           "sequentialminus": [
            [
             0,
             "#0d0887"
            ],
            [
             0.1111111111111111,
             "#46039f"
            ],
            [
             0.2222222222222222,
             "#7201a8"
            ],
            [
             0.3333333333333333,
             "#9c179e"
            ],
            [
             0.4444444444444444,
             "#bd3786"
            ],
            [
             0.5555555555555556,
             "#d8576b"
            ],
            [
             0.6666666666666666,
             "#ed7953"
            ],
            [
             0.7777777777777778,
             "#fb9f3a"
            ],
            [
             0.8888888888888888,
             "#fdca26"
            ],
            [
             1,
             "#f0f921"
            ]
           ]
          },
          "colorway": [
           "#636efa",
           "#EF553B",
           "#00cc96",
           "#ab63fa",
           "#FFA15A",
           "#19d3f3",
           "#FF6692",
           "#B6E880",
           "#FF97FF",
           "#FECB52"
          ],
          "font": {
           "color": "#2a3f5f"
          },
          "geo": {
           "bgcolor": "white",
           "lakecolor": "white",
           "landcolor": "#E5ECF6",
           "showlakes": true,
           "showland": true,
           "subunitcolor": "white"
          },
          "hoverlabel": {
           "align": "left"
          },
          "hovermode": "closest",
          "mapbox": {
           "style": "light"
          },
          "paper_bgcolor": "white",
          "plot_bgcolor": "#E5ECF6",
          "polar": {
           "angularaxis": {
            "gridcolor": "white",
            "linecolor": "white",
            "ticks": ""
           },
           "bgcolor": "#E5ECF6",
           "radialaxis": {
            "gridcolor": "white",
            "linecolor": "white",
            "ticks": ""
           }
          },
          "scene": {
           "xaxis": {
            "backgroundcolor": "#E5ECF6",
            "gridcolor": "white",
            "gridwidth": 2,
            "linecolor": "white",
            "showbackground": true,
            "ticks": "",
            "zerolinecolor": "white"
           },
           "yaxis": {
            "backgroundcolor": "#E5ECF6",
            "gridcolor": "white",
            "gridwidth": 2,
            "linecolor": "white",
            "showbackground": true,
            "ticks": "",
            "zerolinecolor": "white"
           },
           "zaxis": {
            "backgroundcolor": "#E5ECF6",
            "gridcolor": "white",
            "gridwidth": 2,
            "linecolor": "white",
            "showbackground": true,
            "ticks": "",
            "zerolinecolor": "white"
           }
          },
          "shapedefaults": {
           "line": {
            "color": "#2a3f5f"
           }
          },
          "ternary": {
           "aaxis": {
            "gridcolor": "white",
            "linecolor": "white",
            "ticks": ""
           },
           "baxis": {
            "gridcolor": "white",
            "linecolor": "white",
            "ticks": ""
           },
           "bgcolor": "#E5ECF6",
           "caxis": {
            "gridcolor": "white",
            "linecolor": "white",
            "ticks": ""
           }
          },
          "title": {
           "x": 0.05
          },
          "xaxis": {
           "automargin": true,
           "gridcolor": "white",
           "linecolor": "white",
           "ticks": "",
           "title": {
            "standoff": 15
           },
           "zerolinecolor": "white",
           "zerolinewidth": 2
          },
          "yaxis": {
           "automargin": true,
           "gridcolor": "white",
           "linecolor": "white",
           "ticks": "",
           "title": {
            "standoff": 15
           },
           "zerolinecolor": "white",
           "zerolinewidth": 2
          }
         }
        },
        "xaxis": {
         "anchor": "y",
         "domain": [
          0,
          1
         ],
         "title": {
          "text": "x"
         }
        },
        "yaxis": {
         "anchor": "x",
         "domain": [
          0,
          1
         ],
         "title": {
          "text": "y"
         }
        }
       }
      },
      "text/html": [
       "<div>                            <div id=\"b17b9b6b-ff87-4629-9df3-9c3e5b84646b\" class=\"plotly-graph-div\" style=\"height:525px; width:100%;\"></div>            <script type=\"text/javascript\">                require([\"plotly\"], function(Plotly) {                    window.PLOTLYENV=window.PLOTLYENV || {};                                    if (document.getElementById(\"b17b9b6b-ff87-4629-9df3-9c3e5b84646b\")) {                    Plotly.newPlot(                        \"b17b9b6b-ff87-4629-9df3-9c3e5b84646b\",                        [{\"hovertemplate\":\"x=%{x}<br>y=%{y}<extra></extra>\",\"legendgroup\":\"\",\"marker\":{\"color\":\"#636efa\",\"symbol\":\"circle\"},\"mode\":\"markers\",\"name\":\"\",\"orientation\":\"v\",\"showlegend\":false,\"x\":[0.938806087291483,0.7721450576698426,0.715719738831396,0.718483249916771,0.6264295721372273,0.8951471309912256,0.6855655706884447,0.6439565049926707,0.7652820670169188,0.7090220505373943,0.6784125625098802,0.593896446684113,0.7916515883549526,0.6104410346011601,0.9218535781619177,0.7253938491701257,0.7300099082041689,0.9636715109660816,0.6443556354436147,0.7727410692170694,0.6287861905255391,0.5940933595805232,0.628556890764912,0.5616121438708521,0.8343942664477104,0.7031478913795807,0.632496757463685,0.5782914835055637,0.7373063334467524,0.6859929336940066,0.7567228568152378,0.5593626108224694,0.6616937480205786,0.5030688385368508,0.6428967547581882,0.8433617364342494,0.645059032967602,0.9844475031145374,0.6704784515864481,0.6416308267501798,0.7235723915816579,0.410277120186426,0.6328881302529485,0.7679626608779487,0.8285338913869221,0.7383586481658396,0.771641102856714,0.7980745781137406,0.6732708328913519,0.5552249158908976,0.621307939657862,0.6756458861101196,0.976965706537334,0.6064700252031663,0.7797115056715896,0.6711677447302494,0.9732600991530752,0.7173460704770351,0.7551993374843305,0.7489433598253776,0.5682407495015042,0.538214204931499,0.8254759478392569,0.7572869032508924,0.724316822785962,0.5763916156531393,0.7735798928464638,0.7584033660931995,0.769815903236573,0.5413131226986817,0.7024630644801511,0.9033607740145332,0.787409608830338,0.6515168323184911,0.6513054894197924,0.6746191515809878,0.6915566871496426,0.5719340459539449,0.7164587196626839],\"xaxis\":\"x\",\"y\":[0.85,0.8536585365853658,0.9230769230769231,0.8909090909090909,0.8484848484848485,0.7391304347826086,0.9047619047619048,0.9672131147540983,0.8554216867469879,0.8837209302325582,0.9565217391304348,0.9736842105263158,0.8064516129032258,0.9090909090909091,0.8181818181818182,0.9230769230769231,0.9130434782608695,0.7166666666666667,0.98,0.8611111111111112,0.9615384615384616,0.95,0.96,1.0,0.8846153846153846,0.9,1.0,1.0,0.9333333333333333,0.9047619047619048,0.9259259259259259,1.0,0.9259259259259259,1.0,0.8095238095238095,0.7777777777777778,0.9722222222222222,0.7916666666666666,0.9090909090909091,0.9482758620689655,0.9534883720930233,1.0,0.9,0.8,0.8333333333333334,0.8214285714285714,0.7875,0.8133333333333334,0.9523809523809523,0.967741935483871,1.0,0.95,0.7636363636363637,0.9642857142857143,0.8837209302325582,0.8947368421052632,0.8863636363636364,0.9272727272727272,0.8918918918918919,0.8888888888888888,1.0,1.0,0.8484848484848485,0.9534883720930233,0.8837209302325582,0.9583333333333334,0.9049773755656109,0.84,0.9006211180124224,0.9743589743589743,0.9,0.8194444444444444,0.7931034482758621,0.9259259259259259,1.0,0.9629629629629629,0.9047619047619048,0.9523809523809523,0.85],\"yaxis\":\"y\",\"type\":\"scatter\"}],                        {\"template\":{\"data\":{\"histogram2dcontour\":[{\"type\":\"histogram2dcontour\",\"colorbar\":{\"outlinewidth\":0,\"ticks\":\"\"},\"colorscale\":[[0.0,\"#0d0887\"],[0.1111111111111111,\"#46039f\"],[0.2222222222222222,\"#7201a8\"],[0.3333333333333333,\"#9c179e\"],[0.4444444444444444,\"#bd3786\"],[0.5555555555555556,\"#d8576b\"],[0.6666666666666666,\"#ed7953\"],[0.7777777777777778,\"#fb9f3a\"],[0.8888888888888888,\"#fdca26\"],[1.0,\"#f0f921\"]]}],\"choropleth\":[{\"type\":\"choropleth\",\"colorbar\":{\"outlinewidth\":0,\"ticks\":\"\"}}],\"histogram2d\":[{\"type\":\"histogram2d\",\"colorbar\":{\"outlinewidth\":0,\"ticks\":\"\"},\"colorscale\":[[0.0,\"#0d0887\"],[0.1111111111111111,\"#46039f\"],[0.2222222222222222,\"#7201a8\"],[0.3333333333333333,\"#9c179e\"],[0.4444444444444444,\"#bd3786\"],[0.5555555555555556,\"#d8576b\"],[0.6666666666666666,\"#ed7953\"],[0.7777777777777778,\"#fb9f3a\"],[0.8888888888888888,\"#fdca26\"],[1.0,\"#f0f921\"]]}],\"heatmap\":[{\"type\":\"heatmap\",\"colorbar\":{\"outlinewidth\":0,\"ticks\":\"\"},\"colorscale\":[[0.0,\"#0d0887\"],[0.1111111111111111,\"#46039f\"],[0.2222222222222222,\"#7201a8\"],[0.3333333333333333,\"#9c179e\"],[0.4444444444444444,\"#bd3786\"],[0.5555555555555556,\"#d8576b\"],[0.6666666666666666,\"#ed7953\"],[0.7777777777777778,\"#fb9f3a\"],[0.8888888888888888,\"#fdca26\"],[1.0,\"#f0f921\"]]}],\"heatmapgl\":[{\"type\":\"heatmapgl\",\"colorbar\":{\"outlinewidth\":0,\"ticks\":\"\"},\"colorscale\":[[0.0,\"#0d0887\"],[0.1111111111111111,\"#46039f\"],[0.2222222222222222,\"#7201a8\"],[0.3333333333333333,\"#9c179e\"],[0.4444444444444444,\"#bd3786\"],[0.5555555555555556,\"#d8576b\"],[0.6666666666666666,\"#ed7953\"],[0.7777777777777778,\"#fb9f3a\"],[0.8888888888888888,\"#fdca26\"],[1.0,\"#f0f921\"]]}],\"contourcarpet\":[{\"type\":\"contourcarpet\",\"colorbar\":{\"outlinewidth\":0,\"ticks\":\"\"}}],\"contour\":[{\"type\":\"contour\",\"colorbar\":{\"outlinewidth\":0,\"ticks\":\"\"},\"colorscale\":[[0.0,\"#0d0887\"],[0.1111111111111111,\"#46039f\"],[0.2222222222222222,\"#7201a8\"],[0.3333333333333333,\"#9c179e\"],[0.4444444444444444,\"#bd3786\"],[0.5555555555555556,\"#d8576b\"],[0.6666666666666666,\"#ed7953\"],[0.7777777777777778,\"#fb9f3a\"],[0.8888888888888888,\"#fdca26\"],[1.0,\"#f0f921\"]]}],\"surface\":[{\"type\":\"surface\",\"colorbar\":{\"outlinewidth\":0,\"ticks\":\"\"},\"colorscale\":[[0.0,\"#0d0887\"],[0.1111111111111111,\"#46039f\"],[0.2222222222222222,\"#7201a8\"],[0.3333333333333333,\"#9c179e\"],[0.4444444444444444,\"#bd3786\"],[0.5555555555555556,\"#d8576b\"],[0.6666666666666666,\"#ed7953\"],[0.7777777777777778,\"#fb9f3a\"],[0.8888888888888888,\"#fdca26\"],[1.0,\"#f0f921\"]]}],\"mesh3d\":[{\"type\":\"mesh3d\",\"colorbar\":{\"outlinewidth\":0,\"ticks\":\"\"}}],\"scatter\":[{\"fillpattern\":{\"fillmode\":\"overlay\",\"size\":10,\"solidity\":0.2},\"type\":\"scatter\"}],\"parcoords\":[{\"type\":\"parcoords\",\"line\":{\"colorbar\":{\"outlinewidth\":0,\"ticks\":\"\"}}}],\"scatterpolargl\":[{\"type\":\"scatterpolargl\",\"marker\":{\"colorbar\":{\"outlinewidth\":0,\"ticks\":\"\"}}}],\"bar\":[{\"error_x\":{\"color\":\"#2a3f5f\"},\"error_y\":{\"color\":\"#2a3f5f\"},\"marker\":{\"line\":{\"color\":\"#E5ECF6\",\"width\":0.5},\"pattern\":{\"fillmode\":\"overlay\",\"size\":10,\"solidity\":0.2}},\"type\":\"bar\"}],\"scattergeo\":[{\"type\":\"scattergeo\",\"marker\":{\"colorbar\":{\"outlinewidth\":0,\"ticks\":\"\"}}}],\"scatterpolar\":[{\"type\":\"scatterpolar\",\"marker\":{\"colorbar\":{\"outlinewidth\":0,\"ticks\":\"\"}}}],\"histogram\":[{\"marker\":{\"pattern\":{\"fillmode\":\"overlay\",\"size\":10,\"solidity\":0.2}},\"type\":\"histogram\"}],\"scattergl\":[{\"type\":\"scattergl\",\"marker\":{\"colorbar\":{\"outlinewidth\":0,\"ticks\":\"\"}}}],\"scatter3d\":[{\"type\":\"scatter3d\",\"line\":{\"colorbar\":{\"outlinewidth\":0,\"ticks\":\"\"}},\"marker\":{\"colorbar\":{\"outlinewidth\":0,\"ticks\":\"\"}}}],\"scattermapbox\":[{\"type\":\"scattermapbox\",\"marker\":{\"colorbar\":{\"outlinewidth\":0,\"ticks\":\"\"}}}],\"scatterternary\":[{\"type\":\"scatterternary\",\"marker\":{\"colorbar\":{\"outlinewidth\":0,\"ticks\":\"\"}}}],\"scattercarpet\":[{\"type\":\"scattercarpet\",\"marker\":{\"colorbar\":{\"outlinewidth\":0,\"ticks\":\"\"}}}],\"carpet\":[{\"aaxis\":{\"endlinecolor\":\"#2a3f5f\",\"gridcolor\":\"white\",\"linecolor\":\"white\",\"minorgridcolor\":\"white\",\"startlinecolor\":\"#2a3f5f\"},\"baxis\":{\"endlinecolor\":\"#2a3f5f\",\"gridcolor\":\"white\",\"linecolor\":\"white\",\"minorgridcolor\":\"white\",\"startlinecolor\":\"#2a3f5f\"},\"type\":\"carpet\"}],\"table\":[{\"cells\":{\"fill\":{\"color\":\"#EBF0F8\"},\"line\":{\"color\":\"white\"}},\"header\":{\"fill\":{\"color\":\"#C8D4E3\"},\"line\":{\"color\":\"white\"}},\"type\":\"table\"}],\"barpolar\":[{\"marker\":{\"line\":{\"color\":\"#E5ECF6\",\"width\":0.5},\"pattern\":{\"fillmode\":\"overlay\",\"size\":10,\"solidity\":0.2}},\"type\":\"barpolar\"}],\"pie\":[{\"automargin\":true,\"type\":\"pie\"}]},\"layout\":{\"autotypenumbers\":\"strict\",\"colorway\":[\"#636efa\",\"#EF553B\",\"#00cc96\",\"#ab63fa\",\"#FFA15A\",\"#19d3f3\",\"#FF6692\",\"#B6E880\",\"#FF97FF\",\"#FECB52\"],\"font\":{\"color\":\"#2a3f5f\"},\"hovermode\":\"closest\",\"hoverlabel\":{\"align\":\"left\"},\"paper_bgcolor\":\"white\",\"plot_bgcolor\":\"#E5ECF6\",\"polar\":{\"bgcolor\":\"#E5ECF6\",\"angularaxis\":{\"gridcolor\":\"white\",\"linecolor\":\"white\",\"ticks\":\"\"},\"radialaxis\":{\"gridcolor\":\"white\",\"linecolor\":\"white\",\"ticks\":\"\"}},\"ternary\":{\"bgcolor\":\"#E5ECF6\",\"aaxis\":{\"gridcolor\":\"white\",\"linecolor\":\"white\",\"ticks\":\"\"},\"baxis\":{\"gridcolor\":\"white\",\"linecolor\":\"white\",\"ticks\":\"\"},\"caxis\":{\"gridcolor\":\"white\",\"linecolor\":\"white\",\"ticks\":\"\"}},\"coloraxis\":{\"colorbar\":{\"outlinewidth\":0,\"ticks\":\"\"}},\"colorscale\":{\"sequential\":[[0.0,\"#0d0887\"],[0.1111111111111111,\"#46039f\"],[0.2222222222222222,\"#7201a8\"],[0.3333333333333333,\"#9c179e\"],[0.4444444444444444,\"#bd3786\"],[0.5555555555555556,\"#d8576b\"],[0.6666666666666666,\"#ed7953\"],[0.7777777777777778,\"#fb9f3a\"],[0.8888888888888888,\"#fdca26\"],[1.0,\"#f0f921\"]],\"sequentialminus\":[[0.0,\"#0d0887\"],[0.1111111111111111,\"#46039f\"],[0.2222222222222222,\"#7201a8\"],[0.3333333333333333,\"#9c179e\"],[0.4444444444444444,\"#bd3786\"],[0.5555555555555556,\"#d8576b\"],[0.6666666666666666,\"#ed7953\"],[0.7777777777777778,\"#fb9f3a\"],[0.8888888888888888,\"#fdca26\"],[1.0,\"#f0f921\"]],\"diverging\":[[0,\"#8e0152\"],[0.1,\"#c51b7d\"],[0.2,\"#de77ae\"],[0.3,\"#f1b6da\"],[0.4,\"#fde0ef\"],[0.5,\"#f7f7f7\"],[0.6,\"#e6f5d0\"],[0.7,\"#b8e186\"],[0.8,\"#7fbc41\"],[0.9,\"#4d9221\"],[1,\"#276419\"]]},\"xaxis\":{\"gridcolor\":\"white\",\"linecolor\":\"white\",\"ticks\":\"\",\"title\":{\"standoff\":15},\"zerolinecolor\":\"white\",\"automargin\":true,\"zerolinewidth\":2},\"yaxis\":{\"gridcolor\":\"white\",\"linecolor\":\"white\",\"ticks\":\"\",\"title\":{\"standoff\":15},\"zerolinecolor\":\"white\",\"automargin\":true,\"zerolinewidth\":2},\"scene\":{\"xaxis\":{\"backgroundcolor\":\"#E5ECF6\",\"gridcolor\":\"white\",\"linecolor\":\"white\",\"showbackground\":true,\"ticks\":\"\",\"zerolinecolor\":\"white\",\"gridwidth\":2},\"yaxis\":{\"backgroundcolor\":\"#E5ECF6\",\"gridcolor\":\"white\",\"linecolor\":\"white\",\"showbackground\":true,\"ticks\":\"\",\"zerolinecolor\":\"white\",\"gridwidth\":2},\"zaxis\":{\"backgroundcolor\":\"#E5ECF6\",\"gridcolor\":\"white\",\"linecolor\":\"white\",\"showbackground\":true,\"ticks\":\"\",\"zerolinecolor\":\"white\",\"gridwidth\":2}},\"shapedefaults\":{\"line\":{\"color\":\"#2a3f5f\"}},\"annotationdefaults\":{\"arrowcolor\":\"#2a3f5f\",\"arrowhead\":0,\"arrowwidth\":1},\"geo\":{\"bgcolor\":\"white\",\"landcolor\":\"#E5ECF6\",\"subunitcolor\":\"white\",\"showland\":true,\"showlakes\":true,\"lakecolor\":\"white\"},\"title\":{\"x\":0.05},\"mapbox\":{\"style\":\"light\"}}},\"xaxis\":{\"anchor\":\"y\",\"domain\":[0.0,1.0],\"title\":{\"text\":\"x\"}},\"yaxis\":{\"anchor\":\"x\",\"domain\":[0.0,1.0],\"title\":{\"text\":\"y\"}},\"legend\":{\"tracegroupgap\":0},\"margin\":{\"t\":60}},                        {\"responsive\": true}                    ).then(function(){\n",
       "                            \n",
       "var gd = document.getElementById('b17b9b6b-ff87-4629-9df3-9c3e5b84646b');\n",
       "var x = new MutationObserver(function (mutations, observer) {{\n",
       "        var display = window.getComputedStyle(gd).display;\n",
       "        if (!display || display === 'none') {{\n",
       "            console.log([gd, 'removed!']);\n",
       "            Plotly.purge(gd);\n",
       "            observer.disconnect();\n",
       "        }}\n",
       "}});\n",
       "\n",
       "// Listen for the removal of the full notebook cells\n",
       "var notebookContainer = gd.closest('#notebook-container');\n",
       "if (notebookContainer) {{\n",
       "    x.observe(notebookContainer, {childList: true});\n",
       "}}\n",
       "\n",
       "// Listen for the clearing of the current output cell\n",
       "var outputEl = gd.closest('.output');\n",
       "if (outputEl) {{\n",
       "    x.observe(outputEl, {childList: true});\n",
       "}}\n",
       "\n",
       "                        })                };                });            </script>        </div>"
      ]
     },
     "metadata": {},
     "output_type": "display_data"
    }
   ],
   "source": [
    "### Add a Plot of Coverage vs. actual std\n",
    "\n",
    "# get the actual std\n",
    "actual_std = hh.df.loc[tt._test_slice, 'planned_service_time_log'].groupby(h3_index).std()\n",
    "\n",
    "\n",
    "fig = px.scatter(\n",
    "    x=actual_std,\n",
    "    y=coverage_df,\n",
    ")\n",
    "\n",
    "fig.show()\n",
    "\n"
   ]
  },
  {
   "cell_type": "code",
   "execution_count": 131,
   "metadata": {},
   "outputs": [],
   "source": [
    "# make a plotly figure with 2 y axes\n",
    "from plotly.subplots import make_subplots\n",
    "\n",
    "fig = make_subplots(specs=[[{\"secondary_y\": True}]])\n",
    "\n",
    "\n",
    "# sort the y_pred_df by the y_pred\n",
    "y_pred_df.sort_index(inplace=True)\n",
    "y_data.sort_values('h3', inplace=True)\n",
    "coverage_df.sort_index(inplace=True)\n",
    "\n",
    "fig.add_trace(\n",
    "    go.Scatter(\n",
    "        x=y_data['h3'],\n",
    "        y=y_data['y_test'],\n",
    "        mode=\"markers\",\n",
    "        name=\"Individual Deliveries\"\n",
    "    )\n",
    ")\n",
    "\n",
    "# add TRUE upper and lower bounds with fill\n",
    "fig.add_trace(\n",
    "    go.Scatter(\n",
    "        x=y_pred_df.index,\n",
    "        y=y_pred_df['y_true_lb'],\n",
    "        mode=\"lines\",\n",
    "        line=dict(width=0),\n",
    "        showlegend=False\n",
    "    )\n",
    ")\n",
    "\n",
    "fig.add_trace(\n",
    "    go.Scatter(\n",
    "        x=y_pred_df.index,\n",
    "        y=y_pred_df['y_true_ub'],\n",
    "        fill=\"tonexty\",\n",
    "        fillcolor=\"rgba(100,80,80,0.2)\",\n",
    "        line=dict(width=0),\n",
    "        mode=\"lines\",\n",
    "        name=\"True Bounds\"\n",
    "    )\n",
    ")\n",
    "\n",
    "# add upper and lower bounds, with fill\n",
    "fig.add_trace(\n",
    "    go.Scatter(\n",
    "        x=y_pred_df.index,\n",
    "        y=y_pred_df['y_pred_lb'],\n",
    "        mode=\"lines\",\n",
    "        line=dict(width=1),\n",
    "        showlegend=True,\n",
    "        name=\"Predicted Lower Bounds\"\n",
    "    )\n",
    ")\n",
    "\n",
    "fig.add_trace(\n",
    "    go.Scatter(\n",
    "        x=y_pred_df.index,\n",
    "        y=y_pred_df['y_pred_ub'],\n",
    "        fill=\"tonexty\",\n",
    "        fillcolor=\"rgba(0,100,80,0.2)\",\n",
    "        line=dict(width=1),\n",
    "        mode=\"lines\",\n",
    "        showlegend=True,\n",
    "        name=\"Predicted Upper Bound\"\n",
    "    )\n",
    ")\n",
    "\n",
    "# add the predicted mean\n",
    "fig.add_trace(\n",
    "    go.Scatter(\n",
    "        x=y_pred_df.index,\n",
    "        y=y_pred_df['y_pred'],\n",
    "        mode=\"markers\",\n",
    "        marker=dict(color=\"rgba(255, 0, 0, 1)\", size=10),\n",
    "        name=\"Predicted Mean\"\n",
    "    )\n",
    ")\n",
    "\n",
    "\n",
    "# add the actual mean\n",
    "fig.add_trace(\n",
    "    go.Scatter(\n",
    "        x=y_pred_df.index,\n",
    "        y=y_pred_df['true_mean'],\n",
    "        mode=\"markers\",\n",
    "        name=\"Actual Mean\",\n",
    "        # add a diamond marker\n",
    "        marker=dict(color=\"green\", size=10)\n",
    "    )\n",
    ")\n",
    "\n",
    "# add the actual mean\n",
    "fig.add_trace(\n",
    "    go.Scatter(\n",
    "        x=y_pred_df.index,\n",
    "        y=y_pred_df['true_median'],\n",
    "        mode=\"markers\",\n",
    "        name=\"Actual Median\",\n",
    "        # add a diamond marker\n",
    "        marker=dict(color=\"yellow\", size=10)\n",
    "    )\n",
    ")\n",
    "\n",
    "# add title to axes\n",
    "fig.update_xaxes(title_text=\"H3 Index\")\n",
    "fig.update_yaxes(title_text=\"Planned Service Time (seconds)\")\n",
    "fig.update_yaxes(title_text=\"Coverage\", secondary_y=True)\n",
    "\n",
    "# update the range on y2 axis\n",
    "fig.update_yaxes(range=[0, 1], secondary_y=True)\n",
    "\n",
    "# add a second y axis for the coverage\n",
    "fig.add_trace(\n",
    "    go.Scatter(\n",
    "        x=coverage_df.index,\n",
    "        y=coverage_df,\n",
    "        mode=\"lines\",\n",
    "        yaxis=\"y2\",\n",
    "        name=f\"Coverage (target is {int((1-alpha)*100)}%)\"\n",
    "    )\n",
    ")\n",
    "\n",
    "# open in a browser\n",
    "fig.show(\n",
    "    renderer=\"browser\"\n",
    ")\n",
    "\n"
   ]
  },
  {
   "cell_type": "code",
   "execution_count": 132,
   "metadata": {},
   "outputs": [],
   "source": [
    "# hh.df.loc[tt._train_slice][['lat', 'lng', 'package_id','planned_service_time']].to_csv('./train_data_coordinates.csv')"
   ]
  },
  {
   "cell_type": "code",
   "execution_count": 133,
   "metadata": {},
   "outputs": [],
   "source": [
    "hh.df.loc[tt._test_slice][['lat', 'lng', 'package_id','planned_service_time']].to_csv('./test_data_coordinates.csv')\n",
    "y_pred_df.to_csv(f'./y_pred_df_{int((1-alpha/2)*100)}th_quantile.csv')"
   ]
  },
  {
   "cell_type": "code",
   "execution_count": 134,
   "metadata": {},
   "outputs": [],
   "source": [
    "# combine the test and train data\n",
    "df = pd.concat([hh.df.loc[tt._train_slice][['lat', 'lng', 'package_id','planned_service_time']], hh.df.loc[tt._test_slice][['lat', 'lng', 'package_id','planned_service_time']]])\n",
    "# save the df\n",
    "df.to_csv('./all_data_coordinates.csv')"
   ]
  },
  {
   "attachments": {},
   "cell_type": "markdown",
   "metadata": {},
   "source": [
    "#### Getting predictions for training"
   ]
  },
  {
   "cell_type": "code",
   "execution_count": 135,
   "metadata": {},
   "outputs": [],
   "source": [
    "y_train_pred, y_train_pis = mapie.predict(tt.X_train.values, alpha=alpha)\n",
    "h3_index_train = hh.df.loc[tt._train_slice, 'h3']\n",
    "train_empirical_pts_df = hh.df.loc[hh.df['h3'].isin(h3_index_train)].groupby('h3').apply(lambda x: x['planned_service_time'].values)\n",
    "# train_empirical_pts_df = train_empirical_pts_df[h3_index_train]\n",
    "# y_test_std = np.array([tt.scaler.Y.transform(x.reshape(-1, 1)).std() for x in empirical_pts_df.values])\n",
    "# get the inverse transform of the y_pred\n",
    "y_train_data = pd.DataFrame(data=np.exp(tt.scaler.Y.inverse_transform(tt.Y_train.values.reshape(-1, 1)).reshape(-1)), index=h3_index_train, columns=['y_test'])\n",
    "y_train_data.reset_index(inplace=True)\n",
    "y_train_data['y_pred'] = np.exp(tt.scaler.Y.inverse_transform(y_train_pred.reshape(-1, 1)).reshape(-1))\n",
    "y_train_data['y_pred_lb'] = np.exp(tt.scaler.Y.inverse_transform(y_train_pis[:, 0].reshape(-1, 1)).reshape(-1))\n",
    "y_train_data['y_pred_ub'] = np.exp(tt.scaler.Y.inverse_transform(y_train_pis[:, 1].reshape(-1, 1)).reshape(-1))\n",
    "\n",
    "# get the y_pred_df\n",
    "y_df = y_train_data.groupby('h3')[['y_pred', 'y_pred_lb', 'y_pred_ub']].first()\n",
    "y_df['y_true_lb'] = [np.quantile(x, alpha/2) for x in train_empirical_pts_df.values]\n",
    "y_df['y_true_ub'] = [np.quantile(x, 1-alpha/2) for x in train_empirical_pts_df.values]\n",
    "\n",
    "y_df['upper_error'] = np.abs(y_df['y_pred_ub'] - y_df['y_true_ub'])\n",
    "y_df['lower_error'] = np.abs(y_df['y_pred_lb'] - y_df['y_true_lb'])\n",
    "\n",
    "\n",
    "# get the actual std\n",
    "y_df['actual_std'] = hh.df.loc[tt._train_slice, 'planned_service_time'].groupby(h3_index_train).std()\n",
    "# add the true mean\n",
    "y_df['true_mean'] = hh.df.loc[tt._train_slice, 'planned_service_time'].groupby(h3_index_train).mean()\n",
    "# add the true mean\n",
    "y_df['true_median'] = hh.df.loc[tt._train_slice, 'planned_service_time'].groupby(h3_index_train).median()\n",
    "# add coverage score\n",
    "y_df['coverage'] = y_train_data.groupby('h3')[['y_test', 'y_pred_lb', 'y_pred_ub']].apply(calculate_coverage,)"
   ]
  },
  {
   "cell_type": "code",
   "execution_count": 139,
   "metadata": {},
   "outputs": [
    {
     "data": {
      "text/html": [
       "<div>\n",
       "<style scoped>\n",
       "    .dataframe tbody tr th:only-of-type {\n",
       "        vertical-align: middle;\n",
       "    }\n",
       "\n",
       "    .dataframe tbody tr th {\n",
       "        vertical-align: top;\n",
       "    }\n",
       "\n",
       "    .dataframe thead th {\n",
       "        text-align: right;\n",
       "    }\n",
       "</style>\n",
       "<table border=\"1\" class=\"dataframe\">\n",
       "  <thead>\n",
       "    <tr style=\"text-align: right;\">\n",
       "      <th></th>\n",
       "      <th>y_pred</th>\n",
       "      <th>y_pred_lb</th>\n",
       "      <th>y_pred_ub</th>\n",
       "      <th>y_true_lb</th>\n",
       "      <th>y_true_ub</th>\n",
       "      <th>upper_error</th>\n",
       "      <th>lower_error</th>\n",
       "      <th>actual_std</th>\n",
       "      <th>true_mean</th>\n",
       "      <th>true_median</th>\n",
       "      <th>coverage</th>\n",
       "    </tr>\n",
       "    <tr>\n",
       "      <th>h3</th>\n",
       "      <th></th>\n",
       "      <th></th>\n",
       "      <th></th>\n",
       "      <th></th>\n",
       "      <th></th>\n",
       "      <th></th>\n",
       "      <th></th>\n",
       "      <th></th>\n",
       "      <th></th>\n",
       "      <th></th>\n",
       "      <th></th>\n",
       "    </tr>\n",
       "  </thead>\n",
       "  <tbody>\n",
       "    <tr>\n",
       "      <th>892a3064103ffff</th>\n",
       "      <td>141.372110</td>\n",
       "      <td>41.815709</td>\n",
       "      <td>477.956112</td>\n",
       "      <td>40.15</td>\n",
       "      <td>517.090</td>\n",
       "      <td>39.133888</td>\n",
       "      <td>1.665709</td>\n",
       "      <td>164.300073</td>\n",
       "      <td>194.939216</td>\n",
       "      <td>147.5</td>\n",
       "      <td>0.862745</td>\n",
       "    </tr>\n",
       "    <tr>\n",
       "      <th>892a306410fffff</th>\n",
       "      <td>100.170179</td>\n",
       "      <td>29.628807</td>\n",
       "      <td>338.659083</td>\n",
       "      <td>32.75</td>\n",
       "      <td>490.275</td>\n",
       "      <td>151.615917</td>\n",
       "      <td>3.121193</td>\n",
       "      <td>147.669934</td>\n",
       "      <td>146.246429</td>\n",
       "      <td>94.0</td>\n",
       "      <td>0.857143</td>\n",
       "    </tr>\n",
       "    <tr>\n",
       "      <th>892a3064113ffff</th>\n",
       "      <td>147.496725</td>\n",
       "      <td>43.627276</td>\n",
       "      <td>498.662439</td>\n",
       "      <td>53.00</td>\n",
       "      <td>521.000</td>\n",
       "      <td>22.337561</td>\n",
       "      <td>9.372724</td>\n",
       "      <td>171.393519</td>\n",
       "      <td>198.995082</td>\n",
       "      <td>155.1</td>\n",
       "      <td>0.901639</td>\n",
       "    </tr>\n",
       "    <tr>\n",
       "      <th>892a306411bffff</th>\n",
       "      <td>158.250880</td>\n",
       "      <td>46.808191</td>\n",
       "      <td>535.020488</td>\n",
       "      <td>51.35</td>\n",
       "      <td>664.550</td>\n",
       "      <td>129.529512</td>\n",
       "      <td>4.541809</td>\n",
       "      <td>223.703639</td>\n",
       "      <td>232.762963</td>\n",
       "      <td>171.0</td>\n",
       "      <td>0.851852</td>\n",
       "    </tr>\n",
       "    <tr>\n",
       "      <th>892a306412bffff</th>\n",
       "      <td>269.093111</td>\n",
       "      <td>79.593628</td>\n",
       "      <td>909.760044</td>\n",
       "      <td>81.10</td>\n",
       "      <td>615.060</td>\n",
       "      <td>294.700044</td>\n",
       "      <td>1.506372</td>\n",
       "      <td>161.637538</td>\n",
       "      <td>309.210256</td>\n",
       "      <td>284.0</td>\n",
       "      <td>0.948718</td>\n",
       "    </tr>\n",
       "    <tr>\n",
       "      <th>...</th>\n",
       "      <td>...</td>\n",
       "      <td>...</td>\n",
       "      <td>...</td>\n",
       "      <td>...</td>\n",
       "      <td>...</td>\n",
       "      <td>...</td>\n",
       "      <td>...</td>\n",
       "      <td>...</td>\n",
       "      <td>...</td>\n",
       "      <td>...</td>\n",
       "      <td>...</td>\n",
       "    </tr>\n",
       "    <tr>\n",
       "      <th>892a339a4b3ffff</th>\n",
       "      <td>137.579584</td>\n",
       "      <td>40.693937</td>\n",
       "      <td>465.134198</td>\n",
       "      <td>54.30</td>\n",
       "      <td>290.290</td>\n",
       "      <td>174.844198</td>\n",
       "      <td>13.606063</td>\n",
       "      <td>104.603498</td>\n",
       "      <td>157.791304</td>\n",
       "      <td>123.0</td>\n",
       "      <td>0.956522</td>\n",
       "    </tr>\n",
       "    <tr>\n",
       "      <th>892a339a583ffff</th>\n",
       "      <td>89.758090</td>\n",
       "      <td>26.549071</td>\n",
       "      <td>303.457504</td>\n",
       "      <td>33.95</td>\n",
       "      <td>277.660</td>\n",
       "      <td>25.797504</td>\n",
       "      <td>7.400929</td>\n",
       "      <td>121.149096</td>\n",
       "      <td>124.060000</td>\n",
       "      <td>76.5</td>\n",
       "      <td>0.950000</td>\n",
       "    </tr>\n",
       "    <tr>\n",
       "      <th>892a339a58bffff</th>\n",
       "      <td>53.523507</td>\n",
       "      <td>15.831435</td>\n",
       "      <td>180.954273</td>\n",
       "      <td>22.00</td>\n",
       "      <td>200.175</td>\n",
       "      <td>19.220727</td>\n",
       "      <td>6.168565</td>\n",
       "      <td>61.505878</td>\n",
       "      <td>72.376923</td>\n",
       "      <td>54.0</td>\n",
       "      <td>0.923077</td>\n",
       "    </tr>\n",
       "    <tr>\n",
       "      <th>892a339a5a3ffff</th>\n",
       "      <td>59.576715</td>\n",
       "      <td>17.621881</td>\n",
       "      <td>201.419185</td>\n",
       "      <td>25.65</td>\n",
       "      <td>210.970</td>\n",
       "      <td>9.550815</td>\n",
       "      <td>8.028119</td>\n",
       "      <td>59.266325</td>\n",
       "      <td>80.592593</td>\n",
       "      <td>60.0</td>\n",
       "      <td>0.925926</td>\n",
       "    </tr>\n",
       "    <tr>\n",
       "      <th>892a339a5b7ffff</th>\n",
       "      <td>62.536544</td>\n",
       "      <td>18.497353</td>\n",
       "      <td>211.425884</td>\n",
       "      <td>24.60</td>\n",
       "      <td>242.300</td>\n",
       "      <td>30.874116</td>\n",
       "      <td>6.102647</td>\n",
       "      <td>83.732986</td>\n",
       "      <td>88.250847</td>\n",
       "      <td>63.0</td>\n",
       "      <td>0.915254</td>\n",
       "    </tr>\n",
       "  </tbody>\n",
       "</table>\n",
       "<p>316 rows × 11 columns</p>\n",
       "</div>"
      ],
      "text/plain": [
       "                     y_pred  y_pred_lb   y_pred_ub  y_true_lb  y_true_ub  \\\n",
       "h3                                                                         \n",
       "892a3064103ffff  141.372110  41.815709  477.956112      40.15    517.090   \n",
       "892a306410fffff  100.170179  29.628807  338.659083      32.75    490.275   \n",
       "892a3064113ffff  147.496725  43.627276  498.662439      53.00    521.000   \n",
       "892a306411bffff  158.250880  46.808191  535.020488      51.35    664.550   \n",
       "892a306412bffff  269.093111  79.593628  909.760044      81.10    615.060   \n",
       "...                     ...        ...         ...        ...        ...   \n",
       "892a339a4b3ffff  137.579584  40.693937  465.134198      54.30    290.290   \n",
       "892a339a583ffff   89.758090  26.549071  303.457504      33.95    277.660   \n",
       "892a339a58bffff   53.523507  15.831435  180.954273      22.00    200.175   \n",
       "892a339a5a3ffff   59.576715  17.621881  201.419185      25.65    210.970   \n",
       "892a339a5b7ffff   62.536544  18.497353  211.425884      24.60    242.300   \n",
       "\n",
       "                 upper_error  lower_error  actual_std   true_mean  \\\n",
       "h3                                                                  \n",
       "892a3064103ffff    39.133888     1.665709  164.300073  194.939216   \n",
       "892a306410fffff   151.615917     3.121193  147.669934  146.246429   \n",
       "892a3064113ffff    22.337561     9.372724  171.393519  198.995082   \n",
       "892a306411bffff   129.529512     4.541809  223.703639  232.762963   \n",
       "892a306412bffff   294.700044     1.506372  161.637538  309.210256   \n",
       "...                      ...          ...         ...         ...   \n",
       "892a339a4b3ffff   174.844198    13.606063  104.603498  157.791304   \n",
       "892a339a583ffff    25.797504     7.400929  121.149096  124.060000   \n",
       "892a339a58bffff    19.220727     6.168565   61.505878   72.376923   \n",
       "892a339a5a3ffff     9.550815     8.028119   59.266325   80.592593   \n",
       "892a339a5b7ffff    30.874116     6.102647   83.732986   88.250847   \n",
       "\n",
       "                 true_median  coverage  \n",
       "h3                                      \n",
       "892a3064103ffff        147.5  0.862745  \n",
       "892a306410fffff         94.0  0.857143  \n",
       "892a3064113ffff        155.1  0.901639  \n",
       "892a306411bffff        171.0  0.851852  \n",
       "892a306412bffff        284.0  0.948718  \n",
       "...                      ...       ...  \n",
       "892a339a4b3ffff        123.0  0.956522  \n",
       "892a339a583ffff         76.5  0.950000  \n",
       "892a339a58bffff         54.0  0.923077  \n",
       "892a339a5a3ffff         60.0  0.925926  \n",
       "892a339a5b7ffff         63.0  0.915254  \n",
       "\n",
       "[316 rows x 11 columns]"
      ]
     },
     "execution_count": 139,
     "metadata": {},
     "output_type": "execute_result"
    }
   ],
   "source": [
    "y_df"
   ]
  },
  {
   "attachments": {},
   "cell_type": "markdown",
   "metadata": {},
   "source": [
    "### Merge train test predictions to display them together"
   ]
  },
  {
   "cell_type": "code",
   "execution_count": 136,
   "metadata": {},
   "outputs": [],
   "source": [
    "# combine the test and train data\n",
    "pred_df = pd.concat([y_df, y_pred_df])\n",
    "# save the df\n",
    "pred_df.to_csv(f'./all_predictions_{int((1-alpha/2)*100)}th_quantile.csv')"
   ]
  },
  {
   "cell_type": "code",
   "execution_count": null,
   "metadata": {},
   "outputs": [],
   "source": []
  }
 ],
 "metadata": {
  "kernelspec": {
   "display_name": "base",
   "language": "python",
   "name": "python3"
  },
  "language_info": {
   "codemirror_mode": {
    "name": "ipython",
    "version": 3
   },
   "file_extension": ".py",
   "mimetype": "text/x-python",
   "name": "python",
   "nbconvert_exporter": "python",
   "pygments_lexer": "ipython3",
   "version": "3.8.13"
  },
  "orig_nbformat": 4,
  "vscode": {
   "interpreter": {
    "hash": "e234d837eebba94c7397b4e38c0b82bd3e4741cb2c390182a3fb441eaf8f3cd5"
   }
  }
 },
 "nbformat": 4,
 "nbformat_minor": 2
}
