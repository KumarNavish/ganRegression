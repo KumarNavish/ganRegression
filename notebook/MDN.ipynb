{
 "cells": [
  {
   "cell_type": "code",
   "execution_count": 36,
   "metadata": {},
   "outputs": [
    {
     "name": "stdout",
     "output_type": "stream",
     "text": [
      "The autoreload extension is already loaded. To reload it, use:\n",
      "  %reload_ext autoreload\n"
     ]
    }
   ],
   "source": [
    "%load_ext autoreload "
   ]
  },
  {
   "cell_type": "code",
   "execution_count": 37,
   "metadata": {},
   "outputs": [],
   "source": [
    "%autoreload 2"
   ]
  },
  {
   "cell_type": "code",
   "execution_count": 38,
   "metadata": {},
   "outputs": [],
   "source": [
    "import warnings\n",
    "warnings.filterwarnings('ignore')"
   ]
  },
  {
   "cell_type": "code",
   "execution_count": 40,
   "metadata": {},
   "outputs": [],
   "source": [
    "import sys\n",
    "sys.path.append('/home/ext_navish_iitkgp_gmail_com/ganRegression/')"
   ]
  },
  {
   "cell_type": "code",
   "execution_count": 41,
   "metadata": {},
   "outputs": [],
   "source": [
    "import numpy as np\n",
    "import os\n",
    "from functools import partial\n",
    "import seaborn as sns\n",
    "import plotly.graph_objects as go\n",
    "import pandas as pd\n",
    "import dask.dataframe as dd\n",
    "import matplotlib.pyplot as plt\n",
    "import sys\n",
    "import pickle\n",
    "from pathlib import Path\n",
    "\n",
    "\n",
    "# hex2vec\n",
    "HOME = os.environ[\"HOME\"]\n",
    "\n",
    "sys.path.insert(0, f\"{HOME}/hex2vec\")\n",
    "\n",
    "# add codebase\n",
    "sys.path.insert(0, f\"/gcsmount-notebook/codebase\")\n",
    "\n",
    "from src.data.make_dataset import h3_to_polygon\n",
    "import urban_tools.constants as uc\n",
    "from urban_tools.hex_pipeline import RouteHexHandler, TestTrainManager\n",
    "from urban_tools.pipelines import route_hex_pipeline\n",
    "\n",
    "\n",
    "## Read in the Delivery DataFrame\n",
    "p = Path(\"/gcsmount-research-data-staging/osmnx-cities/hexed-routes/debug-multi-synthetic-tags/hh.pkl\")\n",
    "hh = RouteHexHandler.from_pickle(p)\n",
    "# embedding_df = pd.read_pickle(\"/gcsmount-research-data-staging/osmnx-cities/hexed-complete/Boston, MA/boston_embedding.pkl\")\n",
    "\n",
    "### Remove Super Tags\n",
    "# hh.drop_super_tags()\n",
    "### Remove Sub Tags\n",
    "# hh = hh.drop_sub_tags()\n",
    "### Filter for only H3 with > X Data Points\n",
    "\n",
    "hh = hh.filter_hex_occurance(20)\n",
    "## Drop Unecessary Columns\n",
    "hh.other_tags\n",
    "### Drop Chicago\n",
    "# print(tagged_df.shape[0].compute(), tagged_df.shape[1])\n",
    "# tagged_df = tagged_df.loc[~tagged_df[\"city\"].str.contains(\"Chicago\")]\n",
    "# filter for only Boston\n",
    "hh.df = hh.df.loc[hh.df.city.str.contains(\"Boston\")]\n",
    "# print(tagged_df.shape[0].compute(), tagged_df.shape[1])\n",
    "\n",
    "## Data Preprocessing: Scaling and Splitting into train test\n",
    "\n",
    "\n",
    "# create a grouped dataframe\n",
    "tagged_df = hh.df.groupby(\"h3\").agg({\n",
    "    \"planned_service_time_log\": \"mean\",\n",
    "    **{\n",
    "        tag: \"first\"\n",
    "        for tag in hh.all_tags\n",
    "    }\n",
    "})\n",
    "\n",
    "\n",
    "from sklearn.preprocessing import RobustScaler\n",
    "\n",
    "tt = TestTrainManager(\n",
    "    tagged_df,\n",
    "    x_col=hh.all_tags,\n",
    "    y_col=[\"planned_service_time_log\"],\n",
    "    scaler=RobustScaler,\n",
    "    grouped=True,\n",
    ")\n",
    "tt.split_test_train(train_size=0.8, random_seed=6781)\n",
    "\n",
    "\n",
    "tt.scale_test_train()\n",
    "tt.build_test_df(agg=False)"
   ]
  },
  {
   "cell_type": "code",
   "execution_count": 52,
   "metadata": {},
   "outputs": [],
   "source": [
    "X_train, y_train, X_test, y_test = tt.X_train.values, tt.Y_train.values.ravel(), tt.X_test.values, tt.Y_test.loc.values"
   ]
  },
  {
   "cell_type": "code",
   "execution_count": 71,
   "metadata": {},
   "outputs": [],
   "source": [
    "import matplotlib.pyplot as plt # creating visualizations\n",
    "import numpy as np # basic math and random numbers\n",
    "import torch # package for building functions with learnable parameters\n",
    "import torch.nn as nn # prebuilt functions specific to neural mdns\n",
    "from torch.autograd import Variable # storing data while learning\n",
    "import torch.nn.functional as F # prebuilt functions for neural mdns"
   ]
  },
  {
   "cell_type": "code",
   "execution_count": 97,
   "metadata": {},
   "outputs": [],
   "source": [
    "class MDN(nn.Module):\n",
    "    def __init__(self, n_hidden, n_gaussians):\n",
    "        super(MDN, self).__init__()\n",
    "        # hidden layer\n",
    "        self.z_h = nn.Linear(957, n_hidden)\n",
    "        # pi layer\n",
    "        self.z_pi = nn.Linear(n_hidden, n_gaussians)\n",
    "        # sigma layer \n",
    "        self.z_sigma = nn.Linear(n_hidden, n_gaussians) \n",
    "        # mu layer\n",
    "        self.z_mu = nn.Linear(n_hidden, n_gaussians)\n",
    "\n",
    "    def forward(self, x):\n",
    "        z_h = F.tanh(self.z_h(x))\n",
    "        pi = F.softmax(self.z_pi(z_h), -1)\n",
    "        sigma = torch.exp(self.z_sigma(z_h))\n",
    "        mu = self.z_mu(z_h)\n",
    "        return pi, sigma, mu"
   ]
  },
  {
   "cell_type": "code",
   "execution_count": 98,
   "metadata": {},
   "outputs": [],
   "source": [
    "oneDivSqrtTwoPI = 1.0 / np.sqrt(2.0*np.pi) # normalization factor for Gaussians\n",
    "def gaussian_distribution(y, mu, sigma):\n",
    "    # make |mu|=K copies of y, subtract mu, divide by sigma\n",
    "    result = (y.expand_as(mu) - mu) * torch.reciprocal(sigma)\n",
    "    result = -0.5 * (result * result)\n",
    "    return (torch.exp(result) * torch.reciprocal(sigma)) * oneDivSqrtTwoPI\n",
    "\n",
    "def mdn_loss_fn(pi, sigma, mu, y):\n",
    "    result = gaussian_distribution(y, mu, sigma) * pi\n",
    "    result = torch.sum(result, dim=1)\n",
    "    result = -torch.log(result)\n",
    "    return torch.mean(result)"
   ]
  },
  {
   "cell_type": "code",
   "execution_count": 99,
   "metadata": {},
   "outputs": [],
   "source": [
    "mdn = MDN(n_hidden=20, n_gaussians=5)"
   ]
  },
  {
   "cell_type": "code",
   "execution_count": 100,
   "metadata": {},
   "outputs": [],
   "source": [
    "optimizer = torch.optim.Adam(mdn.parameters())"
   ]
  },
  {
   "cell_type": "code",
   "execution_count": 101,
   "metadata": {},
   "outputs": [],
   "source": [
    "# change data type and shape, move from numpy to torch\n",
    "x_tensor = torch.Tensor(X_train)\n",
    "y_tensor = torch.Tensor(y_train)\n",
    "x_variable = Variable(x_tensor)\n",
    "y_variable = Variable(y_tensor, requires_grad=False)\n",
    "\n",
    "# ------------------------------------------------------------------------------\n",
    "\n",
    "mdn_x_data = y_train\n",
    "mdn_y_data = X_train\n",
    "\n",
    "mdn_x_tensor = y_tensor\n",
    "mdn_y_tensor = x_tensor\n",
    "\n",
    "x_variable = Variable(mdn_x_tensor)\n",
    "y_variable = Variable(mdn_y_tensor, requires_grad=False)"
   ]
  },
  {
   "cell_type": "code",
   "execution_count": 102,
   "metadata": {},
   "outputs": [
    {
     "ename": "RuntimeError",
     "evalue": "expand(torch.FloatTensor{[957, 674]}, size=[5]): the number of sizes provided (1) must be greater or equal to the number of dimensions in the tensor (2)",
     "output_type": "error",
     "traceback": [
      "\u001b[0;31m---------------------------------------------------------------------------\u001b[0m",
      "\u001b[0;31mRuntimeError\u001b[0m                              Traceback (most recent call last)",
      "\u001b[1;32m/home/ext_navish_iitkgp_gmail_com/ganRegression/notebook/MDN.ipynb Cell 13\u001b[0m in \u001b[0;36m<cell line: 12>\u001b[0;34m()\u001b[0m\n\u001b[1;32m      <a href='vscode-notebook-cell://ssh-remote%2Bdataproc-remote/home/ext_navish_iitkgp_gmail_com/ganRegression/notebook/MDN.ipynb#X40sdnNjb2RlLXJlbW90ZQ%3D%3D?line=8'>9</a>\u001b[0m         \u001b[39mif\u001b[39;00m epoch \u001b[39m%\u001b[39m \u001b[39m10\u001b[39m \u001b[39m==\u001b[39m \u001b[39m0\u001b[39m:\n\u001b[1;32m     <a href='vscode-notebook-cell://ssh-remote%2Bdataproc-remote/home/ext_navish_iitkgp_gmail_com/ganRegression/notebook/MDN.ipynb#X40sdnNjb2RlLXJlbW90ZQ%3D%3D?line=9'>10</a>\u001b[0m             \u001b[39mprint\u001b[39m(\u001b[39mf\u001b[39m\u001b[39m'\u001b[39m\u001b[39mEpoch \u001b[39m\u001b[39m{\u001b[39;00mepoch\u001b[39m}\u001b[39;00m\u001b[39m: loss = \u001b[39m\u001b[39m{\u001b[39;00mloss\u001b[39m.\u001b[39mdata[\u001b[39m0\u001b[39m]\u001b[39m}\u001b[39;00m\u001b[39m'\u001b[39m)\n\u001b[0;32m---> <a href='vscode-notebook-cell://ssh-remote%2Bdataproc-remote/home/ext_navish_iitkgp_gmail_com/ganRegression/notebook/MDN.ipynb#X40sdnNjb2RlLXJlbW90ZQ%3D%3D?line=11'>12</a>\u001b[0m train_mdn()\n",
      "\u001b[1;32m/home/ext_navish_iitkgp_gmail_com/ganRegression/notebook/MDN.ipynb Cell 13\u001b[0m in \u001b[0;36mtrain_mdn\u001b[0;34m()\u001b[0m\n\u001b[1;32m      <a href='vscode-notebook-cell://ssh-remote%2Bdataproc-remote/home/ext_navish_iitkgp_gmail_com/ganRegression/notebook/MDN.ipynb#X40sdnNjb2RlLXJlbW90ZQ%3D%3D?line=1'>2</a>\u001b[0m \u001b[39mfor\u001b[39;00m epoch \u001b[39min\u001b[39;00m \u001b[39mrange\u001b[39m(\u001b[39m100\u001b[39m):\n\u001b[1;32m      <a href='vscode-notebook-cell://ssh-remote%2Bdataproc-remote/home/ext_navish_iitkgp_gmail_com/ganRegression/notebook/MDN.ipynb#X40sdnNjb2RlLXJlbW90ZQ%3D%3D?line=2'>3</a>\u001b[0m     pi_variable, sigma_variable, mu_variable \u001b[39m=\u001b[39m mdn(x_variable)\n\u001b[0;32m----> <a href='vscode-notebook-cell://ssh-remote%2Bdataproc-remote/home/ext_navish_iitkgp_gmail_com/ganRegression/notebook/MDN.ipynb#X40sdnNjb2RlLXJlbW90ZQ%3D%3D?line=3'>4</a>\u001b[0m     loss \u001b[39m=\u001b[39m mdn_loss_fn(pi_variable, sigma_variable, mu_variable, y_variable)\n\u001b[1;32m      <a href='vscode-notebook-cell://ssh-remote%2Bdataproc-remote/home/ext_navish_iitkgp_gmail_com/ganRegression/notebook/MDN.ipynb#X40sdnNjb2RlLXJlbW90ZQ%3D%3D?line=4'>5</a>\u001b[0m     optimizer\u001b[39m.\u001b[39mzero_grad()\n\u001b[1;32m      <a href='vscode-notebook-cell://ssh-remote%2Bdataproc-remote/home/ext_navish_iitkgp_gmail_com/ganRegression/notebook/MDN.ipynb#X40sdnNjb2RlLXJlbW90ZQ%3D%3D?line=5'>6</a>\u001b[0m     loss\u001b[39m.\u001b[39mbackward()\n",
      "\u001b[1;32m/home/ext_navish_iitkgp_gmail_com/ganRegression/notebook/MDN.ipynb Cell 13\u001b[0m in \u001b[0;36mmdn_loss_fn\u001b[0;34m(pi, sigma, mu, y)\u001b[0m\n\u001b[1;32m      <a href='vscode-notebook-cell://ssh-remote%2Bdataproc-remote/home/ext_navish_iitkgp_gmail_com/ganRegression/notebook/MDN.ipynb#X40sdnNjb2RlLXJlbW90ZQ%3D%3D?line=7'>8</a>\u001b[0m \u001b[39mdef\u001b[39;00m \u001b[39mmdn_loss_fn\u001b[39m(pi, sigma, mu, y):\n\u001b[0;32m----> <a href='vscode-notebook-cell://ssh-remote%2Bdataproc-remote/home/ext_navish_iitkgp_gmail_com/ganRegression/notebook/MDN.ipynb#X40sdnNjb2RlLXJlbW90ZQ%3D%3D?line=8'>9</a>\u001b[0m     result \u001b[39m=\u001b[39m gaussian_distribution(y, mu, sigma) \u001b[39m*\u001b[39m pi\n\u001b[1;32m     <a href='vscode-notebook-cell://ssh-remote%2Bdataproc-remote/home/ext_navish_iitkgp_gmail_com/ganRegression/notebook/MDN.ipynb#X40sdnNjb2RlLXJlbW90ZQ%3D%3D?line=9'>10</a>\u001b[0m     result \u001b[39m=\u001b[39m torch\u001b[39m.\u001b[39msum(result, dim\u001b[39m=\u001b[39m\u001b[39m1\u001b[39m)\n\u001b[1;32m     <a href='vscode-notebook-cell://ssh-remote%2Bdataproc-remote/home/ext_navish_iitkgp_gmail_com/ganRegression/notebook/MDN.ipynb#X40sdnNjb2RlLXJlbW90ZQ%3D%3D?line=10'>11</a>\u001b[0m     result \u001b[39m=\u001b[39m \u001b[39m-\u001b[39mtorch\u001b[39m.\u001b[39mlog(result)\n",
      "\u001b[1;32m/home/ext_navish_iitkgp_gmail_com/ganRegression/notebook/MDN.ipynb Cell 13\u001b[0m in \u001b[0;36mgaussian_distribution\u001b[0;34m(y, mu, sigma)\u001b[0m\n\u001b[1;32m      <a href='vscode-notebook-cell://ssh-remote%2Bdataproc-remote/home/ext_navish_iitkgp_gmail_com/ganRegression/notebook/MDN.ipynb#X40sdnNjb2RlLXJlbW90ZQ%3D%3D?line=1'>2</a>\u001b[0m \u001b[39mdef\u001b[39;00m \u001b[39mgaussian_distribution\u001b[39m(y, mu, sigma):\n\u001b[1;32m      <a href='vscode-notebook-cell://ssh-remote%2Bdataproc-remote/home/ext_navish_iitkgp_gmail_com/ganRegression/notebook/MDN.ipynb#X40sdnNjb2RlLXJlbW90ZQ%3D%3D?line=2'>3</a>\u001b[0m     \u001b[39m# make |mu|=K copies of y, subtract mu, divide by sigma\u001b[39;00m\n\u001b[0;32m----> <a href='vscode-notebook-cell://ssh-remote%2Bdataproc-remote/home/ext_navish_iitkgp_gmail_com/ganRegression/notebook/MDN.ipynb#X40sdnNjb2RlLXJlbW90ZQ%3D%3D?line=3'>4</a>\u001b[0m     result \u001b[39m=\u001b[39m (y\u001b[39m.\u001b[39;49mexpand_as(mu) \u001b[39m-\u001b[39m mu) \u001b[39m*\u001b[39m torch\u001b[39m.\u001b[39mreciprocal(sigma)\n\u001b[1;32m      <a href='vscode-notebook-cell://ssh-remote%2Bdataproc-remote/home/ext_navish_iitkgp_gmail_com/ganRegression/notebook/MDN.ipynb#X40sdnNjb2RlLXJlbW90ZQ%3D%3D?line=4'>5</a>\u001b[0m     result \u001b[39m=\u001b[39m \u001b[39m-\u001b[39m\u001b[39m0.5\u001b[39m \u001b[39m*\u001b[39m (result \u001b[39m*\u001b[39m result)\n\u001b[1;32m      <a href='vscode-notebook-cell://ssh-remote%2Bdataproc-remote/home/ext_navish_iitkgp_gmail_com/ganRegression/notebook/MDN.ipynb#X40sdnNjb2RlLXJlbW90ZQ%3D%3D?line=5'>6</a>\u001b[0m     \u001b[39mreturn\u001b[39;00m (torch\u001b[39m.\u001b[39mexp(result) \u001b[39m*\u001b[39m torch\u001b[39m.\u001b[39mreciprocal(sigma)) \u001b[39m*\u001b[39m oneDivSqrtTwoPI\n",
      "\u001b[0;31mRuntimeError\u001b[0m: expand(torch.FloatTensor{[957, 674]}, size=[5]): the number of sizes provided (1) must be greater or equal to the number of dimensions in the tensor (2)"
     ]
    }
   ],
   "source": [
    "def train_mdn():\n",
    "    for epoch in range(100):\n",
    "        pi_variable, sigma_variable, mu_variable = mdn(x_variable)\n",
    "        loss = mdn_loss_fn(pi_variable, sigma_variable, mu_variable, y_variable)\n",
    "        optimizer.zero_grad()\n",
    "        loss.backward()\n",
    "        optimizer.step()\n",
    "        \n",
    "        if epoch % 10 == 0:\n",
    "            print(f'Epoch {epoch}: loss = {loss.data[0]}')\n",
    "\n",
    "train_mdn()"
   ]
  },
  {
   "cell_type": "code",
   "execution_count": null,
   "metadata": {},
   "outputs": [],
   "source": []
  }
 ],
 "metadata": {
  "kernelspec": {
   "display_name": "Python 3.8.13 ('base')",
   "language": "python",
   "name": "python3"
  },
  "language_info": {
   "codemirror_mode": {
    "name": "ipython",
    "version": 3
   },
   "file_extension": ".py",
   "mimetype": "text/x-python",
   "name": "python",
   "nbconvert_exporter": "python",
   "pygments_lexer": "ipython3",
   "version": "3.8.13"
  },
  "orig_nbformat": 4,
  "vscode": {
   "interpreter": {
    "hash": "e234d837eebba94c7397b4e38c0b82bd3e4741cb2c390182a3fb441eaf8f3cd5"
   }
  }
 },
 "nbformat": 4,
 "nbformat_minor": 2
}
