{
 "cells": [
  {
   "cell_type": "code",
   "execution_count": 1,
   "metadata": {},
   "outputs": [
    {
     "name": "stdout",
     "output_type": "stream",
     "text": [
      "read_cities(*(PosixPath('/gcsmount-research-data-staging/osmnx-cities/hexed-complete'),), **{'cities': ['Boston, USA', 'Austin, USA', 'Seattle, USA', 'Los Angeles, USA'], 'add_city_col': True})\n",
      "create_super_tags(*(), **{})\n",
      "Merge building_residential + building_house -> building_yes(*(), **{})\n",
      "drop_zero_buildings(*(), **{})\n",
      "drop_zero_building_area(*(), **{})\n",
      "add_new_special_tag(*('building.area.average',), **{})\n",
      "add_new_special_tag(*('parking.area.average',), **{})\n",
      "append_route_df(*(), **{'grouped': False, 'tukey_fences': False})\n",
      "open_route_df(*(), **{'grouped': False, 'tukey_fences': False})\n",
      "drop_zero_tags(*(), **{})\n"
     ]
    }
   ],
   "source": [
    "%load_ext autoreload\n",
    "%autoreload 2\n",
    "\n",
    "# --------------------------------------------------------------------------------\n",
    "\n",
    "import os\n",
    "import sys\n",
    "from pathlib import Path\n",
    "import numpy as np\n",
    "np.warnings.filterwarnings('ignore')\n",
    "\n",
    "# hex2cec\n",
    "HOME = os.environ[\"HOME\"]\n",
    "\n",
    "sys.path.insert(0, f\"{os.environ['HOME']}/hex2vec\")\n",
    "sys.path.insert(0, f\"{os.environ['HOME']}/amazon-routing-challenge\")\n",
    "sys.path.insert(0, '/home/ext_navish_iitkgp_gmail_com/cqr')\n",
    "\n",
    "# add codebase\n",
    "sys.path.insert(0, f\"/gcsmount-notebook/codebase\")\n",
    "\n",
    "from src.data.make_dataset import h3_to_polygon\n",
    "import urban_tools.constants as uc\n",
    "import urban_tools.hex_pipeline as hp\n",
    "from urban_tools.hex_pipeline import RouteHexHandler, TestTrainManager\n",
    "from urban_tools.pipelines import route_hex_pipeline\n",
    "import numpy as np\n",
    "import plotly.graph_objects as go\n",
    "import pandas as pd\n",
    "import geopandas as gpd\n",
    "import h3\n",
    "import gcsfs\n",
    "\n",
    "%matplotlib inline\n",
    "import matplotlib.pyplot as plt\n",
    "## Read in the DataFrame\n",
    "\n",
    "p = Path(\"/gcsmount-research-data-staging/osmnx-cities/hexed-routes/12.12.22-Revised-Embeddings/hh.pkl\")\n",
    "hh = RouteHexHandler.from_pickle(p)\n",
    "hh.print_history()\n",
    "hh = hh.drop_zero_tags()\n",
    "### Drop Tags that occur in <X% of a City\n",
    "# percentage = 0.01\n",
    "# import pandas as pd\n",
    "\n",
    "# drop_cols = pd.Index([])\n",
    "# for _hh in [hh]:\n",
    "#     assert _hh.df[\"city\"].unique().shape[0] == 1\n",
    "#     h3_df = _hh.df.groupby('h3')[_hh.all_tags].first()\n",
    "#     percent_occurance = (h3_df > 0).sum() / h3_df.shape[0]\n",
    "#     drop_cols = drop_cols.union(percent_occurance[percent_occurance < percentage].index)\n",
    "# hh.drop_cols(drop_cols)\n",
    "# len(hh.all_tags)\n",
    "### Append the embedding to the dataframe\n",
    "# embedding_df = pd.read_parquet(\n",
    "#     hh.my_folder / \"embeddings.prq\"\n",
    "# )\n",
    "embedding_df = pd.read_feather(\n",
    "    \"/gcsmount-research-data-staging/hex2vec-models/paper-final/embedding_dfs/subtags+cities+littlemodel.feather\"\n",
    ")\n",
    "embedding_df = embedding_df.set_index(\"h3\")\n",
    "# embedding_df.columns = [f\"e_{e}\" for e in embedding_df.columns]\n",
    "# embedding_df = embedding_df[embedding_df.columns.str.]\n",
    "# embedding_columns = embedding_df.columns.copy()\n",
    "# embedding_df = embedding_df.reset_index()\n",
    "\n",
    "hh.df = hh.df.merge(embedding_df, on=\"h3\", how=\"left\")\n",
    "hh.update_tags()\n",
    "hh.df = hh.df.dropna(subset=hh.embeddings)\n",
    "### Filter for only H3 with > X Data Points\n",
    "\n",
    "# tagged_df = tagged_df.loc[tagged_df[\"h3_9\"] > 20].copy()\n",
    "hh = hh.filter_hex_occurance(20)\n",
    "hh.df = hh.df[hh.df.city.str.contains('Boston')]\n",
    "# hh.df.drop(\"h3_9\", axis=1, inplace=True)\n",
    "# print(tagged_df.shape)\n",
    "hh.df = hh.df.reset_index(drop=True)"
   ]
  },
  {
   "attachments": {},
   "cell_type": "markdown",
   "metadata": {},
   "source": [
    "### Create the TT Manager"
   ]
  },
  {
   "cell_type": "code",
   "execution_count": 2,
   "metadata": {},
   "outputs": [],
   "source": [
    "from sklearn.model_selection import train_test_split, KFold, cross_val_score\n",
    "from sklearn.preprocessing import StandardScaler, MinMaxScaler, RobustScaler\n",
    "from sklearn import metrics\n",
    "from scipy.stats import pearsonr"
   ]
  },
  {
   "cell_type": "code",
   "execution_count": 3,
   "metadata": {},
   "outputs": [],
   "source": [
    "tt = TestTrainManager(\n",
    "    hh.df,\n",
    "    x_col=hh.embeddings.union(hh.special_tags).union(hh.super_tags),\n",
    "    y_col=[\"planned_service_time_log\"],\n",
    "    scaler=RobustScaler,\n",
    "    grouped=False,\n",
    "    desired_quantiles=[0.5, 0.90]\n",
    ")\n",
    "\n",
    "tt.split_test_train(train_size=0.8, random_seed=42)\n",
    "tt.scale_test_train()\n",
    "tt.build_test_df(agg=False)"
   ]
  },
  {
   "cell_type": "code",
   "execution_count": 4,
   "metadata": {},
   "outputs": [],
   "source": [
    "X_train, y_train, X_test, y_test = tt.X_train.values, tt.Y_train.planned_service_time_log.values.ravel(), tt.X_test.values, tt.Y_test.loc.values\n",
    "n_train = X_train.shape[0]\n",
    "# X_train, X_cal, y_train, y_cal = train_test_split(X_train, y_train, test_size=0.2, random_state=42)\n",
    "\n",
    "# divide the data into proper training set and calibration set\n",
    "idx = np.random.permutation(n_train)\n",
    "n_half = int(np.floor(n_train/2))\n",
    "idx_train, idx_cal = idx[:n_half], idx[n_half:2*n_half]"
   ]
  },
  {
   "cell_type": "code",
   "execution_count": 5,
   "metadata": {},
   "outputs": [
    {
     "data": {
      "text/plain": [
       "((14135, 74), (3347, 74))"
      ]
     },
     "execution_count": 5,
     "metadata": {},
     "output_type": "execute_result"
    }
   ],
   "source": [
    "X_train.shape, X_test.shape"
   ]
  },
  {
   "attachments": {},
   "cell_type": "markdown",
   "metadata": {},
   "source": [
    "## PCA"
   ]
  },
  {
   "cell_type": "code",
   "execution_count": 6,
   "metadata": {},
   "outputs": [],
   "source": [
    "import numpy as np\n",
    "import pandas as pd\n",
    "import plotly.express as px\n",
    "import matplotlib.pyplot as plt\n",
    "from sklearn.decomposition import PCA, KernelPCA\n",
    "import statistics as stat\n",
    "from sklearn.linear_model import LinearRegression\n",
    "import math\n",
    "from sklearn import metrics\n",
    "%matplotlib inline"
   ]
  },
  {
   "cell_type": "code",
   "execution_count": 7,
   "metadata": {},
   "outputs": [
    {
     "data": {
      "image/png": "[encoded data removed]",
      "text/plain": [
       "<Figure size 1080x360 with 2 Axes>"
      ]
     },
     "metadata": {
      "needs_background": "light"
     },
     "output_type": "display_data"
    }
   ],
   "source": [
    "# n_components = X_train.shape[1]\n",
    "n_components = 5\n",
    "pca = PCA(n_components=n_components)\n",
    "# pca = KernelPCA(n_components=n_components, kernel='rbf', gamma=0.1)\n",
    "X_pca = pca.fit_transform(X_train)\n",
    "explained_variance=pca.explained_variance_ratio_\n",
    "\n",
    "# explained_variance = np.var(X_pca, axis=0) / np.sum(np.var(X_pca, axis=0))\n",
    "\n",
    "# create subplots for cumulative explained variance and individual explained variance\n",
    "fig, (ax1, ax2) = plt.subplots(1, 2, figsize=(15, 5))\n",
    "\n",
    "# plot individual explained variance\n",
    "ax1.bar(range(n_components), explained_variance, label='individual explained variance')\n",
    "ax1.set_xlabel(f'Principal components = {n_components}')\n",
    "ax1.set_ylabel('Explained variance')\n",
    "ax1.legend()\n",
    "\n",
    "# plot cumulative explained variance\n",
    "ax2.plot(np.cumsum(explained_variance))\n",
    "ax2.set_xlabel('Number of components')\n",
    "ax2.set_ylabel('Cumulative explained variance')\n",
    "\n",
    "plt.show()\n"
   ]
  },
  {
   "cell_type": "code",
   "execution_count": 8,
   "metadata": {},
   "outputs": [
    {
     "name": "stdout",
     "output_type": "stream",
     "text": [
      "Dataset: Boston Delivery Level\n",
      "Dimensions: train set (n=14135, d=5) ; test set (n=3347, d=5)\n"
     ]
    }
   ],
   "source": [
    "import torch\n",
    "import random\n",
    "from sklearn.model_selection import train_test_split\n",
    "\n",
    "seed = 1\n",
    "\n",
    "random_state_train_test = seed\n",
    "random.seed(seed)\n",
    "np.random.seed(seed)\n",
    "torch.manual_seed(seed)\n",
    "if torch.cuda.is_available():\n",
    "    torch.cuda.manual_seed_all(seed)\n",
    "    \n",
    "# desired miscoverage error\n",
    "alpha = 0.1\n",
    "\n",
    "# desired quanitile levels\n",
    "quantiles = [0.05, 0.95]\n",
    "\n",
    "# using PCA components instead of raw data\n",
    "X_train = X_pca\n",
    "X_test = pca.transform(X_test)\n",
    "\n",
    "# compute input dimensions\n",
    "n_train = X_train.shape[0]\n",
    "in_shape = X_train.shape[1]\n",
    "\n",
    "# display basic information\n",
    "print(\"Dataset: %s\" % ('Boston Delivery Level'))\n",
    "print(\"Dimensions: train set (n=%d, d=%d) ; test set (n=%d, d=%d)\" % \n",
    "      (X_train.shape[0], X_train.shape[1], X_test.shape[0], X_test.shape[1]))"
   ]
  },
  {
   "attachments": {},
   "cell_type": "markdown",
   "metadata": {},
   "source": [
    "### CQR random forests"
   ]
  },
  {
   "cell_type": "code",
   "execution_count": 9,
   "metadata": {},
   "outputs": [],
   "source": [
    "#########################################################\n",
    "# Quantile random forests parameters\n",
    "# (See QuantileForestRegressorAdapter class in helper.py): https://github.com/yromano/cqr/blob/master/cqr/helper.py\n",
    "#########################################################\n",
    "\n",
    "# the number of trees in the forest\n",
    "n_estimators = 1000\n",
    "\n",
    "# the minimum number of samples required to be at a leaf node\n",
    "# (default skgarden's parameter)\n",
    "min_samples_leaf = 1\n",
    "\n",
    "# the number of features to consider when looking for the best split\n",
    "# (default skgarden's parameter)\n",
    "max_features = X_train.shape[1]\n",
    "\n",
    "# target quantile levels\n",
    "quantiles_forest = [quantiles[0]*100, quantiles[1]*100]\n",
    "\n",
    "# use cross-validation to tune the quantile levels?\n",
    "cv_qforest = True\n",
    "\n",
    "# when tuning the two QRF quantile levels one may\n",
    "# ask for a prediction band with smaller average coverage\n",
    "# to avoid too conservative estimation of the prediction band\n",
    "# This would be equal to coverage_factor*(quantiles[1] - quantiles[0])\n",
    "coverage_factor = 0.85\n",
    "\n",
    "# ratio of held-out data, used in cross-validation\n",
    "cv_test_ratio = 0.05\n",
    "\n",
    "# seed for splitting the data in cross-validation.\n",
    "# Also used as the seed in quantile random forests function\n",
    "cv_random_state = 1\n",
    "\n",
    "# determines the lowest and highest quantile level parameters.\n",
    "# This is used when tuning the quanitle levels by cross-validation.\n",
    "# The smallest value is equal to quantiles[0] - range_vals.\n",
    "# Similarly, the largest value is equal to quantiles[1] + range_vals.\n",
    "cv_range_vals = 30\n",
    "\n",
    "# sweep over a grid of length num_vals when tuning QRF's quantile parameters                   \n",
    "cv_num_vals = 10"
   ]
  },
  {
   "cell_type": "code",
   "execution_count": 10,
   "metadata": {},
   "outputs": [],
   "source": [
    "# !pip install -U scikit-learn==0.21.3"
   ]
  },
  {
   "cell_type": "code",
   "execution_count": 11,
   "metadata": {},
   "outputs": [
    {
     "name": "stderr",
     "output_type": "stream",
     "text": [
      "/home/ext_navish_iitkgp_gmail_com/.local/lib/python3.8/site-packages/sklearn/ensemble/gradient_boosting.py:32: DeprecationWarning: `np.bool` is a deprecated alias for the builtin `bool`. To silence this warning, use `bool` by itself. Doing this will not modify any behavior and is safe. If you specifically wanted the numpy scalar type, use `np.bool_` here.\n",
      "Deprecated in NumPy 1.20; for more details and guidance: https://numpy.org/devdocs/release/1.20.0-notes.html#deprecations\n",
      "  from ._gradient_boosting import predict_stages\n",
      "/home/ext_navish_iitkgp_gmail_com/.local/lib/python3.8/site-packages/sklearn/ensemble/gradient_boosting.py:32: DeprecationWarning: `np.bool` is a deprecated alias for the builtin `bool`. To silence this warning, use `bool` by itself. Doing this will not modify any behavior and is safe. If you specifically wanted the numpy scalar type, use `np.bool_` here.\n",
      "Deprecated in NumPy 1.20; for more details and guidance: https://numpy.org/devdocs/release/1.20.0-notes.html#deprecations\n",
      "  from ._gradient_boosting import predict_stages\n",
      "/home/ext_navish_iitkgp_gmail_com/.local/lib/python3.8/site-packages/sklearn/externals/six.py:28: DeprecationWarning: The module is deprecated in version 0.21 and will be removed in version 0.23 since we've dropped support for Python 2.7. Please rely on the official version of six (https://pypi.org/project/six/).\n",
      "  warnings.warn(\"The module is deprecated in version 0.21 and will be removed \"\n",
      "/home/ext_navish_iitkgp_gmail_com/.local/lib/python3.8/site-packages/sklearn/utils/fixes.py:230: DeprecationWarning: distutils Version classes are deprecated. Use packaging.version instead.\n",
      "  if _joblib.__version__ >= LooseVersion('0.12'):\n",
      "/home/ext_navish_iitkgp_gmail_com/.local/lib/python3.8/site-packages/sklearn/utils/fixes.py:230: DeprecationWarning: distutils Version classes are deprecated. Use packaging.version instead.\n",
      "  if _joblib.__version__ >= LooseVersion('0.12'):\n",
      "/home/ext_navish_iitkgp_gmail_com/.local/lib/python3.8/site-packages/sklearn/utils/fixes.py:230: DeprecationWarning: distutils Version classes are deprecated. Use packaging.version instead.\n",
      "  if _joblib.__version__ >= LooseVersion('0.12'):\n",
      "/home/ext_navish_iitkgp_gmail_com/.local/lib/python3.8/site-packages/sklearn/utils/fixes.py:230: DeprecationWarning: distutils Version classes are deprecated. Use packaging.version instead.\n",
      "  if _joblib.__version__ >= LooseVersion('0.12'):\n",
      "/home/ext_navish_iitkgp_gmail_com/.local/lib/python3.8/site-packages/sklearn/utils/fixes.py:230: DeprecationWarning: distutils Version classes are deprecated. Use packaging.version instead.\n",
      "  if _joblib.__version__ >= LooseVersion('0.12'):\n",
      "/home/ext_navish_iitkgp_gmail_com/.local/lib/python3.8/site-packages/sklearn/utils/fixes.py:230: DeprecationWarning: distutils Version classes are deprecated. Use packaging.version instead.\n",
      "  if _joblib.__version__ >= LooseVersion('0.12'):\n",
      "/home/ext_navish_iitkgp_gmail_com/.local/lib/python3.8/site-packages/sklearn/utils/fixes.py:230: DeprecationWarning: distutils Version classes are deprecated. Use packaging.version instead.\n",
      "  if _joblib.__version__ >= LooseVersion('0.12'):\n",
      "/home/ext_navish_iitkgp_gmail_com/.local/lib/python3.8/site-packages/sklearn/utils/fixes.py:230: DeprecationWarning: distutils Version classes are deprecated. Use packaging.version instead.\n",
      "  if _joblib.__version__ >= LooseVersion('0.12'):\n",
      "/home/ext_navish_iitkgp_gmail_com/.local/lib/python3.8/site-packages/sklearn/utils/fixes.py:230: DeprecationWarning: distutils Version classes are deprecated. Use packaging.version instead.\n",
      "  if _joblib.__version__ >= LooseVersion('0.12'):\n",
      "/home/ext_navish_iitkgp_gmail_com/.local/lib/python3.8/site-packages/sklearn/utils/fixes.py:230: DeprecationWarning: distutils Version classes are deprecated. Use packaging.version instead.\n",
      "  if _joblib.__version__ >= LooseVersion('0.12'):\n",
      "/home/ext_navish_iitkgp_gmail_com/.local/lib/python3.8/site-packages/sklearn/utils/fixes.py:230: DeprecationWarning: distutils Version classes are deprecated. Use packaging.version instead.\n",
      "  if _joblib.__version__ >= LooseVersion('0.12'):\n",
      "/home/ext_navish_iitkgp_gmail_com/.local/lib/python3.8/site-packages/sklearn/utils/fixes.py:230: DeprecationWarning: distutils Version classes are deprecated. Use packaging.version instead.\n",
      "  if _joblib.__version__ >= LooseVersion('0.12'):\n"
     ]
    },
    {
     "name": "stdout",
     "output_type": "stream",
     "text": [
      "CQR Random Forests: Percentage in the range (expecting 90.00): 91.723932\n",
      "CQR Random Forests: Average length: 2.268667\n"
     ]
    }
   ],
   "source": [
    "from cqr import helper\n",
    "from nonconformist.nc import RegressorNc\n",
    "from nonconformist.nc import QuantileRegErrFunc\n",
    "\n",
    "\n",
    "# define the QRF's parameters \n",
    "params_qforest = dict()\n",
    "params_qforest[\"n_estimators\"] = n_estimators\n",
    "params_qforest[\"min_samples_leaf\"] = min_samples_leaf\n",
    "params_qforest[\"max_features\"] = max_features\n",
    "params_qforest[\"CV\"] = cv_qforest\n",
    "params_qforest[\"coverage_factor\"] = coverage_factor\n",
    "params_qforest[\"test_ratio\"] = cv_test_ratio\n",
    "params_qforest[\"random_state\"] = cv_random_state\n",
    "params_qforest[\"range_vals\"] = cv_range_vals\n",
    "params_qforest[\"num_vals\"] = cv_num_vals\n",
    "\n",
    "# define QRF model\n",
    "quantile_estimator = helper.QuantileForestRegressorAdapter(model=None,\n",
    "                                                           fit_params=None,\n",
    "                                                           quantiles=quantiles_forest,\n",
    "                                                           params=params_qforest)\n",
    "        \n",
    "# define the CQR object\n",
    "nc = RegressorNc(quantile_estimator, QuantileRegErrFunc())\n",
    "\n",
    "# run CQR procedure\n",
    "y_lower, y_upper = helper.run_icp(nc, X_train, y_train, X_test, idx_train, idx_cal, alpha)\n",
    "\n",
    "# compute and print average coverage and average length\n",
    "coverage_cp_qforest, length_cp_qforest = helper.compute_coverage(y_test,\n",
    "                                                                 y_lower,\n",
    "                                                                 y_upper,\n",
    "                                                                 alpha,\n",
    "                                                                 \"CQR Random Forests\")"
   ]
  },
  {
   "attachments": {},
   "cell_type": "markdown",
   "metadata": {},
   "source": [
    "\n",
    "### Asymmetric nonconformity score "
   ]
  },
  {
   "cell_type": "code",
   "execution_count": 11,
   "metadata": {},
   "outputs": [
    {
     "ename": "NameError",
     "evalue": "name 'helper' is not defined",
     "output_type": "error",
     "traceback": [
      "\u001b[0;31m---------------------------------------------------------------------------\u001b[0m",
      "\u001b[0;31mNameError\u001b[0m                                 Traceback (most recent call last)",
      "\u001b[1;32m/home/ext_navish_iitkgp_gmail_com/ganRegression/notebook/Conformal_quantile_regression.ipynb Cell 16\u001b[0m in \u001b[0;36m<cell line: 6>\u001b[0;34m()\u001b[0m\n\u001b[1;32m      <a href='vscode-notebook-cell://ssh-remote%2Bdataproc-remote/home/ext_navish_iitkgp_gmail_com/ganRegression/notebook/Conformal_quantile_regression.ipynb#X21sdnNjb2RlLXJlbW90ZQ%3D%3D?line=2'>3</a>\u001b[0m np\u001b[39m.\u001b[39mwarnings\u001b[39m.\u001b[39mfilterwarnings(\u001b[39m'\u001b[39m\u001b[39mignore\u001b[39m\u001b[39m'\u001b[39m)\n\u001b[1;32m      <a href='vscode-notebook-cell://ssh-remote%2Bdataproc-remote/home/ext_navish_iitkgp_gmail_com/ganRegression/notebook/Conformal_quantile_regression.ipynb#X21sdnNjb2RlLXJlbW90ZQ%3D%3D?line=4'>5</a>\u001b[0m \u001b[39m# define QRF model\u001b[39;00m\n\u001b[0;32m----> <a href='vscode-notebook-cell://ssh-remote%2Bdataproc-remote/home/ext_navish_iitkgp_gmail_com/ganRegression/notebook/Conformal_quantile_regression.ipynb#X21sdnNjb2RlLXJlbW90ZQ%3D%3D?line=5'>6</a>\u001b[0m quantile_estimator \u001b[39m=\u001b[39m helper\u001b[39m.\u001b[39mQuantileForestRegressorAdapter(model\u001b[39m=\u001b[39m\u001b[39mNone\u001b[39;00m,\n\u001b[1;32m      <a href='vscode-notebook-cell://ssh-remote%2Bdataproc-remote/home/ext_navish_iitkgp_gmail_com/ganRegression/notebook/Conformal_quantile_regression.ipynb#X21sdnNjb2RlLXJlbW90ZQ%3D%3D?line=6'>7</a>\u001b[0m                                                            fit_params\u001b[39m=\u001b[39m\u001b[39mNone\u001b[39;00m,\n\u001b[1;32m      <a href='vscode-notebook-cell://ssh-remote%2Bdataproc-remote/home/ext_navish_iitkgp_gmail_com/ganRegression/notebook/Conformal_quantile_regression.ipynb#X21sdnNjb2RlLXJlbW90ZQ%3D%3D?line=7'>8</a>\u001b[0m                                                            quantiles\u001b[39m=\u001b[39mquantiles_forest,\n\u001b[1;32m      <a href='vscode-notebook-cell://ssh-remote%2Bdataproc-remote/home/ext_navish_iitkgp_gmail_com/ganRegression/notebook/Conformal_quantile_regression.ipynb#X21sdnNjb2RlLXJlbW90ZQ%3D%3D?line=8'>9</a>\u001b[0m                                                            params\u001b[39m=\u001b[39mparams_qforest)\n\u001b[1;32m     <a href='vscode-notebook-cell://ssh-remote%2Bdataproc-remote/home/ext_navish_iitkgp_gmail_com/ganRegression/notebook/Conformal_quantile_regression.ipynb#X21sdnNjb2RlLXJlbW90ZQ%3D%3D?line=10'>11</a>\u001b[0m \u001b[39m# define the CQR object\u001b[39;00m\n\u001b[1;32m     <a href='vscode-notebook-cell://ssh-remote%2Bdataproc-remote/home/ext_navish_iitkgp_gmail_com/ganRegression/notebook/Conformal_quantile_regression.ipynb#X21sdnNjb2RlLXJlbW90ZQ%3D%3D?line=11'>12</a>\u001b[0m nc \u001b[39m=\u001b[39m RegressorNc(quantile_estimator, QuantileRegAsymmetricErrFunc())\n",
      "\u001b[0;31mNameError\u001b[0m: name 'helper' is not defined"
     ]
    }
   ],
   "source": [
    "from nonconformist.nc import QuantileRegAsymmetricErrFunc\n",
    "import numpy as np\n",
    "np.warnings.filterwarnings('ignore')\n",
    "\n",
    "# define QRF model\n",
    "quantile_estimator = helper.QuantileForestRegressorAdapter(model=None,\n",
    "                                                           fit_params=None,\n",
    "                                                           quantiles=quantiles_forest,\n",
    "                                                           params=params_qforest)\n",
    "        \n",
    "# define the CQR object\n",
    "nc = RegressorNc(quantile_estimator, QuantileRegAsymmetricErrFunc())\n",
    "\n",
    "# run CQR procedure\n",
    "y_lower, y_upper = helper.run_icp(nc, X_train, y_train, X_test, idx_train, idx_cal, alpha)\n",
    "\n",
    "# compute and print average coverage and average length\n",
    "coverage_cp_qforest, length_cp_qforest = helper.compute_coverage(y_test,\n",
    "                                                                 y_lower,\n",
    "                                                                 y_upper,\n",
    "                                                                 alpha,\n",
    "                                                                 \"Asymmetric CQR Random Forests\")"
   ]
  },
  {
   "attachments": {},
   "cell_type": "markdown",
   "metadata": {},
   "source": [
    "## CQR neural net"
   ]
  },
  {
   "cell_type": "code",
   "execution_count": null,
   "metadata": {},
   "outputs": [],
   "source": [
    "#####################################################\n",
    "# Neural network parameters\n",
    "# (See AllQNet_RegressorAdapter class in helper.py)\n",
    "#####################################################\n",
    "\n",
    "# pytorch's optimizer object\n",
    "nn_learn_func = torch.optim.Adam\n",
    "\n",
    "# number of epochs\n",
    "epochs = 1000\n",
    "\n",
    "# learning rate\n",
    "lr = 0.0005\n",
    "\n",
    "# mini-batch size\n",
    "batch_size = 64\n",
    "\n",
    "# hidden dimension of the network\n",
    "hidden_size = 64\n",
    "\n",
    "# dropout regularization rate\n",
    "dropout = 0.1\n",
    "\n",
    "# weight decay regularization\n",
    "wd = 1e-6\n",
    "\n",
    "# Ask for a reduced coverage when tuning the network parameters by \n",
    "# cross-validataion to avoid too concervative initial estimation of the \n",
    "# prediction interval. This estimation will be conformalized by CQR.\n",
    "quantiles_net = [0.1, 0.9]"
   ]
  },
  {
   "cell_type": "code",
   "execution_count": null,
   "metadata": {},
   "outputs": [
    {
     "name": "stdout",
     "output_type": "stream",
     "text": [
      "CQR Neural Net: Percentage in the range (expecting 90.00): 100.000000\n",
      "CQR Neural Net: Average length: 2.101049\n"
     ]
    }
   ],
   "source": [
    "# define quantile neural network model\n",
    "quantile_estimator = helper.AllQNet_RegressorAdapter(model=None,\n",
    "                                                     fit_params=None,\n",
    "                                                     in_shape=in_shape,\n",
    "                                                     hidden_size=hidden_size,\n",
    "                                                     quantiles=quantiles_net,\n",
    "                                                     learn_func=nn_learn_func,\n",
    "                                                     epochs=epochs,\n",
    "                                                     batch_size=batch_size,\n",
    "                                                     dropout=dropout,\n",
    "                                                     lr=lr,\n",
    "                                                     wd=wd,\n",
    "                                                     test_ratio=cv_test_ratio,\n",
    "                                                     random_state=cv_random_state,\n",
    "                                                     use_rearrangement=False)\n",
    "\n",
    "# define a CQR object, computes the absolute residual error of points \n",
    "# located outside the estimated quantile neural network band \n",
    "nc = RegressorNc(quantile_estimator, QuantileRegErrFunc())\n",
    "\n",
    "# run CQR procedure\n",
    "y_lower, y_upper = helper.run_icp(nc, X_train.astype(np.float32), y_train.astype(np.float32), X_test.astype(np.float32), idx_train, idx_cal, alpha)\n",
    "\n",
    "# compute and print average coverage and average length\n",
    "coverage_cp_qnet, length_cp_qnet = helper.compute_coverage(y_test,\n",
    "                                                           y_lower,\n",
    "                                                           y_upper,\n",
    "                                                           alpha,\n",
    "                                                           \"CQR Neural Net\")"
   ]
  },
  {
   "attachments": {},
   "cell_type": "markdown",
   "metadata": {},
   "source": [
    "## CQR neural net with rearrangement"
   ]
  },
  {
   "cell_type": "code",
   "execution_count": null,
   "metadata": {},
   "outputs": [
    {
     "name": "stdout",
     "output_type": "stream",
     "text": [
      "CQR Rearrangement Neural Net: Percentage in the range (expecting 90.00): 100.000000\n",
      "CQR Rearrangement Neural Net: Average length: 2.093840\n"
     ]
    }
   ],
   "source": [
    "# define quantile neural network model, using the rearrangement algorithm\n",
    "quantile_estimator = helper.AllQNet_RegressorAdapter(model=None,\n",
    "                                                     fit_params=None,\n",
    "                                                     in_shape=in_shape,\n",
    "                                                     hidden_size=hidden_size,\n",
    "                                                     quantiles=quantiles_net,\n",
    "                                                     learn_func=nn_learn_func,\n",
    "                                                     epochs=epochs,\n",
    "                                                     batch_size=batch_size,\n",
    "                                                     dropout=dropout,\n",
    "                                                     lr=lr,\n",
    "                                                     wd=wd,\n",
    "                                                     test_ratio=cv_test_ratio,\n",
    "                                                     random_state=cv_random_state,\n",
    "                                                     use_rearrangement=True)\n",
    "\n",
    "# define the CQR object, computing the absolute residual error of points \n",
    "# located outside the estimated quantile neural network band \n",
    "nc = RegressorNc(quantile_estimator, QuantileRegErrFunc())\n",
    "\n",
    "# run CQR procedure\n",
    "y_lower, y_upper = helper.run_icp(nc, X_train.astype(np.float32), y_train.astype(np.float32), X_test.astype(np.float32), idx_train, idx_cal, alpha)\n",
    "\n",
    "# compute and print average coverage and average length\n",
    "coverage_cp_re_qnet, length_cp_re_qnet = helper.compute_coverage(y_test,\n",
    "                                                                 y_lower,\n",
    "                                                                 y_upper,\n",
    "                                                                 alpha,\n",
    "                                                                 \"CQR Rearrangement Neural Net\")"
   ]
  },
  {
   "cell_type": "code",
   "execution_count": null,
   "metadata": {},
   "outputs": [],
   "source": []
  }
 ],
 "metadata": {
  "kernelspec": {
   "display_name": "base",
   "language": "python",
   "name": "python3"
  },
  "language_info": {
   "codemirror_mode": {
    "name": "ipython",
    "version": 3
   },
   "file_extension": ".py",
   "mimetype": "text/x-python",
   "name": "python",
   "nbconvert_exporter": "python",
   "pygments_lexer": "ipython3",
   "version": "3.8.13 | packaged by conda-forge | (default, Mar 25 2022, 06:04:10) \n[GCC 10.3.0]"
  },
  "orig_nbformat": 4,
  "vscode": {
   "interpreter": {
    "hash": "e234d837eebba94c7397b4e38c0b82bd3e4741cb2c390182a3fb441eaf8f3cd5"
   }
  }
 },
 "nbformat": 4,
 "nbformat_minor": 2
}
